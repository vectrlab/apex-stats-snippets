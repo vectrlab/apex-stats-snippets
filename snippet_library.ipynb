{
  "cells": [
    {
      "cell_type": "markdown",
      "metadata": {
        "id": "view-in-github",
        "colab_type": "text"
      },
      "source": [
        "<a href=\"https://colab.research.google.com/github/vectrlab/apex-stats-snippets/blob/main/snippet_library.ipynb\" target=\"_parent\"><img src=\"https://colab.research.google.com/assets/colab-badge.svg\" alt=\"Open In Colab\"/></a>"
      ]
    },
    {
      "cell_type": "markdown",
      "metadata": {
        "id": "wPFYkYNtf6i2"
      },
      "source": [
        "# APEX STATS Code Snippets\n",
        "\n",
        "Licensed under CC BY-NC-SA\n",
        "\n",
        "Release 1.4"
      ]
    },
    {
      "cell_type": "markdown",
      "metadata": {
        "id": "H8zZNFBXp5Rc"
      },
      "source": [
        "# Data Setup"
      ]
    },
    {
      "cell_type": "code",
      "execution_count": null,
      "metadata": {
        "id": "M5E0Lh7xfyqd"
      },
      "outputs": [],
      "source": [
        "#@title Setup Blank Data\n",
        "\n",
        "# Import library\n",
        "import pandas as pd\n",
        "\n",
        "# Blank data frame\n",
        "df = pd.DataFrame()"
      ]
    },
    {
      "cell_type": "code",
      "execution_count": null,
      "metadata": {
        "id": "dq6DZMQtrt4y"
      },
      "outputs": [],
      "source": [
        "#@title Setup Example Data: Health Nutrition\n",
        "\n",
        "# Import library\n",
        "import pandas as pd\n",
        "\n",
        "# Read data file: Health Nutrition\n",
        "data = pd.read_csv('https://raw.githubusercontent.com/vectrlab/apex-stats-datasets/main/healthnutritionandpopulation/example.csv')\n",
        "\n",
        "# Preview data\n",
        "data"
      ]
    },
    {
      "cell_type": "code",
      "execution_count": null,
      "metadata": {
        "id": "wEKbZI31HaRh"
      },
      "outputs": [],
      "source": [
        "#@title Setup Example Data: Red Wine Quality\n",
        "\n",
        "# Import library\n",
        "import pandas as pd\n",
        "\n",
        "# Read data file: Red Wine Quality\n",
        "data = pd.read_csv('https://raw.githubusercontent.com/vectrlab/apex-stats-datasets/main/red-wine-quality/example.csv')\n",
        "\n",
        "# Preview data\n",
        "data"
      ]
    },
    {
      "cell_type": "code",
      "execution_count": null,
      "metadata": {
        "id": "bNx7z--7H2mc"
      },
      "outputs": [],
      "source": [
        "#@title Setup Example Data: Connecticut Housing\n",
        "\n",
        "# Import library\n",
        "import pandas as pd\n",
        "\n",
        "# Read data file: Connecticut Housing\n",
        "data = pd.read_csv('https://raw.githubusercontent.com/vectrlab/apex-stats-datasets/main/connecticut-housing/example.csv')\n",
        "\n",
        "# Preview data\n",
        "data"
      ]
    },
    {
      "cell_type": "code",
      "execution_count": null,
      "metadata": {
        "id": "6__W_Co9rKAZ"
      },
      "outputs": [],
      "source": [
        "#@title Setup Example Data: FIFA19\n",
        "\n",
        "# Import library\n",
        "import pandas as pd\n",
        "\n",
        "# Read data file: FIFA19\n",
        "data = pd.read_csv('https://raw.githubusercontent.com/vectrlab/apex-stats-datasets/main/fifa19/example.csv')\n",
        "\n",
        "# Preview data\n",
        "data"
      ]
    },
    {
      "cell_type": "code",
      "source": [
        "#@title Setup Example Data: IMDB\n",
        "\n",
        "# Import library\n",
        "import pandas as pd\n",
        "\n",
        "# Read data file: IMDB\n",
        "data = pd.read_csv('https://raw.githubusercontent.com/vectrlab/apex-stats-datasets/main/movies/movie_metadata.csv')\n",
        "\n",
        "# Preview data\n",
        "data"
      ],
      "metadata": {
        "id": "GlyK1-FV1v-q"
      },
      "execution_count": null,
      "outputs": []
    },
    {
      "cell_type": "code",
      "source": [
        "#@title Setup Example Data: Salary\n",
        "\n",
        "# Import library\n",
        "import pandas as pd\n",
        "\n",
        "# Read data file: Salary\n",
        "data = pd.read_csv('https://raw.githubusercontent.com/vectrlab/apex-stats-datasets/main/salary/example.csv')\n",
        "\n",
        "# Preview data\n",
        "data"
      ],
      "metadata": {
        "id": "yM3c-GWKYHy2"
      },
      "execution_count": null,
      "outputs": []
    },
    {
      "cell_type": "code",
      "source": [
        "#@title Setup Example Data: Cars\n",
        "\n",
        "# Import library\n",
        "import pandas as pd\n",
        "\n",
        "# Read data file: Cars\n",
        "data = pd.read_csv('https://raw.githubusercontent.com/vectrlab/apex-stats-datasets/main/cars/example.csv')\n",
        "\n",
        "# Preview data\n",
        "data"
      ],
      "metadata": {
        "id": "upiWhsV_RHPz"
      },
      "execution_count": null,
      "outputs": []
    },
    {
      "cell_type": "code",
      "execution_count": null,
      "metadata": {
        "id": "ZCiMv8VJdGV_"
      },
      "outputs": [],
      "source": [
        "#@title Setup Example Data: Class Survey\n",
        "\n",
        "# Import library\n",
        "import pandas as pd\n",
        "\n",
        "# Read data file: Class Survey\n",
        "data = pd.read_csv('https://raw.githubusercontent.com/vectrlab/apex-stats-datasets/main/class_survey/class_survey.csv')\n",
        "\n",
        "# Preview data\n",
        "data"
      ]
    },
    {
      "cell_type": "code",
      "source": [
        "#@title Setup Example Data with Error Handling\n",
        "\n",
        "# Import library\n",
        "import pandas as pd\n",
        "\n",
        "# Read data file\n",
        "data = pd.read_csv('https://raw.githubusercontent.com/vectrlab/apex-stats-datasets/main/dataset_name.csv')\n",
        "\n",
        "# Handle errors\n",
        "try:\n",
        "    data\n",
        "    print('The data were loaded.')\n",
        "except NameError:\n",
        "    print('There was a problem loading the data.')"
      ],
      "metadata": {
        "id": "f611erWRokHG"
      },
      "execution_count": null,
      "outputs": []
    },
    {
      "cell_type": "code",
      "source": [
        "#@title Assigning Values to Variables\n",
        "\n",
        "# Integer value\n",
        "whole_num = 5\n",
        "\n",
        "# Float-point value\n",
        "decimal = 5.5"
      ],
      "metadata": {
        "id": "olOzLPTJ2Lsg"
      },
      "execution_count": null,
      "outputs": []
    },
    {
      "cell_type": "code",
      "source": [
        "#@title Assigning Column Data to Variables\n",
        "\n",
        "# Assign data['y'] variable\n",
        "var_name1 = data['y']\n",
        "\n",
        "# Assign data['x'] variable\n",
        "var_name2 = data['x']"
      ],
      "metadata": {
        "id": "5QstFATTZqLS"
      },
      "execution_count": null,
      "outputs": []
    },
    {
      "cell_type": "code",
      "source": [
        "#@title Assigning Multi-Line String Data to Variables\n",
        "\n",
        "# Example data: Declaration of Independence\n",
        "doi = '''\n",
        "When in the Course of human events, it becomes necessary for one people\n",
        "to dissolve the political bands which have connected them with another,\n",
        "and to assume, among the Powers of the earth, the separate and equal\n",
        "station to which the Laws of Nature and of Nature's God entitle them, a\n",
        "decent respect to the opinions of mankind requires that they should\n",
        "declare the causes which impel them to the separation.\n",
        "\n",
        "We hold these truths to be self-evident, that all men are created\n",
        "equal, that they are endowed by their Creator with certain unalienable\n",
        "Rights, that among these are Life, Liberty, and the pursuit of\n",
        "Happiness. That to secure these rights, Governments are instituted\n",
        "among Men, deriving their just powers from the consent of the governed,\n",
        "That whenever any Form of Government becomes destructive of these ends,\n",
        "it is the Right of the People to alter or to abolish it, and to\n",
        "institute new Government, laying its foundation on such principles and\n",
        "organizing its powers in such form, as to them shall seem most likely\n",
        "to effect their Safety and Happiness.  Prudence, indeed, will dictate\n",
        "that Governments long established should not be changed for light and\n",
        "transient causes; and accordingly all experience hath shown, that\n",
        "mankind are more disposed to suffer, while evils are sufferable, than\n",
        "to right themselves by abolishing the forms to which they are\n",
        "accustomed.  But when a long train of abuses and usurpations, pursuing\n",
        "invariably the same Object evinces a design to reduce them under\n",
        "absolute Despotism, it is their right, it is their duty, to throw off\n",
        "such Government, and to provide new Guards for their future security.\n",
        "--Such has been the patient sufferance of these Colonies; and such is\n",
        "now the necessity which constrains them to alter their former Systems\n",
        "of Government. The history of the present King of Great Britain is a\n",
        "history of repeated injuries and usurpations, all having in direct\n",
        "object the establishment of an absolute Tyranny over these States.  To\n",
        "prove this, let Facts be submitted to a candid world.\n",
        "\n",
        "He has refused his Assent to Laws, the most wholesome and necessary for\n",
        "the public good.\n",
        "\n",
        "He has forbidden his Governors to pass Laws of immediate and pressing\n",
        "importance, unless suspended in their operation till his Assent should\n",
        "be obtained; and when so suspended, he has utterly neglected to attend\n",
        "to them.\n",
        "\n",
        "He has refused to pass other Laws for the accommodation of large\n",
        "districts of people, unless those people would relinquish the right of\n",
        "Representation in the Legislature, a right inestimable to them and\n",
        "formidable to tyrants only.\n",
        "\n",
        "He has called together legislative bodies at places unusual,\n",
        "uncomfortable, and distant from the depository of their Public Records,\n",
        "for the sole purpose of fatiguing them into compliance with his\n",
        "measures.\n",
        "\n",
        "He has dissolved Representative Houses repeatedly, for opposing with\n",
        "manly firmness his invasions on the rights of the people.\n",
        "\n",
        "He has refused for a long time, after such dissolutions, to cause\n",
        "others to be elected; whereby the Legislative Powers, incapable of\n",
        "Annihilation, have returned to the People at large for their exercise;\n",
        "the State remaining in the mean time exposed to all the dangers of\n",
        "invasion from without, and convulsions within.\n",
        "\n",
        "He has endeavoured to prevent the population of these States; for that\n",
        "purpose obstructing the Laws of Naturalization of Foreigners; refusing\n",
        "to pass others to encourage their migration hither, and raising the\n",
        "conditions of new Appropriations of Lands.\n",
        "\n",
        "He has obstructed the Administration of Justice, by refusing his Assent\n",
        "to Laws for establishing Judiciary Powers.\n",
        "\n",
        "He has made judges dependent on his Will alone, for the tenure of their\n",
        "offices, and the amount and payment of their salaries.\n",
        "\n",
        "He has erected a multitude of New Offices, and sent hither swarms of\n",
        "Officers to harass our People, and eat out their substance.\n",
        "\n",
        "He has kept among us, in times of peace, Standing Armies without the\n",
        "Consent of our legislatures.\n",
        "\n",
        "He has affected to render the Military independent of and superior to\n",
        "the Civil Power.\n",
        "\n",
        "He has combined with others to subject us to a jurisdiction foreign to\n",
        "our constitution, and unacknowledged by our laws; giving his Assent to\n",
        "their Acts of pretended legislation:\n",
        "\n",
        "For quartering large bodies of armed troops among us:\n",
        "\n",
        "For protecting them, by a mock Trial, from Punishment for any Murders\n",
        "which they should commit on the Inhabitants of these States:\n",
        "\n",
        "For cutting off our Trade with all parts of the world:\n",
        "\n",
        "For imposing taxes on us without our Consent:\n",
        "\n",
        "For depriving us, in many cases, of the benefits of Trial by Jury:\n",
        "\n",
        "For transporting us beyond Seas to be tried for pretended offences:\n",
        "\n",
        "For abolishing the free System of English Laws in a neighbouring\n",
        "Province, establishing therein an Arbitrary government, and enlarging\n",
        "its Boundaries so as to render it at once an example and fit instrument\n",
        "for introducing the same absolute rule into these Colonies:\n",
        "\n",
        "For taking away our Charters, abolishing our most valuable Laws, and\n",
        "altering fundamentally the Forms of our Governments:\n",
        "\n",
        "For suspending our own Legislatures, and declaring themselves invested\n",
        "with Power to legislate for us in all cases whatsoever.\n",
        "\n",
        "He has abdicated Government here, by declaring us out of his Protection\n",
        "and waging War against us.\n",
        "\n",
        "He has plundered our seas, ravaged our Coasts, burnt our towns, and\n",
        "destroyed the lives of our people.\n",
        "\n",
        "He is at this time transporting large armies of foreign mercenaries to\n",
        "compleat the works of death, desolation and tyranny, already begun with\n",
        "circumstances of Cruelty & perfidy scarcely paralleled in the most\n",
        "barbarous ages, and totally unworthy of the Head of a civilized nation.\n",
        "\n",
        "He has constrained our fellow Citizens taken Captive on the high Seas\n",
        "to bear Arms against their Country, to become the executioners of their\n",
        "friends and Brethren, or to fall themselves by their Hands.\n",
        "\n",
        "He has excited domestic insurrections amongst us, and has endeavoured\n",
        "to bring on the inhabitants of our frontiers, the merciless Indian\n",
        "Savages, whose known rule of warfare, is an undistinguished destruction\n",
        "of all ages, sexes and conditions.\n",
        "\n",
        "In every stage of these Oppressions We have Petitioned for Redress in\n",
        "the most humble terms:  Our repeated Petitions have been answered only\n",
        "by repeated injury.  A Prince, whose character is thus marked by every\n",
        "act which may define a Tyrant, is unfit to be the ruler of a free\n",
        "People.\n",
        "\n",
        "Nor have We been wanting in attention to our British brethren. We have\n",
        "warned them from time to time of attempts by their legislature to\n",
        "extend an unwarrantable jurisdiction over us. We have reminded them of\n",
        "the circumstances of our emigration and settlement here.  We have\n",
        "appealed to their native justice and magnanimity, and we have conjured\n",
        "them by the ties of our common kindred to disavow these usurpations,\n",
        "which would inevitably interrupt our connections and correspondence.\n",
        "They too have been deaf to the voice of justice and of consanguinity.\n",
        "We must, therefore, acquiesce in the necessity, which denounces our\n",
        "Separation, and hold them, as we hold the rest of mankind, Enemies in\n",
        "War, in Peace Friends.\n",
        "\n",
        "We, therefore, the Representatives of the United States of America, in\n",
        "General Congress, Assembled, appealing to the Supreme Judge of the\n",
        "world for the rectitude of our intentions, do, in the Name, and by the\n",
        "Authority of the good People of these Colonies, solemnly publish and\n",
        "declare, That these United Colonies are, and of Right ought to be Free\n",
        "and Independent States; that they are Absolved from all Allegiance to\n",
        "the British Crown, and that all political connection between them and\n",
        "the State of Great Britain, is and ought to be totally dissolved; and\n",
        "that as Free and Independent States, they have full Power to levy War,\n",
        "conclude Peace, contract Alliances, establish Commerce, and to do all\n",
        "other Acts and Things which Independent States may of right do.  And\n",
        "for the support of this Declaration, with a firm reliance on the\n",
        "Protection of Divine Providence, we mutually pledge to each other our\n",
        "Lives, our Fortunes and our sacred Honor.\n",
        "'''\n",
        "print(doi)"
      ],
      "metadata": {
        "id": "iE_sA9AxKJYf"
      },
      "execution_count": null,
      "outputs": []
    },
    {
      "cell_type": "code",
      "source": [
        "#@title Renaming Columns (Variables)\n",
        "\n",
        "# Rename dataframe columns\n",
        "data.columns = ['var_name1', 'var_name2', 'var_name3']\n",
        "\n",
        "# Preview data\n",
        "data"
      ],
      "metadata": {
        "id": "WxFsToXbSLLR"
      },
      "execution_count": null,
      "outputs": []
    },
    {
      "cell_type": "code",
      "source": [
        "#@title Check Variable Levels\n",
        "\n",
        "# Import library\n",
        "import pandas as pd\n",
        "\n",
        "# Display variable levels\n",
        "print(data['x'].unique())"
      ],
      "metadata": {
        "id": "5KJu-B2SSn0f"
      },
      "execution_count": null,
      "outputs": []
    },
    {
      "cell_type": "code",
      "source": [
        "#@title Select Columns (Variables)\n",
        "\n",
        "# Import library\n",
        "import pandas as pd\n",
        "\n",
        "# Select columns\n",
        "data = data[['x1', 'x2']]\n",
        "\n",
        "# Preview new dataframe\n",
        "data"
      ],
      "metadata": {
        "id": "zlbnj3RuS4Xo"
      },
      "execution_count": null,
      "outputs": []
    },
    {
      "cell_type": "code",
      "source": [
        "#@title Select Rows (Cases)\n",
        "\n",
        "# Import library\n",
        "import pandas as pd\n",
        "\n",
        "# Select rows\n",
        "data = data[data['x1'].isin(['case1', 'case2'])]\n",
        "\n",
        "# Preview new dataframe\n",
        "data"
      ],
      "metadata": {
        "id": "87HGZLGFVajy"
      },
      "execution_count": null,
      "outputs": []
    },
    {
      "cell_type": "code",
      "source": [
        "#@title Filtering Data\n",
        "\n",
        "# Subset data: one condition\n",
        "# > greater than, >= great than or equal to\n",
        "# > less than, <= less than or equal to\n",
        "# == equal to, != not equal to\n",
        "subset = data[data['x'] > 10]\n",
        "\n",
        "# Subset data: negating a condition\n",
        "# ~ not\n",
        "subset2 = data[~(data['x'] > 10)]\n",
        "\n",
        "# Subset data: two conditions\n",
        "# & and, | or\n",
        "subset3 = data[(data['x'] > 5) & (data['y'] < 10)]\n",
        "subset4 = data[(data['x'] > 5) | (data['y'] < 10)]"
      ],
      "metadata": {
        "id": "Nzf7cMMn45Du"
      },
      "execution_count": null,
      "outputs": []
    },
    {
      "cell_type": "markdown",
      "metadata": {
        "id": "IU0y6TSoroxU"
      },
      "source": [
        "# Population vs Sample"
      ]
    },
    {
      "cell_type": "code",
      "execution_count": null,
      "metadata": {
        "id": "bLjVS1oary8O"
      },
      "outputs": [],
      "source": [
        "#@title Generate a Population Distribution\n",
        "\n",
        "# Import libraries\n",
        "import random\n",
        "import pandas as pd\n",
        "\n",
        "# Set the seed so that everyone has the same values, or\n",
        "# comment out the line below to generate a unique population each time.\n",
        "random.seed(21715)\n",
        "\n",
        "# Set population size\n",
        "n = 1000\n",
        "\n",
        "# Specify maximum value\n",
        "max_value = 100.0\n",
        "\n",
        "# Generate a uniform distribution with N values,\n",
        "# from 0 to the maximum value, chosen at random.\n",
        "population = [random.random() * max_value for x in range(n)]\n",
        "\n",
        "# Add the population distribution to the data frame.\n",
        "df = df.assign(x=population)"
      ]
    },
    {
      "cell_type": "code",
      "execution_count": null,
      "metadata": {
        "id": "0vUbjCtXsCtb"
      },
      "outputs": [],
      "source": [
        "#@title Population or Sample Size\n",
        "\n",
        "# Population or sample size\n",
        "len(data['x'])"
      ]
    },
    {
      "cell_type": "code",
      "execution_count": null,
      "metadata": {
        "id": "FWhqp_IRsGOt"
      },
      "outputs": [],
      "source": [
        "#@title Population or Sample Mean\n",
        "\n",
        "# Import library\n",
        "import numpy as np\n",
        "\n",
        "# Mean\n",
        "np.mean(data['x'])"
      ]
    },
    {
      "cell_type": "code",
      "execution_count": null,
      "metadata": {
        "id": "Z9fBQgwlsKtq"
      },
      "outputs": [],
      "source": [
        "#@title Population Standard Deviation\n",
        "\n",
        "# Import library\n",
        "import numpy as np\n",
        "\n",
        "# Population standard deviation\n",
        "np.std(data['x'], ddof=0)"
      ]
    },
    {
      "cell_type": "code",
      "execution_count": null,
      "metadata": {
        "id": "jwMB3YBDsOps"
      },
      "outputs": [],
      "source": [
        "#@title Sample Standard Deviation\n",
        "\n",
        "# Import library\n",
        "import numpy as np\n",
        "\n",
        "# Calculate the sample standard deviation;\n",
        "# ddof is delta degrees of freedom and\n",
        "# N - ddof is used in the variance calculation.\n",
        "np.std(data['x'], ddof=1)"
      ]
    },
    {
      "cell_type": "code",
      "execution_count": null,
      "metadata": {
        "id": "Ajq0VRHts3lh"
      },
      "outputs": [],
      "source": [
        "#@title Generate a Random Sample\n",
        "\n",
        "# Import libraries\n",
        "import random\n",
        "import numpy as np\n",
        "\n",
        "# Sample size\n",
        "n = 5\n",
        "\n",
        "# Generate a single sample\n",
        "one_sample = np.random.choice(data['x'], n)\n",
        "\n",
        "# Display sample data\n",
        "one_sample"
      ]
    },
    {
      "cell_type": "code",
      "execution_count": null,
      "metadata": {
        "id": "VLpNZJIys_4w"
      },
      "outputs": [],
      "source": [
        "#@title Generate a Sampling Distribution\n",
        "\n",
        "# Import libraries\n",
        "import random\n",
        "import numpy as np\n",
        "\n",
        "# Specify number of samples in the sampling distribution\n",
        "num_samples = 2000\n",
        "\n",
        "# Sample size\n",
        "n = 5\n",
        "\n",
        "# Define a function\n",
        "def drange():\n",
        "    # Pick a random starting spot in the distribution\n",
        "    x = random.randrange(0, len(data['x']) - (n + 1))\n",
        "    # Select n values starting from that spot -\n",
        "    # Dave note: We may need to fix this, as the selection\n",
        "    # will be biased if data are in a nonrandom order\n",
        "    return slice(x, x + n)\n",
        "\n",
        "# Assemble the sampling distribution by finding means of repeated samples\n",
        "sampling_dist = [np.mean(data['x'][drange()]) for x in range(num_samples)]\n",
        "\n",
        "# Display the sampling distribution\n",
        "sampling_dist"
      ]
    },
    {
      "cell_type": "code",
      "execution_count": null,
      "metadata": {
        "id": "AdjSMjNMtMBw"
      },
      "outputs": [],
      "source": [
        "#@title Calculate Standard Error\n",
        "\n",
        "# Import library\n",
        "import numpy as np\n",
        "\n",
        "# Sample size\n",
        "n = 5\n",
        "\n",
        "# Standard error\n",
        "se = np.std(data['x'], ddof=1) / np.sqrt(n)\n",
        "\n",
        "# Display result\n",
        "se"
      ]
    },
    {
      "cell_type": "markdown",
      "metadata": {
        "id": "XJxCKOLbq99A"
      },
      "source": [
        "# Confidence Interval"
      ]
    },
    {
      "cell_type": "code",
      "execution_count": null,
      "metadata": {
        "id": "GtiSRk5jtQBY"
      },
      "outputs": [],
      "source": [
        "#@title Calculate 95% Confidence Interval, Extended Version\n",
        "\n",
        "# Import libraries\n",
        "import numpy as np\n",
        "from scipy.stats import norm\n",
        "\n",
        "# Sample size\n",
        "n = 5\n",
        "\n",
        "# Standard error\n",
        "se = np.std(data['x'], ddof=1) / np.sqrt(n)\n",
        "\n",
        "# Area of one tail outside the confidence interval\n",
        "tail = 1 - (1 - .95) / 2\n",
        "\n",
        "# Z-score corresponding to 97.5% area below it\n",
        "z = norm.ppf(tail)\n",
        "\n",
        "# Find and save lower and upper bounds\n",
        "lower_bound = np.mean(data['x']) - z * se\n",
        "upper_bound = np.mean(data['x']) + z * se"
      ]
    },
    {
      "cell_type": "code",
      "execution_count": null,
      "metadata": {
        "id": "ZluEoGuBtTkt"
      },
      "outputs": [],
      "source": [
        "#@title Calculate 95% Confidence Interval, Simple Version\n",
        "\n",
        "# Import libraries\n",
        "from scipy import stats\n",
        "import numpy as np\n",
        "\n",
        "# Calculate mean\n",
        "mu = np.mean(data['x'])\n",
        "\n",
        "# Calculate standard deviation\n",
        "sigma = np.std(data['x'], ddof=1)\n",
        "\n",
        "# Specify confidence level\n",
        "conf_level = 0.95\n",
        "\n",
        "# Find confidence interval\n",
        "stats.norm.interval(conf_level, loc=mu, scale=sigma)"
      ]
    },
    {
      "cell_type": "markdown",
      "metadata": {
        "id": "5hoPp0dKrB-k"
      },
      "source": [
        "# Z-score"
      ]
    },
    {
      "cell_type": "code",
      "execution_count": null,
      "metadata": {
        "id": "HuVEHacLuCwx"
      },
      "outputs": [],
      "source": [
        "#@title Generate Z-scores\n",
        "\n",
        "# Import library\n",
        "from scipy import stats\n",
        "\n",
        "# Create a new data column 'z' containing z-scores\n",
        "data['z'] = stats.zscore(data['x'])\n",
        "\n",
        "# Display data column\n",
        "data['z']"
      ]
    },
    {
      "cell_type": "code",
      "execution_count": null,
      "metadata": {
        "id": "cKsMjv14_kWy"
      },
      "outputs": [],
      "source": [
        "#@title Apply the Z-score Formula to User Inputs\n",
        "\n",
        "# Formula: z = (score - mean) / pop_sd\n",
        "\n",
        "# Ask user to insert a new score\n",
        "raw = float(input('Score = '))\n",
        "\n",
        "# Ask user to insert a mean\n",
        "mean = float(input('Mean = '))\n",
        "\n",
        "# Ask the user to insert standard deviation\n",
        "sd = float(input('Input the standard deviation: '))\n",
        "\n",
        "# Find z-score with formula, round to 2 decimal places\n",
        "z = round((raw - mean) / sd, 2)\n",
        "\n",
        "# Print result\n",
        "print(f'z = {z}')"
      ]
    },
    {
      "cell_type": "code",
      "execution_count": null,
      "metadata": {
        "id": "e_Ee5_0d6LOi"
      },
      "outputs": [],
      "source": [
        "#@title Generate Raw Scores\n",
        "\n",
        "# Import libraries\n",
        "import numpy as np\n",
        "from scipy import stats\n",
        "\n",
        "# Creat empty list for raw scores\n",
        "raw_scores = []\n",
        "\n",
        "# Find population standard deviation\n",
        "sd = np.std(data['x'])\n",
        "\n",
        "# Find mean from data column x\n",
        "mean = data['x'].mean()\n",
        "\n",
        "# Access each z-score\n",
        "for z in data['z']:\n",
        "    # Save each raw score, calculated using formula, into list\n",
        "    raw_scores.append(z * sd + mean)\n",
        "\n",
        "# Display result\n",
        "raw_scores"
      ]
    },
    {
      "cell_type": "code",
      "execution_count": null,
      "metadata": {
        "id": "qvTkRGKpp_Ix"
      },
      "outputs": [],
      "source": [
        "#@title Apply Raw Score Formula to User Inputs\n",
        "\n",
        "# Formula: raw score = score * sd + mean\n",
        "\n",
        "# Input new score\n",
        "z = float(input('z = '))\n",
        "\n",
        "# Input mean\n",
        "mean = float(input('Mean: '))\n",
        "\n",
        "# Input standard deviation\n",
        "sd = float(input('Input the standard deviation: '))\n",
        "\n",
        "# Find z-score using formula, round to 2 decimal places\n",
        "raw = round(z * sd + mean, 2)\n",
        "\n",
        "# Print result\n",
        "print(f'Score = {raw}')"
      ]
    },
    {
      "cell_type": "markdown",
      "metadata": {
        "id": "fX9pokptrJrj"
      },
      "source": [
        "# CDF and Inverse CDF"
      ]
    },
    {
      "cell_type": "code",
      "execution_count": null,
      "metadata": {
        "id": "Qg-z8VlGYlTF"
      },
      "outputs": [],
      "source": [
        "#@title Cumulative Distribution Function\n",
        "\n",
        "# Import norm from scipy.stats\n",
        "from scipy.stats import norm\n",
        "\n",
        "# CDF of a standard normal distribution\n",
        "norm.cdf(1.45, loc=0, scale=1)\n",
        "\n",
        "# When we specify 1.45, we are interested in the area\n",
        "# under the curve to the left of the point 1.45,\n",
        "# loc is where you specify your mean, and\n",
        "# scale is where you specify your standard deviation."
      ]
    },
    {
      "cell_type": "code",
      "execution_count": null,
      "metadata": {
        "id": "laQTYD6ZsqfG"
      },
      "outputs": [],
      "source": [
        "#@title Find Area Under the Curve\n",
        "\n",
        "# Import norm from scipy.stats\n",
        "from scipy.stats import norm\n",
        "\n",
        "# Input mean\n",
        "mean = float(input('Specify your mean: '))\n",
        "\n",
        "# Input standard deviation\n",
        "stdev = float(input('Specify your standard deviation: '))\n",
        "\n",
        "# Input lower bound\n",
        "lower_bound = float(input('Specify your lower bound: '))\n",
        "\n",
        "# Input upper bound\n",
        "upper_bound = float(input('Specify your upper bound: '))\n",
        "\n",
        "# Calculate the area under the curve\n",
        "# by subtracting the larger area (using upper bound)\n",
        "# from smaller one (using lower bound).\n",
        "larger_area = norm.cdf(upper_bound, loc=mean, scale=stdev)\n",
        "smaller_area = norm.cdf(lower_bound, loc=mean, scale=stdev)\n",
        "area_under_curve = larger_area - smaller_area\n",
        "\n",
        "# Print result; round answer to two decimal places\n",
        "print(\n",
        "    f'Area under the curve from {lower_bound} to {upper_bound} '\n",
        "    f'is {round(area_under_curve, 2)}'\n",
        ")"
      ]
    },
    {
      "cell_type": "code",
      "execution_count": null,
      "metadata": {
        "id": "m2_ctPDicVOg"
      },
      "outputs": [],
      "source": [
        "#@title Inverse Cumulative Distribution Function\n",
        "\n",
        "# Import norm from scipy.stats\n",
        "from scipy.stats import norm\n",
        "\n",
        "# Input mean\n",
        "mean = float(input('Specify your mean: '))\n",
        "\n",
        "# Input standard deviation\n",
        "stdev = float(input('Specify your standard deviation: '))\n",
        "\n",
        "# Input5 percentile\n",
        "percentile = float(input('Specify the percentile (from 0-1 range): '))\n",
        "\n",
        "# Find inverse norm result with norm.ppf method\n",
        "inv_norm_ans = norm.ppf(percentile, loc=mean, scale=stdev)\n",
        "\n",
        "# Print result; round answer to two decimal places\n",
        "print(\n",
        "    f'With mean {mean} and standard deviation {stdev}, '\n",
        "    f'the {int(percentile*100)}th percentile is {round(inv_norm_ans, 2)}'\n",
        ")\n",
        "\n",
        "# norm.ppf returns a *percentile* confidence interval for a one-tailed test.\n",
        "# For example, when we specify 0.95, we indicated the area under the curve\n",
        "# to be 0.95 with loc to be our mean and scale to be our standard deviation.\n",
        "# In R, it is qnorm(0.95, 0, 1) or qnorm(0.05,0,1,lower.tail=FALSE)\n",
        "# with mean 0 and standard deviation 1."
      ]
    },
    {
      "cell_type": "markdown",
      "metadata": {
        "id": "CGhqgx8QrTXf"
      },
      "source": [
        "# Understand Data"
      ]
    },
    {
      "cell_type": "code",
      "execution_count": null,
      "metadata": {
        "id": "UWj3BOmJfBak"
      },
      "outputs": [],
      "source": [
        "#@title Sampling Cases from Data Frame\n",
        "\n",
        "# Random sampling\n",
        "new_df = df.sample(n=10, random_state=1)\n",
        "\n",
        "# Display sample\n",
        "new_df"
      ]
    },
    {
      "cell_type": "code",
      "execution_count": null,
      "metadata": {
        "id": "WJyUX9wMnwwp"
      },
      "outputs": [],
      "source": [
        "#@title Find Missing Values in Data Frame Columns\n",
        "\n",
        "# Display status of each cell (False: filled with data; True: missing data)\n",
        "data['x'].isna()"
      ]
    },
    {
      "cell_type": "code",
      "execution_count": null,
      "metadata": {
        "id": "qBENykuhn8KX"
      },
      "outputs": [],
      "source": [
        "#@title Find Missing Values in Data Frame\n",
        "\n",
        "# Display status of each cell (False: filled with data; True: missing data)\n",
        "data.isna()"
      ]
    },
    {
      "cell_type": "code",
      "execution_count": null,
      "metadata": {
        "id": "ZjpQvk9Ro8kt"
      },
      "outputs": [],
      "source": [
        "#@title Find Records Where NaN Exists\n",
        "\n",
        "# Cases where NaN exists\n",
        "data['x'][data['x'].isna() == True]"
      ]
    },
    {
      "cell_type": "code",
      "execution_count": null,
      "metadata": {
        "id": "OEwt3Aoop-4l"
      },
      "outputs": [],
      "source": [
        "#@title Discover Data Types\n",
        "\n",
        "# Import libraries\n",
        "import pandas as pd\n",
        "import numpy as np\n",
        "\n",
        "# Create dataframe with 'x' variable; column has integer data\n",
        "df = pd.DataFrame(np.random.randint(0, 2, size=10), columns=['x'])\n",
        "\n",
        "# Find datatype of data in df['x'] (data are 0 and 1)\n",
        "df.dtypes"
      ]
    },
    {
      "cell_type": "code",
      "execution_count": null,
      "metadata": {
        "id": "7YiXQmQvsHrd"
      },
      "outputs": [],
      "source": [
        "#@title Convert into Category Data Type\n",
        "\n",
        "# Convert integers into categories (factors in R)\n",
        "df['x'] = df['x'].astype('category')\n",
        "\n",
        "# Diplay data types\n",
        "df.dtypes"
      ]
    },
    {
      "cell_type": "code",
      "execution_count": null,
      "metadata": {
        "id": "boa7wiHHojJV"
      },
      "outputs": [],
      "source": [
        "#@title Convert Datatype and Insert a New Column into Data Frame\n",
        "\n",
        "# Convert integers into categories (factors in R)\n",
        "data['x6'] = data['x'].astype('category')\n",
        "\n",
        "# Diplay data types\n",
        "data.dtypes"
      ]
    },
    {
      "cell_type": "code",
      "source": [
        "#@title Galton Board (Bean Machine) Simulation\n",
        "\n",
        "# Import library\n",
        "import random\n",
        "\n",
        "# Set constants (number of beans and slots)\n",
        "num_beans = 2000\n",
        "num_slots = 28\n",
        "\n",
        "# Define bean machine function\n",
        "def bean_machine(num_beans, num_slots):\n",
        "    '''Simulates a bean machine (aka Galton board)\n",
        "    and returns the distribution of beans in each slot'''\n",
        "    slots = [0] * (num_slots + 1)\n",
        "    for i in range(num_beans):\n",
        "        pos = num_slots // 2\n",
        "        for j in range(num_slots - 1):\n",
        "            if random.random() < 0.5:\n",
        "                pos -= 1\n",
        "            else:\n",
        "                pos += 1\n",
        "                if pos > num_slots:\n",
        "                    pos = num_slots - 1\n",
        "        slots[pos] += 1\n",
        "    return slots\n",
        "\n",
        "# Call bean machine function\n",
        "beans = bean_machine(num_beans, num_slots)\n",
        "\n",
        "# Print distribution results\n",
        "print(beans)\n",
        "\n",
        "# Import libraries\n",
        "import matplotlib.pyplot as plt\n",
        "import numpy as np\n",
        "\n",
        "# Define plotting function\n",
        "def plot_counts(counts):\n",
        "    '''Plots bean counts in each bin'''\n",
        "    # Create figure and axis object\n",
        "    fig, ax = plt.subplots()\n",
        "\n",
        "    # Convert counts array to numpy array\n",
        "    if isinstance(counts[0], (list, tuple)):\n",
        "        counts = np.array(counts)\n",
        "\n",
        "    # Plot height of each count using bar plot\n",
        "    ax.bar(range(len(counts)), height=counts, width=1)\n",
        "\n",
        "    # Set x-axis labels and title\n",
        "    ax.set_xlabel('Bin')\n",
        "    ax.set_ylabel('Frequency')\n",
        "    ax.set_title('Bean Machine/Quincunx')\n",
        "\n",
        "    # Show plot\n",
        "    plt.show()\n",
        "\n",
        "# Call plotting function\n",
        "plot_counts(beans)"
      ],
      "metadata": {
        "id": "8vEwEF6UN2cT"
      },
      "execution_count": null,
      "outputs": []
    },
    {
      "cell_type": "code",
      "source": [
        "#@title Bean Machine Simulation Animation\n",
        "\n",
        "# Import libraries\n",
        "import numpy as np\n",
        "import matplotlib.pyplot as plt\n",
        "from matplotlib.animation import FuncAnimation\n",
        "from IPython.display import HTML\n",
        "\n",
        "# Set constants (number of beans and slots)\n",
        "num_slots = 28\n",
        "num_beans = 200\n",
        "\n",
        "# Initialize slots to collect balls\n",
        "slots = [0] * (num_slots + 1)\n",
        "\n",
        "# Create figure and axis for plotting\n",
        "fig, ax = plt.subplots(figsize=(8, 6))\n",
        "\n",
        "# Function to update the animation\n",
        "def update(frame):\n",
        "    ax.cla()  # Clear the previous frame\n",
        "\n",
        "    pos = num_slots // 2\n",
        "    for j in range(num_slots - 1):\n",
        "        direction = np.random.choice([-1, 1])\n",
        "        pos += direction\n",
        "        if pos > num_slots:\n",
        "            pos = num_slots - 1\n",
        "    slots[pos] += 1\n",
        "\n",
        "    ax.bar(range(0, num_slots + 1), slots, alpha=0.7, edgecolor='black')\n",
        "    ax.set_xlim( -1, num_slots + 1)\n",
        "    ax.set_ylim(0, num_beans)\n",
        "    ax.set_xlabel('Bin')\n",
        "    ax.set_ylabel('Frequency')\n",
        "    ax.set_title(f'Bean Machine/Quincunx (Frame {frame + 1})')\n",
        "\n",
        "# Create animation; subtracting 1 to correct first frame\n",
        "anim = FuncAnimation(fig, update, frames=(num_beans-1), repeat=False)\n",
        "\n",
        "# Display animation as HTML video\n",
        "html_video = anim.to_jshtml()\n",
        "\n",
        "# Show animation\n",
        "HTML(html_video)"
      ],
      "metadata": {
        "id": "7niWwkQlOemd"
      },
      "execution_count": null,
      "outputs": []
    },
    {
      "cell_type": "markdown",
      "source": [
        "# Sampling Techniques"
      ],
      "metadata": {
        "id": "vd2RIJXsg1Yr"
      }
    },
    {
      "cell_type": "code",
      "source": [
        "#@title Sample Typical Words\n",
        "\n",
        "# Import library\n",
        "import numpy as np\n",
        "\n",
        "# Create array of counts\n",
        "counts = np.array([1, 2, 3, 4, 5, 6, 7, 8, 9, 10])\n",
        "\n",
        "# Calculate mean\n",
        "np.mean(counts)"
      ],
      "metadata": {
        "id": "LwtQovEz93RP"
      },
      "execution_count": null,
      "outputs": []
    },
    {
      "cell_type": "code",
      "source": [
        "#@title Simple Random Sampling\n",
        "\n",
        "# Import libraries\n",
        "import random\n",
        "import numpy as np\n",
        "\n",
        "# Define punctuation removal function\n",
        "def remove_punctuation(text):\n",
        "    return ''.join([c for c in text if c not in '.,!?:-'])\n",
        "\n",
        "# Remove punctuation from entire text\n",
        "clean_doi = remove_punctuation(doi)\n",
        "\n",
        "# Sample size of 10\n",
        "n = 10\n",
        "\n",
        "# Generate a single sample\n",
        "one_sample = np.random.choice(clean_doi.split(), n)\n",
        "\n",
        "# Show sample distribution\n",
        "print('The randomly sampled words are: ')\n",
        "print(one_sample)\n",
        "\n",
        "# Count letters in each word\n",
        "for word in one_sample:\n",
        "    print('\\n\"' + word + '\" has ' + str(len(word)) + ' letters')\n",
        "\n",
        "# Create array of counts\n",
        "srs = np.array([1, 2, 3, 4, 5, 6, 7, 8, 9, 10])\n",
        "\n",
        "# Calculate mean\n",
        "np.mean(srs)"
      ],
      "metadata": {
        "id": "GdKZBh_hAn00"
      },
      "execution_count": null,
      "outputs": []
    },
    {
      "cell_type": "code",
      "source": [
        "#@title Systematic Sampling\n",
        "\n",
        "# Word count\n",
        "len(doi.split())\n",
        "\n",
        "# Import libraries\n",
        "import random\n",
        "\n",
        "# Set maximum value; replace 1 with word count\n",
        "maximum = 1\n",
        "\n",
        "# Generate a random number\n",
        "random.randrange(maximum + 1)\n",
        "\n",
        "# Import libraries\n",
        "import random\n",
        "import numpy as np\n",
        "\n",
        "# Define punctuation removal function\n",
        "def remove_punctuation(text):\n",
        "    return \"\".join([c for c in text if c not in '.,!?:-'])\n",
        "\n",
        "# Remove punctuation from entire text\n",
        "clean_doi = remove_punctuation(doi)\n",
        "\n",
        "# Set the randomly generated number as the starting point\n",
        "starting_point = 0\n",
        "words = clean_doi.split()\n",
        "\n",
        "# Choose every 30th word\n",
        "index = (starting_point % len(words)) if starting_point else 0\n",
        "selected_words = []\n",
        "\n",
        "while len(selected_words) < 10:\n",
        "    selected_words.append(words[index])\n",
        "    index += 30\n",
        "    index %= len(words)\n",
        "\n",
        "# Show sample distribution\n",
        "print('The randomly sampled words are: ')\n",
        "print(selected_words)\n",
        "\n",
        "# Count letters in each word\n",
        "for word in selected_words:\n",
        "        print('\\n\"' + word + '\" has ' + str(len(word)) + ' letters')\n",
        "\n",
        "# Create array of counts\n",
        "systematic = np.array([1, 2, 3, 4, 5, 6, 7, 8, 9, 10])\n",
        "\n",
        "# Calculate mean\n",
        "np.mean(systematic)"
      ],
      "metadata": {
        "id": "OeJiGlOYLhc4"
      },
      "execution_count": null,
      "outputs": []
    },
    {
      "cell_type": "markdown",
      "metadata": {
        "id": "m2Gd4eBSq1nU"
      },
      "source": [
        "# Hypothesis Testing"
      ]
    },
    {
      "cell_type": "code",
      "execution_count": null,
      "metadata": {
        "id": "4ZBf4XOuN17e"
      },
      "outputs": [],
      "source": [
        "#@title One Sample t-test\n",
        "\n",
        "# Import library\n",
        "from scipy import stats\n",
        "\n",
        "# One sample t-test (arg1: sample observation, arg2: expected H0 value)\n",
        "result = stats.ttest_1samp(data['x'], 39)\n",
        "\n",
        "# To extract details from result, see comments below:\n",
        "# result.statistic\n",
        "# result.pvalue"
      ]
    },
    {
      "cell_type": "code",
      "execution_count": null,
      "metadata": {
        "id": "MQr_in7EQt-A"
      },
      "outputs": [],
      "source": [
        "#@title Independent Samples t-Test using `scipy`\n",
        "\n",
        "# Import library\n",
        "from scipy import stats\n",
        "\n",
        "# Independent samples t-test (arg1: sample 1, arg2: sample 2)\n",
        "result = stats.ttest_ind(data['x'], data['x1'])\n",
        "\n",
        "# To extract details from result, see comments below:\n",
        "# result.statistic\n",
        "# result.pvalue\n",
        "\n",
        "# Additional arguments\n",
        "# axis= operate along rows (0) or columns (1)\n",
        "# equal_var= group population variances equal (True) or unequal (False)\n",
        "# nan_policy= return NaN ('propagate'), remove ('omit'), ValueError 'raise'\n",
        "# permutations= number of permutations (permutation resampling)\n",
        "# random_state= seed for random number generation (permutation resampling)\n",
        "# alternative= two-tailed ('two-sided'), one-tailed ('greater')('less')\n",
        "# trim= percentage of data to trim to deal with outliers"
      ]
    },
    {
      "cell_type": "code",
      "source": [
        "#@title Independent Samples t-Test using `researchpy`\n",
        "\n",
        "# Install package\n",
        "try:\n",
        "    import researchpy as rp\n",
        "    print('The researchpy library is already installed.')\n",
        "except ImportError as e:\n",
        "    !pip install researchpy\n",
        "    import researchpy as rp\n",
        "    print('The researchpy library was installed.')\n",
        "\n",
        "# Run independent samples t-test\n",
        "des, res = rp.ttest(\n",
        "    group1=data['y'][data['x'] == 'case1'],\n",
        "    group1_name='group1',\n",
        "    group2=data['y'][data['x'] == 'case2'],\n",
        "    group2_name='group2'\n",
        ")\n",
        "\n",
        "# Print descriptive statistics\n",
        "print(f'Descriptive statistics from the t-test:\\n\\n{des}')\n",
        "\n",
        "# Print results\n",
        "print(f'\\nThe results of the t-test:\\n\\n{res}')"
      ],
      "metadata": {
        "id": "QZ0xj9XGXTz2"
      },
      "execution_count": null,
      "outputs": []
    },
    {
      "cell_type": "code",
      "execution_count": null,
      "metadata": {
        "id": "i30XgfosVgUY"
      },
      "outputs": [],
      "source": [
        "#@title Paired Samples t-test\n",
        "\n",
        "# Import library\n",
        "from scipy import stats\n",
        "\n",
        "# Paired samples t-test (arg1: sample 1, arg2: sample 2)\n",
        "result = stats.ttest_rel(data['x'], data['x1'])\n",
        "\n",
        "# To extract details from result, see comments below:\n",
        "# result.statistic\n",
        "# result.pvalue"
      ]
    },
    {
      "cell_type": "code",
      "execution_count": null,
      "metadata": {
        "id": "k5b4_xE-bzWb"
      },
      "outputs": [],
      "source": [
        "#@title Correlation Analysis\n",
        "\n",
        "# Import library\n",
        "from scipy import stats\n",
        "\n",
        "# Pearson's R (returns a tuple)\n",
        "corr_test = stats.pearsonr(data['x'], data['x1'])\n",
        "\n",
        "# r: Pearson's correlation efficient\n",
        "print(corr_test[0])\n",
        "\n",
        "# p-value: two-tailed p-val\n",
        "print(corr_test[1])"
      ]
    },
    {
      "cell_type": "code",
      "execution_count": null,
      "metadata": {
        "id": "KCeHiTsEHm-C"
      },
      "outputs": [],
      "source": [
        "#@title Simple Linear Regression\n",
        "\n",
        "# Import library\n",
        "from scipy import stats\n",
        "\n",
        "# Simple regression\n",
        "result = stats.linregress(data['x'], data['x1'])\n",
        "\n",
        "# To extract details from result, see comments below:\n",
        "# result.slope\n",
        "# result.intercept\n",
        "# result.rvalue\n",
        "# result.pvalue\n",
        "# result.stderr"
      ]
    },
    {
      "cell_type": "code",
      "source": [
        "#@title Simple Linear Regression with Regression Statistics\n",
        "\n",
        "# Calculate regression statistics\n",
        "slope, intercept, r_value, p_value, std_err = stats.linregress(\n",
        "    data['x'], data['x1']\n",
        "    )\n",
        "\n",
        "# Print regression stats\n",
        "print('slope = ', slope)\n",
        "print('y-intercept = ', intercept)\n",
        "print('r_value = ', r_value)\n",
        "print('p_value = ', p_value)\n",
        "print('standard error = ', std_err)"
      ],
      "metadata": {
        "id": "9ISpWxDtbdG3"
      },
      "execution_count": null,
      "outputs": []
    },
    {
      "cell_type": "code",
      "execution_count": null,
      "metadata": {
        "id": "E43QwcpUqmXk"
      },
      "outputs": [],
      "source": [
        "#@title One-Way Chi-Square Test\n",
        "\n",
        "# Import libraries\n",
        "import pandas as pd\n",
        "from scipy.stats import chisquare\n",
        "\n",
        "# One-way Chi-square\n",
        "var_name = data['x']\n",
        "\n",
        "# Calculate total observations\n",
        "n = len(\n",
        "    [value for value in var_name\n",
        "     if value == 'category1' or value == 'category2']\n",
        "    )\n",
        "\n",
        "# Calculate expected frequencies based on the proportions\n",
        "expected_freqs = [n // 2, n // 2]\n",
        "print(\n",
        "    f'''Based on the sample size of {n}, the expected frequencies were:\n",
        "    Category1 {expected_freqs[0]}\n",
        "    Category2 {expected_freqs[1]}'''\n",
        "    )\n",
        "\n",
        "# Calculate observed frequencies\n",
        "observed_freqs = var_name.value_counts()\n",
        "print(\n",
        "    f'''The observed frequencies were:\n",
        "    Category1 {observed_freqs[0]}\n",
        "    Category2 {observed_freqs[1]}'''\n",
        "    )\n",
        "\n",
        "# Perform chi-square test\n",
        "result = stats.chisquare(observed_freqs, expected_freqs)\n",
        "\n",
        "# Print result\n",
        "print(\n",
        "    f'''Chi-Square test result:\n",
        "    χ2: {result[0]}\n",
        "    p-value: {result[1]}'''\n",
        "    )"
      ]
    },
    {
      "cell_type": "code",
      "execution_count": null,
      "metadata": {
        "id": "mlqtWZt8rBSI"
      },
      "outputs": [],
      "source": [
        "#@title One-Way ANOVA using `scipy`\n",
        "\n",
        "# Import library\n",
        "from scipy import stats\n",
        "\n",
        "# One-way ANOVA\n",
        "result = stats.f_oneway(data['x'], data['x1'])\n",
        "\n",
        "# Print statistic and p-value\n",
        "print(result.statistic)\n",
        "print(result.pvalue)"
      ]
    },
    {
      "cell_type": "code",
      "source": [
        "#@title One-Way ANOVA using `statsmodels`\n",
        "\n",
        "# Import libraries\n",
        "import pandas as pd\n",
        "import statsmodels.api as sm\n",
        "from statsmodels.formula.api import ols\n",
        "\n",
        "# Run one-way ANOVA\n",
        "# ols() ordinary least squares\n",
        "# C() categorical IV\n",
        "var_name = ols('y ~ C(x)', data=data).fit()\n",
        "\n",
        "# Print ANOVA table\n",
        "print(sm.stats.anova_lm(var_name, typ=2))"
      ],
      "metadata": {
        "id": "bpC168TSUPY1"
      },
      "execution_count": null,
      "outputs": []
    },
    {
      "cell_type": "markdown",
      "source": [
        "# Assumptions Testing"
      ],
      "metadata": {
        "id": "sNhGrMdrTqoR"
      }
    },
    {
      "cell_type": "code",
      "source": [
        "#@title Levene's Test\n",
        "\n",
        "# Import libraries\n",
        "import numpy as np\n",
        "\n",
        "try:\n",
        "    import pingouin as pg\n",
        "    print('The pingouin library is already installed.')\n",
        "except ImportError as e:\n",
        "    !pip install pingouin\n",
        "    import pingouin as pg\n",
        "    print('The pingouin library was installed.')\n",
        "\n",
        "# Levene's test for equality of variances\n",
        "test = pg.homoscedasticity(\n",
        "    data, dv='y',\n",
        "    group='x',\n",
        "    method='levene',\n",
        "    alpha=0.05\n",
        "    )\n",
        "\n",
        "# Print result\n",
        "print(f'Levene\\'s test result: \\n\\n{test}')\n",
        "\n",
        "# Interpret Levene's test\n",
        "if test.pval[0] < .05:\n",
        "    print(\n",
        "        f\"\"\"\\n\n",
        "        Levene's test was statistically significant\n",
        "        (p = {str(test.pval[0].round(2))}). The assumption of equality of\n",
        "        variances was violated, meaning that the variability\n",
        "        within each group is not the same.\"\"\"\n",
        "        )\n",
        "else:\n",
        "    print(\n",
        "        f\"\"\"\\n\n",
        "        Levene's test was not statistically significant\n",
        "        (p = {str(test.pval[0].round(2))}). The assumption of equality of\n",
        "        variances was met, meaning that the variability\n",
        "        within each group is roughly the same.\"\"\"\n",
        "        )"
      ],
      "metadata": {
        "id": "9sk6AB-vTajT"
      },
      "execution_count": null,
      "outputs": []
    },
    {
      "cell_type": "markdown",
      "source": [
        "# Post-Hoc Testing"
      ],
      "metadata": {
        "id": "3jtevNHjVB1R"
      }
    },
    {
      "cell_type": "code",
      "source": [
        "#@title Tukey's HSD\n",
        "\n",
        "# Import libraries\n",
        "import statsmodels.api as sm\n",
        "from statsmodels.stats.multicomp import pairwise_tukeyhsd\n",
        "\n",
        "# Tukey's HSD\n",
        "tukey_hsd = pairwise_tukeyhsd(data['y'], data['x'])\n",
        "print(tukey_hsd)"
      ],
      "metadata": {
        "id": "3nne3z9dUyRv"
      },
      "execution_count": null,
      "outputs": []
    },
    {
      "cell_type": "markdown",
      "metadata": {
        "id": "2pX37YzwPOGM"
      },
      "source": [
        "# Data Visualization"
      ]
    },
    {
      "cell_type": "code",
      "execution_count": null,
      "metadata": {
        "id": "UuCRVVz8xXEp"
      },
      "outputs": [],
      "source": [
        "#@title Kernel Density Estimate Plot\n",
        "\n",
        "# Import library\n",
        "import seaborn as sns\n",
        "\n",
        "# KDE plot\n",
        "sns.kdeplot(data = data['x'], fill=True, bw_adjust=3, color='green')"
      ]
    },
    {
      "cell_type": "code",
      "execution_count": null,
      "metadata": {
        "id": "9VFibOBnXCfx"
      },
      "outputs": [],
      "source": [
        "#@title Dot Plot\n",
        "\n",
        "# Import library\n",
        "import seaborn as sns\n",
        "\n",
        "# Dot plot - test with Red Wine Quality data\n",
        "sns.stripplot(x=data['y'], y=data['x10'], color='purple')"
      ]
    },
    {
      "cell_type": "code",
      "execution_count": null,
      "metadata": {
        "id": "Y2O8CseolCnQ"
      },
      "outputs": [],
      "source": [
        "#@title Box Plot (No Parameter Adjustment)\n",
        "\n",
        "# Import libraries\n",
        "import seaborn as sns\n",
        "import matplotlib.pyplot as plt\n",
        "\n",
        "# Figure size\n",
        "plt.figure(figsize=(15, 8))\n",
        "\n",
        "# Box plot - test with Connecticut Housing data\n",
        "sns.boxplot(x='y', y='x', data=data)"
      ]
    },
    {
      "cell_type": "code",
      "execution_count": null,
      "metadata": {
        "id": "EWktFZLMoC99"
      },
      "outputs": [],
      "source": [
        "#@title Box Plot (Adjust Color and Plot One Candlestick)\n",
        "\n",
        "# Filter data\n",
        "var_name = data[data['x'] == 'value']\n",
        "\n",
        "# Figure size\n",
        "plt.figure(figsize=(3, 6))\n",
        "\n",
        "# Box plot (test with Connecticut Housing data)\n",
        "sns.boxplot(x='x', y='x1', data=var_name, color='green')"
      ]
    },
    {
      "cell_type": "code",
      "source": [
        "#@title Scatterplot\n",
        "\n",
        "# Import library\n",
        "import seaborn as sns\n",
        "\n",
        "# Generate scatterplot\n",
        "sns.regplot(x=data['x'], y=data['x1'], ci=None)"
      ],
      "metadata": {
        "id": "sQ83ZP5YauYE"
      },
      "execution_count": null,
      "outputs": []
    },
    {
      "cell_type": "code",
      "execution_count": null,
      "metadata": {
        "id": "0ubBUJ0ntwir"
      },
      "outputs": [],
      "source": [
        "#@title Regression Line\n",
        "\n",
        "# Import libraries\n",
        "import seaborn as sns\n",
        "import matplotlib.pyplot as plt\n",
        "\n",
        "# Linear regression line\n",
        "sns.lmplot(x='x', y='x1', data=data)\n",
        "\n",
        "# Save plot\n",
        "plt.savefig('linear_regression.png')"
      ]
    },
    {
      "cell_type": "code",
      "execution_count": null,
      "metadata": {
        "id": "ekFxylkIxzdQ"
      },
      "outputs": [],
      "source": [
        "#@title Histogram (No Parameter Adjustment)\n",
        "\n",
        "# Import libraries\n",
        "import seaborn as sns\n",
        "import matplotlib.pyplot as plt\n",
        "\n",
        "# Adjust the figure size\n",
        "plt.figure(figsize=(15, 8))\n",
        "\n",
        "# Histogram - test with Drinks data\n",
        "sns.histplot(data=data)"
      ]
    },
    {
      "cell_type": "code",
      "execution_count": null,
      "metadata": {
        "id": "vKlh7Hvo0IYq"
      },
      "outputs": [],
      "source": [
        "#@title Histogram (Binwidth and KDE)\n",
        "\n",
        "# Import libraries\n",
        "import seaborn as sns\n",
        "import matplotlib.pyplot as plt\n",
        "\n",
        "# Ajust figure size\n",
        "plt.figure(figsize=(15, 8))\n",
        "\n",
        "# Histogram - test with Drinks data\n",
        "sns.histplot(data=data['x'], binwidth=10, kde=True)"
      ]
    },
    {
      "cell_type": "code",
      "execution_count": null,
      "metadata": {
        "id": "wzSKqTtt1nVE"
      },
      "outputs": [],
      "source": [
        "#@title Histogram (Color)\n",
        "\n",
        "# Import libraries\n",
        "import seaborn as sns\n",
        "import matplotlib.pyplot as plt\n",
        "\n",
        "# Adjust figure size\n",
        "plt.figure(figsize=(15, 8))\n",
        "\n",
        "# Histogram - test with Health Nutrition and Population Data\n",
        "# We have x as a continuous variable\n",
        "sns.histplot(data=data['x'], binwidth=4, color='brown')"
      ]
    },
    {
      "cell_type": "code",
      "execution_count": null,
      "metadata": {
        "id": "tnnXG_dEsW6g"
      },
      "outputs": [],
      "source": [
        "#@title Histogram with automatic binning and color\n",
        "\n",
        "# Import library\n",
        "import seaborn as sns\n",
        "\n",
        "# Histogram\n",
        "sns.histplot(data['x'])"
      ]
    },
    {
      "cell_type": "code",
      "execution_count": null,
      "metadata": {
        "id": "T2g92jlMsZ78"
      },
      "outputs": [],
      "source": [
        "#@title Histogram with automatic binning and custom color\n",
        "\n",
        "# For a list of color names:\n",
        "# https://matplotlib.org/stable/gallery/color/named_colors.html\n",
        "\n",
        "# Import library\n",
        "import seaborn as sns\n",
        "\n",
        "# Get user input on histogram color\n",
        "custom_color = input('Type the name of a color : ')\n",
        "\n",
        "# Histogram\n",
        "sns.histplot(data['x'], color=custom_color, binwidth=1)"
      ]
    },
    {
      "cell_type": "code",
      "execution_count": null,
      "metadata": {
        "id": "CnUD_BdHszn_"
      },
      "outputs": [],
      "source": [
        "#@title Histogram with Custom Binning and Custom Color\n",
        "\n",
        "# For a list of color names:\n",
        "# https://matplotlib.org/stable/gallery/color/named_colors.html\n",
        "\n",
        "# Import library\n",
        "import seaborn as sns\n",
        "\n",
        "# Get user input for color\n",
        "custom_color = input('Type the name of a color : ')\n",
        "\n",
        "# Get user input for bins\n",
        "custom_binwidth = int(input('Enter the width of the bins : '))\n",
        "\n",
        "# Histogram\n",
        "sns.histplot(data['x'], color=custom_color, binwidth=custom_binwidth)"
      ]
    },
    {
      "cell_type": "code",
      "execution_count": null,
      "metadata": {
        "id": "R5t_XduBhI-h"
      },
      "outputs": [],
      "source": [
        "#@title Count Plot (Horizontal)\n",
        "\n",
        "# Import libraries\n",
        "import seaborn as sns\n",
        "import matplotlib.pyplot as plt\n",
        "\n",
        "# Bar plot - test with FIFA19 data\n",
        "plt.figure(figsize=(8, 15))\n",
        "sns.set_theme(style='darkgrid')\n",
        "ax = sns.countplot(y='x5', data=data, palette='Set1')\n",
        "\n",
        "# The style parameter of set_theme method can take\n",
        "# darkgrid, whitegrid, dark, white, and ticks as args.\n",
        "# The palette can be Set1, Set2, or Set3.\n",
        "# Adding a hue parameter will take the data column name\n",
        "# from the data frame to display legends."
      ]
    },
    {
      "cell_type": "code",
      "execution_count": null,
      "metadata": {
        "id": "Omrg6lKtnhKT"
      },
      "outputs": [],
      "source": [
        "#@title Bar Plot aka Count Plot (Vertical)\n",
        "\n",
        "# Import libraries\n",
        "import seaborn as sns\n",
        "import matplotlib.pyplot as plt\n",
        "\n",
        "# Bar plot\n",
        "plt.figure(figsize=(15, 8))\n",
        "sns.set_theme(style='dark')\n",
        "ax = sns.countplot(x='x', data=data, palette='Set2')\n",
        "\n",
        "# The style parameter of the set_theme method can be\n",
        "# darkgrid, whitegrid, dark, white, and ticks as arguments.\n",
        "# The palette can be Set1, Set2, or Set3.\n",
        "# The hue parameter will take the data column name\n",
        "# from the data frame to display legends."
      ]
    },
    {
      "cell_type": "code",
      "execution_count": null,
      "metadata": {
        "id": "x_QohoNEkLXV"
      },
      "outputs": [],
      "source": [
        "#@title Count Plot (Customization)\n",
        "\n",
        "# Import library\n",
        "import seaborn as sns\n",
        "\n",
        "# Bar plot - test with Red Wine Quality data\n",
        "sns.set_theme(style='darkgrid')\n",
        "ax = sns.countplot(y='y', data=data, linewidth=2,\n",
        "                  edgecolor=sns.color_palette('dark', 6))"
      ]
    },
    {
      "cell_type": "code",
      "execution_count": null,
      "metadata": {
        "id": "CKJVc8Pz5YGv"
      },
      "outputs": [],
      "source": [
        "#@title Bar Plot (No Parameter Adjustment)\n",
        "\n",
        "# Import libraries\n",
        "import seaborn as sns\n",
        "import matplotlib.pyplot as plt\n",
        "\n",
        "# Adjust figure size\n",
        "plt.figure(figsize=(15, 8))\n",
        "\n",
        "# Bar plot - test with Connecticut Housing data\n",
        "sns.barplot(x='y', y='x1', data=data)"
      ]
    },
    {
      "cell_type": "code",
      "execution_count": null,
      "metadata": {
        "id": "xqvHNu0-7hGr"
      },
      "outputs": [],
      "source": [
        "#@title Bar Plot (Adjust Color)\n",
        "\n",
        "# Import libraries\n",
        "import seaborn as sns\n",
        "import matplotlib.pyplot as plt\n",
        "\n",
        "# Adjust figure size\n",
        "plt.figure(figsize=(15, 8))\n",
        "\n",
        "# Bar plot (adjust color) - test with Connecticut Housing data\n",
        "sns.barplot(x='y', y='x1', data=data, color='orange')"
      ]
    },
    {
      "cell_type": "code",
      "execution_count": null,
      "metadata": {
        "id": "IjrpLGMp8mj1"
      },
      "outputs": [],
      "source": [
        "#@title Bar plot with One Bar\n",
        "\n",
        "# Import libraries\n",
        "import seaborn as sns\n",
        "import matplotlib.pyplot as plt\n",
        "\n",
        "# Filter data for one county\n",
        "var_name = data[data['y'] == 'value']\n",
        "\n",
        "# Adjust figure size\n",
        "plt.figure(figsize=(3, 6))\n",
        "\n",
        "# Bar plot (test with Connecticut Housing data)\n",
        "sns.barplot(x='y', y='x1', data=var_name,\n",
        "            color='brown', errcolor='red', errwidth=5)"
      ]
    },
    {
      "cell_type": "markdown",
      "metadata": {
        "id": "0IMbC0VFPn8j"
      },
      "source": [
        "# Data Generation: Discrete and Continuous"
      ]
    },
    {
      "cell_type": "code",
      "execution_count": null,
      "metadata": {
        "id": "f8Vk7VMDtoN5"
      },
      "outputs": [],
      "source": [
        "#@title Generation of Random Data: Discrete RV (Array Edition)\n",
        "\n",
        "# Import library\n",
        "import numpy as np\n",
        "\n",
        "# Create a generator object\n",
        "rng = np.random.default_rng(seed=100)\n",
        "\n",
        "# Specify parameters for generator to produce integers:\n",
        "# Lower bound (inclusive)\n",
        "lower_bound = 1\n",
        "\n",
        "# Upper bound (exlusive)\n",
        "upper_bound = 7\n",
        "\n",
        "# Adjust array size\n",
        "array_size = 1\n",
        "\n",
        "# Generate a random integer (example: rolling a die)\n",
        "rand_num = rng.integers(low=lower_bound, high=upper_bound, size=array_size)\n",
        "\n",
        "# Display result\n",
        "rand_num"
      ]
    },
    {
      "cell_type": "code",
      "execution_count": null,
      "metadata": {
        "id": "pvTaz-jiuLRC"
      },
      "outputs": [],
      "source": [
        "#@title Generation of Random Data: Discrete RV (Matrix Edition)\n",
        "\n",
        "# Import library\n",
        "import numpy as np\n",
        "\n",
        "# Create a generator object\n",
        "rng = np.random.default_rng(seed=100)\n",
        "\n",
        "# Specify parameters for generator to produce integers:\n",
        "# Lower bound (inclusive)\n",
        "lower_bound = 1\n",
        "\n",
        "# Upper bound (exlusive)\n",
        "upper_bound = 7\n",
        "\n",
        "# Two dimensional array of values\n",
        "matrix_size = (2, 4)\n",
        "\n",
        "# Include upper_bound in list of random numbers\n",
        "list_num = rng.integers(low=lower_bound, high=upper_bound,\n",
        "                        size=matrix_size, endpoint=True)\n",
        "\n",
        "# Display result\n",
        "list_num"
      ]
    },
    {
      "cell_type": "code",
      "execution_count": null,
      "metadata": {
        "id": "MqN8xk9JuZ2Q"
      },
      "outputs": [],
      "source": [
        "#@title Generation of Random Data: Discrete RV (Binomial Distribution)\n",
        "import numpy as np\n",
        "\n",
        "# Create a generator object\n",
        "rng = np.random.default_rng(seed=100)\n",
        "\n",
        "# Number of trials\n",
        "num_trials = 10\n",
        "\n",
        "# Probability of success\n",
        "p_success = 0.5\n",
        "\n",
        "# Number of experiments\n",
        "num_exp = 1000\n",
        "\n",
        "# Generate sample from the binomial distribution\n",
        "sample = rng.binomial(num_trials, p_success, size=num_exp)\n",
        "\n",
        "# Display sample\n",
        "sample"
      ]
    },
    {
      "cell_type": "code",
      "execution_count": null,
      "metadata": {
        "id": "lOJhTOeFuqfV"
      },
      "outputs": [],
      "source": [
        "#@title Generation of Random Data: Continuous RV (Array Edition)\n",
        "\n",
        "# Import library\n",
        "import numpy as np\n",
        "\n",
        "# Create a generator object\n",
        "rng = np.random.default_rng(seed=42)\n",
        "\n",
        "# Specify parameters\n",
        "mean = 3\n",
        "standard_deviation = 2\n",
        "sample_size = 20\n",
        "\n",
        "# Generate sample with default values for loc=0, scale=1, and size=none\n",
        "sample = rng.normal(loc=mean, scale=standard_deviation, size=sample_size)\n",
        "\n",
        "# Display sample\n",
        "sample"
      ]
    },
    {
      "cell_type": "code",
      "execution_count": null,
      "metadata": {
        "id": "b_b2OZt6vClD"
      },
      "outputs": [],
      "source": [
        "#@title Generation of Random Data: Continuous RV (Matrix Edition)\n",
        "\n",
        "# Import library\n",
        "import numpy as np\n",
        "\n",
        "# Create a generator object\n",
        "rng = np.random.default_rng(seed=42)\n",
        "\n",
        "# Specify n-dimensional array of samples\n",
        "matrix_size = (2,4)\n",
        "\n",
        "# Generate sample\n",
        "sample = rng.normal(loc=mean, scale=standard_deviation, size=matrix_size)\n",
        "\n",
        "# Display sample\n",
        "sample"
      ]
    },
    {
      "cell_type": "code",
      "execution_count": null,
      "metadata": {
        "id": "ePR7qtwHvLOs"
      },
      "outputs": [],
      "source": [
        "#@title Generation of Random Data: Continuous RV (Multiple Means)\n",
        "\n",
        "# Import library\n",
        "import numpy as np\n",
        "\n",
        "# Create a generator object\n",
        "rng = np.random.default_rng(seed=42)\n",
        "\n",
        "# loc parameter can take an array of values: e.g. [mean1, mean2]\n",
        "loc_list = [0,5]\n",
        "\n",
        "# scale parameter can take an array of values: e.g. [std_dev1, std_dev2]\n",
        "deviation_list = [1,2]\n",
        "\n",
        "# size parameters has to match the array size in the previous parameters,\n",
        "# in this example column size (2) matches the array size (2)\n",
        "row = 5\n",
        "column = 2\n",
        "\n",
        "# Generate sample\n",
        "sample = rng.normal(loc=loc_list, scale=deviation_list, size=(row, column))\n",
        "\n",
        "# Display sample\n",
        "sample"
      ]
    },
    {
      "cell_type": "markdown",
      "metadata": {
        "id": "OKCNkT8YPtdy"
      },
      "source": [
        "# Arithmetics with Dataframe"
      ]
    },
    {
      "cell_type": "code",
      "execution_count": null,
      "metadata": {
        "id": "OOwgwCjvwO7y"
      },
      "outputs": [],
      "source": [
        "#@title Adding Two Columns\n",
        "\n",
        "# Add columns\n",
        "data['x'].add(data['x1']).head(5)"
      ]
    },
    {
      "cell_type": "code",
      "execution_count": null,
      "metadata": {
        "id": "S43Dq3JQwaF4"
      },
      "outputs": [],
      "source": [
        "#@title Subtracting One Column from Another\n",
        "\n",
        "# Subrtact columns\n",
        "data['x'].subtract(data['x1']).head(5)"
      ]
    },
    {
      "cell_type": "code",
      "execution_count": null,
      "metadata": {
        "id": "A8XWY5h_wjVC"
      },
      "outputs": [],
      "source": [
        "#@title Multiplying Two Columns\n",
        "\n",
        "# Multiply columns\n",
        "data['x'].multiply(data['x1']).head(5)"
      ]
    },
    {
      "cell_type": "code",
      "execution_count": null,
      "metadata": {
        "id": "nbrwHq9Ywutl"
      },
      "outputs": [],
      "source": [
        "#@title Dividing One Column from Another\n",
        "\n",
        "# Divide columns\n",
        "data['x'].divide(data['x1']).head(5)"
      ]
    },
    {
      "cell_type": "code",
      "execution_count": null,
      "metadata": {
        "id": "D5KOr0E1wz6C"
      },
      "outputs": [],
      "source": [
        "#@title Summing All Values in Columns with Numeric Values\n",
        "\n",
        "# Sum all numeric column values\n",
        "data.sum(numeric_only=True)"
      ]
    },
    {
      "cell_type": "code",
      "execution_count": null,
      "metadata": {
        "id": "OFK-BC8ow7FI"
      },
      "outputs": [],
      "source": [
        "#@title Summing All Values for a Specified Column\n",
        "\n",
        "# Sum all specific column values\n",
        "data['x'].sum()"
      ]
    },
    {
      "cell_type": "code",
      "execution_count": null,
      "metadata": {
        "id": "8LfDT6PNw9kq"
      },
      "outputs": [],
      "source": [
        "#@title Exponentiate a Specified Column\n",
        "\n",
        "# Exponentiate a specific column\n",
        "data['x'].pow(2)"
      ]
    },
    {
      "cell_type": "code",
      "execution_count": null,
      "metadata": {
        "id": "ni6vgpHzxHmt"
      },
      "outputs": [],
      "source": [
        "#@title Exponentiate Multiple Numeric Columns in Data Set\n",
        "\n",
        "# Exponentiate multiple numeric columns,\n",
        "# excluding column y, which has a string data type\n",
        "data.iloc[ 1: , 1:].pow(2)"
      ]
    },
    {
      "cell_type": "code",
      "execution_count": null,
      "metadata": {
        "id": "W1M-_AqUxfIv"
      },
      "outputs": [],
      "source": [
        "#@title Calculate Roots\n",
        "\n",
        "# Perform square root\n",
        "data.iloc[ 1: , 1:].pow(1/2)"
      ]
    },
    {
      "cell_type": "code",
      "execution_count": null,
      "metadata": {
        "id": "cZQvnlXR9JRF"
      },
      "outputs": [],
      "source": [
        "#@title Create New Column in Data Frame\n",
        "\n",
        "# Create new column\n",
        "data['x6'] = data['x'].pow(2)"
      ]
    },
    {
      "cell_type": "code",
      "execution_count": null,
      "metadata": {
        "id": "upAbbMK--Dfp"
      },
      "outputs": [],
      "source": [
        "#@title Rounding for One Data Frame Column\n",
        "\n",
        "# Round one column\n",
        "data['x6'].round(1)"
      ]
    },
    {
      "cell_type": "code",
      "execution_count": null,
      "metadata": {
        "id": "U1gOicSi--im"
      },
      "outputs": [],
      "source": [
        "#@title Rounding for the Whole Dataframe\n",
        "\n",
        "# Round the whole dataframe\n",
        "data.round(1)"
      ]
    },
    {
      "cell_type": "code",
      "execution_count": null,
      "metadata": {
        "id": "ruTFx52s_CmF"
      },
      "outputs": [],
      "source": [
        "#@title Find Missing Values\n",
        "\n",
        "# Find missing values\n",
        "bool_series = pd.isnull(data['x'])\n",
        "\n",
        "# Display result (may or may not show missing data)\n",
        "data[bool_series]"
      ]
    },
    {
      "cell_type": "code",
      "execution_count": null,
      "metadata": {
        "id": "8akdLlv0_UG-"
      },
      "outputs": [],
      "source": [
        "#@title Sorting the Data Frame\n",
        "\n",
        "# Sort data frame (this is not an in-place sort)\n",
        "data.sort_values(by=['y'], ascending=True)\n",
        "\n",
        "# We can assign the result dataframe to the\n",
        "# same variable to reflect the change using:\n",
        "# data = data.sort_values(by=['y'], ascending=True)"
      ]
    },
    {
      "cell_type": "code",
      "execution_count": null,
      "metadata": {
        "id": "2eOAJjKe_gv8"
      },
      "outputs": [],
      "source": [
        "#@title Selecting Cases in Data Frame\n",
        "\n",
        "# Select case\n",
        "data[data['x'] > 70]"
      ]
    },
    {
      "cell_type": "code",
      "execution_count": null,
      "metadata": {
        "id": "9VMQEFM0_k9d"
      },
      "outputs": [],
      "source": [
        "#@title Exclude a Participant Number from the Cases\n",
        "\n",
        "# Exclude participant number\n",
        "data[(data['x'] > 70) & (data['x'] != 75)]"
      ]
    },
    {
      "cell_type": "markdown",
      "metadata": {
        "id": "qY4sxKzEQvAZ"
      },
      "source": [
        "# Descriptive Statistics"
      ]
    },
    {
      "cell_type": "code",
      "execution_count": null,
      "metadata": {
        "id": "QWaDWcPj_xQ7"
      },
      "outputs": [],
      "source": [
        "#@title Generate Descriptive Statistics\n",
        "\n",
        "# Descriptive stats\n",
        "data.describe()"
      ]
    },
    {
      "cell_type": "code",
      "execution_count": null,
      "metadata": {
        "id": "-kVLQe_e1w05"
      },
      "outputs": [],
      "source": [
        "#@title Measures of Central Tendency with Missing Data\n",
        "\n",
        "# Test with Cancer Cases data ('x4' has missing data)\n",
        "print('Mean: ', data['x4'].mean())\n",
        "print('Median: ', data['x4'].median())\n",
        "print('Mode: ', data['x4'].mode())\n",
        "\n",
        "# For cancer cases dataset, no mode exists in column 'x4'.\n",
        "# No warnings or errors when performing central tendency measurements."
      ]
    },
    {
      "cell_type": "code",
      "execution_count": null,
      "metadata": {
        "id": "1gJXedGyAAf0"
      },
      "outputs": [],
      "source": [
        "#@title Mean\n",
        "\n",
        "# Mean\n",
        "data.mean()"
      ]
    },
    {
      "cell_type": "code",
      "execution_count": null,
      "metadata": {
        "id": "xFsBERQlADjD"
      },
      "outputs": [],
      "source": [
        "#@title Median\n",
        "\n",
        "# Median\n",
        "data.median()"
      ]
    },
    {
      "cell_type": "code",
      "execution_count": null,
      "metadata": {
        "id": "RnUiwxefAGbi"
      },
      "outputs": [],
      "source": [
        "#@title Mode\n",
        "\n",
        "# Mode\n",
        "data.mode()\n",
        "\n",
        "# Below result may show the data frame due to the\n",
        "# fact that this particular data frame has no mode."
      ]
    },
    {
      "cell_type": "code",
      "execution_count": null,
      "metadata": {
        "id": "xxHOk95wA3TO"
      },
      "outputs": [],
      "source": [
        "#@title Minimum\n",
        "\n",
        "# Minimun value\n",
        "data.min()\n",
        "\n",
        "# Minimum in column 'x'\n",
        "# data['x'].min()"
      ]
    },
    {
      "cell_type": "code",
      "execution_count": null,
      "metadata": {
        "id": "R1aV0YGQA_Ey"
      },
      "outputs": [],
      "source": [
        "#@title Maximum\n",
        "\n",
        "# Maximum value\n",
        "data.max()\n",
        "\n",
        "# Maximum in column 'x'\n",
        "# data['x'].max"
      ]
    },
    {
      "cell_type": "code",
      "execution_count": null,
      "metadata": {
        "id": "wIyQpSEQBDjR"
      },
      "outputs": [],
      "source": [
        "#@title Range\n",
        "\n",
        "# Range\n",
        "data['x'].max() - data['x'].min()"
      ]
    },
    {
      "cell_type": "code",
      "execution_count": null,
      "metadata": {
        "id": "VGt4KCWMBG0k"
      },
      "outputs": [],
      "source": [
        "#@title First Quartile\n",
        "\n",
        "# First quartile\n",
        "first_quartile = data.describe()['x']['25%']"
      ]
    },
    {
      "cell_type": "code",
      "execution_count": null,
      "metadata": {
        "id": "5UtAfp4gBN71"
      },
      "outputs": [],
      "source": [
        "#@title Second Quartile\n",
        "\n",
        "# Second quartile\n",
        "second_quartile = data.describe()['x']['50%']"
      ]
    },
    {
      "cell_type": "code",
      "execution_count": null,
      "metadata": {
        "id": "VKap7ZpNBQlz"
      },
      "outputs": [],
      "source": [
        "#@title Third quartile\n",
        "\n",
        "# Third quartile\n",
        "third_quartile = data.describe()['x']['75%']"
      ]
    },
    {
      "cell_type": "code",
      "execution_count": null,
      "metadata": {
        "id": "PBSD3P_xBYo5"
      },
      "outputs": [],
      "source": [
        "#@title Interquartile Range\n",
        "\n",
        "# Interquartile range\n",
        "third_quartile - first_quartile"
      ]
    },
    {
      "cell_type": "code",
      "execution_count": null,
      "metadata": {
        "id": "mhAQITkCBbIC"
      },
      "outputs": [],
      "source": [
        "#@title Variance\n",
        "\n",
        "# Variance\n",
        "data['x'].var()"
      ]
    },
    {
      "cell_type": "code",
      "execution_count": null,
      "metadata": {
        "id": "ByU90B8LBdiA"
      },
      "outputs": [],
      "source": [
        "#@title Standard Deviation\n",
        "\n",
        "# Standard deviation\n",
        "data['x'].std()"
      ]
    },
    {
      "cell_type": "code",
      "execution_count": null,
      "metadata": {
        "id": "IyL2fPd_BgDt"
      },
      "outputs": [],
      "source": [
        "#@title Skewness in One Column\n",
        "\n",
        "# Skewness for specific column\n",
        "data['x'].skew()"
      ]
    },
    {
      "cell_type": "code",
      "execution_count": null,
      "metadata": {
        "id": "o_0J1HUWBj7s"
      },
      "outputs": [],
      "source": [
        "#@title Measurement of Skewness for All Columns\n",
        "\n",
        "# Skewness for all columns\n",
        "data.skew(axis=0, numeric_only=True)"
      ]
    },
    {
      "cell_type": "code",
      "execution_count": null,
      "metadata": {
        "id": "uhDWP0CbBzuI"
      },
      "outputs": [],
      "source": [
        "#@title Measurement of Kurtosis\n",
        "\n",
        "# Kurtosis\n",
        "data.kurtosis(axis=0, numeric_only=True)"
      ]
    },
    {
      "cell_type": "code",
      "execution_count": null,
      "metadata": {
        "id": "mRLVB6s8yo12"
      },
      "outputs": [],
      "source": [
        "#@title Generate Frequency Table\n",
        "\n",
        "# Import library\n",
        "import numpy as np\n",
        "\n",
        "# Test data: Red Wine Quality\n",
        "# Create two arrays: one with a set of values, and\n",
        "# another to indicate the occurences of each value.\n",
        "unique_vals, occurrences = np.unique(data['y'], return_counts=True)\n",
        "\n",
        "# Create a Python dictionary object with\n",
        "# column names as keys and the\n",
        "# Pandas series (above) as values.\n",
        "freq_dist_dict = {\n",
        "    'Value': pd.Series(unique_vals),\n",
        "    'Frequency': pd.Series(occurrences),\n",
        "}\n",
        "\n",
        "# Frequency distribution table generation\n",
        "freq_table = pd.DataFrame(freq_dist_dict)\n",
        "\n",
        "# Display frequency table\n",
        "freq_table"
      ]
    },
    {
      "cell_type": "code",
      "execution_count": null,
      "metadata": {
        "id": "rQJgZLF_auon"
      },
      "outputs": [],
      "source": [
        "#@title Generate Frequency Table with Relative Frequency\n",
        "\n",
        "# Import library\n",
        "import numpy as np\n",
        "\n",
        "# Below is a function to calculate the percentage of the frequencies.\n",
        "# Divide each count by total number of counts multiplied by 100.\n",
        "def calculate_percentage(counts, total):\n",
        "  percentages = []\n",
        "  # Iterate through counts array\n",
        "  for each in counts:\n",
        "    # Calculate percentage and append list\n",
        "    percentages.append((each/total)*100)\n",
        "  # Result list to be returned\n",
        "  return percentages\n",
        "\n",
        "# Test data: Wine Quality\n",
        "# Here, we have 2 ndarrays: one is a set of values, and\n",
        "# the other indicates the occurences of each value.\n",
        "unique_vals, occurrences = np.unique(data['y'], return_counts=True)\n",
        "\n",
        "# Find relative frequency using customized function, calculate_percentage.\n",
        "rel_freq = calculate_percentage(occurrences, len(data['y']))\n",
        "\n",
        "# Pandas series objects for each column in data frame to be created later.\n",
        "s1 = pd.Series(unique_vals)\n",
        "s2 = pd.Series(occurrences)\n",
        "s3 = pd.Series(rel_freq)\n",
        "\n",
        "# Create a Python dictionary object with\n",
        "# column names as keys and the\n",
        "# Pandas series (above) as values.\n",
        "freq_dist_dict = {\n",
        "    'Value': s1,\n",
        "    'Frequency': s2,\n",
        "    'Percent': s3,\n",
        "}\n",
        "\n",
        " # Frequency distribution table\n",
        "freq_table_w_rel_freq = pd.DataFrame(freq_dist_dict)"
      ]
    },
    {
      "cell_type": "code",
      "execution_count": null,
      "metadata": {
        "id": "xVK2_-iFrpCo"
      },
      "outputs": [],
      "source": [
        "#@title Calculate Intervals Around Mean\n",
        "\n",
        "# Mean\n",
        "mean = data['x'].mean()\n",
        "\n",
        "# Standard deviation\n",
        "sdev = data['x'].std()\n",
        "\n",
        "# Get user input on number of standard deviation\n",
        "num_sd = int(input('Number of standard deviation away from mean: '))\n",
        "\n",
        "# Display interval around mean\n",
        "(mean - num_sd * sdev, mean + num_sd * sdev)"
      ]
    },
    {
      "cell_type": "code",
      "execution_count": null,
      "metadata": {
        "id": "C1LKC-5VdGWO"
      },
      "outputs": [],
      "source": [
        "#@title Calculate Intervals Around Mean By Using Numpy to Find Standard Deviation\n",
        "\n",
        "# Mean\n",
        "mean = data['x'].mean()\n",
        "\n",
        "# Population standard deviation\n",
        "sdev = np.std(data['x'], ddof=1)\n",
        "\n",
        "# Set to one standard deviation\n",
        "(mean - 1 * sdev, mean + 1 * sdev)"
      ]
    },
    {
      "cell_type": "code",
      "execution_count": null,
      "metadata": {
        "id": "AHt5UAc3dGWO"
      },
      "outputs": [],
      "source": [
        "#@title Calculate Intervals Around Mean (Numpy and User Input)\n",
        "\n",
        "# Mean\n",
        "mean = data['x'].mean()\n",
        "\n",
        "# Population standard deviation\n",
        "sdev = np.std(data['x'], ddof=1)\n",
        "\n",
        "# Get user input on number of standard deviation\n",
        "num_sd = int(input('Number of standard deviations away from mean: '))\n",
        "\n",
        "# Set to the number of standard deviations set by user\n",
        "(mean - num_sd * sdev, mean + num_sd * sdev)"
      ]
    },
    {
      "cell_type": "code",
      "execution_count": null,
      "metadata": {
        "id": "QWoKhv3AOesq"
      },
      "outputs": [],
      "source": [
        "#@title Determine Population Variance\n",
        "\n",
        "# Verify that data['x'] has no NA before calculation\n",
        "data['x'].var() * (len(data['x']) - 1) / len(data['x'])"
      ]
    },
    {
      "cell_type": "code",
      "execution_count": null,
      "metadata": {
        "id": "eclovlfSTJiv"
      },
      "outputs": [],
      "source": [
        "#@title Determine Population Standard Deviation\n",
        "\n",
        "# Import library\n",
        "from math import sqrt\n",
        "\n",
        "# Verify that data['x'] has no NA before calculation\n",
        "sqrt(data['x'].var() * (len(data['x']) - 1) / len(data['x']))"
      ]
    },
    {
      "cell_type": "code",
      "execution_count": null,
      "metadata": {
        "id": "LWD4AUWddGWP"
      },
      "outputs": [],
      "source": [
        "#@title Add an Outlier Score (Ver. 2)\n",
        "\n",
        "# Create a copy of column 'x'\n",
        "with_outlier = data['x']\n",
        "\n",
        "# Create a new single score equal to three times the mean\n",
        "new_score = data['x'].mean() * 3\n",
        "\n",
        "# Add the outlier to the copy\n",
        "with_outlier = with_outlier.append(pd.Series(new_score))\n",
        "\n",
        "# Show the mean of the new variable\n",
        "with_outlier.mean()"
      ]
    }
  ],
  "metadata": {
    "colab": {
      "provenance": [],
      "private_outputs": true,
      "toc_visible": true,
      "include_colab_link": true
    },
    "kernelspec": {
      "display_name": "Python 3",
      "name": "python3"
    },
    "language_info": {
      "codemirror_mode": {
        "name": "ipython",
        "version": 3
      },
      "file_extension": ".py",
      "mimetype": "text/x-python",
      "name": "python",
      "nbconvert_exporter": "python",
      "pygments_lexer": "ipython3",
      "version": "3.8.5"
    }
  },
  "nbformat": 4,
  "nbformat_minor": 0
}