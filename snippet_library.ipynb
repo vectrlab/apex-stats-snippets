{
 "cells": [
  {
   "cell_type": "markdown",
   "metadata": {
    "colab_type": "text",
    "id": "view-in-github"
   },
   "source": [
    "<a href=\"https://colab.research.google.com/github/vectrlab/apex-stats-snippets/blob/main/snippet_library.ipynb\" target=\"_parent\"><img src=\"https://colab.research.google.com/assets/colab-badge.svg\" alt=\"Open In Colab\"/></a>"
   ]
  },
  {
   "cell_type": "markdown",
   "metadata": {
    "id": "wPFYkYNtf6i2"
   },
   "source": [
    "# APEX STATS Code Snippets"
   ]
  },
  {
   "cell_type": "markdown",
   "metadata": {
    "id": "H8zZNFBXp5Rc"
   },
   "source": [
    "# Data Setup"
   ]
  },
  {
   "cell_type": "code",
   "execution_count": null,
   "metadata": {
    "id": "M5E0Lh7xfyqd"
   },
   "outputs": [],
   "source": [
    "#@title Setup Blank Data\n",
    "\n",
    "# import library\n",
    "import pandas as pd \n",
    "# create a blank dataframe\n",
    "df = pd.DataFrame() "
   ]
  },
  {
   "cell_type": "code",
   "execution_count": null,
   "metadata": {
    "id": "dq6DZMQtrt4y"
   },
   "outputs": [],
   "source": [
    "#@title Setup Example Data\n",
    "\n",
    "# import library\n",
    "import pandas as pd \n",
    "# read data file: Health Nutrition\n",
    "data = pd.read_csv(\"https://raw.githubusercontent.com/vectrlab/apex-stats-datasets/main/healthnutritionandpopulation/example.csv\") \n",
    "data # display the data"
   ]
  },
  {
   "cell_type": "code",
   "execution_count": null,
   "metadata": {
    "id": "wEKbZI31HaRh"
   },
   "outputs": [],
   "source": [
    "#@title Setup Example Data\n",
    "\n",
    "# import library\n",
    "import pandas as pd \n",
    "# Red Wine Quality\n",
    "data = pd.read_csv(\"https://raw.githubusercontent.com/vectrlab/apex-stats-datasets/main/red-wine-quality/example.csv\") \n",
    "# display the data\n",
    "data "
   ]
  },
  {
   "cell_type": "code",
   "execution_count": null,
   "metadata": {
    "id": "bNx7z--7H2mc"
   },
   "outputs": [],
   "source": [
    "#@title Setup Example Data\n",
    "\n",
    "# import library\n",
    "import pandas as pd \n",
    "# read data file: Connecticut Housing\n",
    "data = pd.read_csv(\"https://raw.githubusercontent.com/vectrlab/apex-stats-datasets/main/connecticut-housing/example.csv\") \n",
    "# display the data\n",
    "data "
   ]
  },
  {
   "cell_type": "code",
   "execution_count": null,
   "metadata": {
    "id": "6__W_Co9rKAZ"
   },
   "outputs": [],
   "source": [
    "#@title Setup Example Data\n",
    "\n",
    "# import library\n",
    "import pandas as pd \n",
    "# read data file: FIFA19 data\n",
    "data = pd.read_csv(\"https://raw.githubusercontent.com/vectrlab/apex-stats-datasets/main/fifa19/example.csv\") \n",
    "# display the data\n",
    "data "
   ]
  },
  {
   "cell_type": "code",
   "execution_count": null,
   "metadata": {},
   "outputs": [],
   "source": [
    "#@title Setup Example Data\n",
    "\n",
    "# import library\n",
    "import pandas as pd\n",
    "# read data file\n",
    "data = pdf.read_csv(\"https://raw.githubusercontent.com/vectrlab/apex-stats-datasets/main/fifa19/example.csv\")\n",
    "# create try block to catch exception\n",
    "try:\n",
    "    data\n",
    "    print(\"The data were loaded.\")\n",
    "except NameError:\n",
    "    print(\"There was a problem load the data.\")"
   ]
  },
  {
   "cell_type": "markdown",
   "metadata": {
    "id": "IU0y6TSoroxU"
   },
   "source": [
    "# Population vs Sample"
   ]
  },
  {
   "cell_type": "code",
   "execution_count": null,
   "metadata": {
    "id": "bLjVS1oary8O"
   },
   "outputs": [],
   "source": [
    "#@title Generate a population distribution\n",
    "\n",
    "# import libraries\n",
    "import random \n",
    "import pandas as pd \n",
    "# set seed so that everyone has the same values, \n",
    "# comment out the line below to generate \n",
    "# a unique population each time\n",
    "random.seed(21715) \n",
    "# set the population size\n",
    "N = 1000 \n",
    "# specigy maximum value\n",
    "max_value = 100.0\n",
    "# generate a uniform distribution with N values 0-maxvalue chosen at random\n",
    "population = [random.random() * max_value for x in range(N)] \n",
    "# add the population distribution to the dataframe\n",
    "df = df.assign(X=population) "
   ]
  },
  {
   "cell_type": "code",
   "execution_count": null,
   "metadata": {
    "id": "0vUbjCtXsCtb"
   },
   "outputs": [],
   "source": [
    "#@title Population or sample size\n",
    "\n",
    "len(data[\"x\"])"
   ]
  },
  {
   "cell_type": "code",
   "execution_count": null,
   "metadata": {
    "id": "FWhqp_IRsGOt"
   },
   "outputs": [],
   "source": [
    "#@title Population or sample mean\n",
    "\n",
    "# import library\n",
    "import numpy as np \n",
    "# display the mean\n",
    "np.mean(data[\"x\"]) "
   ]
  },
  {
   "cell_type": "code",
   "execution_count": null,
   "metadata": {
    "id": "Z9fBQgwlsKtq"
   },
   "outputs": [],
   "source": [
    "#@title Population standard deviation\n",
    "\n",
    "# import library\n",
    "import numpy as np \n",
    "# display the population standard deviation\n",
    "np.std(data[\"x\"], ddof=0) "
   ]
  },
  {
   "cell_type": "code",
   "execution_count": null,
   "metadata": {
    "id": "jwMB3YBDsOps"
   },
   "outputs": [],
   "source": [
    "#@title Sample standard deviation\n",
    "\n",
    "# import library\n",
    "import numpy as np \n",
    "# display the sample standard deviation; \n",
    "# ddof is delta degrees of freedom and \n",
    "# N - ddof is used in the variance calculation\n",
    "np.std(data[\"x\"], ddof=1) "
   ]
  },
  {
   "cell_type": "code",
   "execution_count": null,
   "metadata": {
    "id": "Ajq0VRHts3lh"
   },
   "outputs": [],
   "source": [
    "#@title Generate a random sample\n",
    "\n",
    "# import libraries\n",
    "import random \n",
    "import numpy as np\n",
    "# sample size of 5\n",
    "n = 5 \n",
    "# generate a single sample\n",
    "one_sample = np.random.choice(data[\"x\"], n) \n",
    "# show the sample data\n",
    "one_sample "
   ]
  },
  {
   "cell_type": "code",
   "execution_count": null,
   "metadata": {
    "id": "VLpNZJIys_4w"
   },
   "outputs": [],
   "source": [
    "#@title Generate a sampling distribution\n",
    "\n",
    "# import libraries\n",
    "import random \n",
    "import numpy as np\n",
    "# how many samples to include in the sampling distribution\n",
    "num_samples = 2000 \n",
    "# sample size\n",
    "n = 5\n",
    "# define a function\n",
    "def drange():\n",
    "    # pick a random starting spot in the distribution\n",
    "    x = random.randrange(0, len(data[\"x\"]) - (n + 1)) \n",
    "    # select n values starting from that spot - \n",
    "    # Dave note: We may need to fix this, as the selection  \n",
    "    # will be biased if data are in a nonrandom order\n",
    "    return slice(x, x + n)\n",
    "\n",
    "# assemble the sampling distribution by finding means of repeated samples\n",
    "sampling_dist = [np.mean(data[\"x\"][drange()]) for x in range(num_samples)] \n",
    "# show the sampling distribution\n",
    "sampling_dist"
   ]
  },
  {
   "cell_type": "code",
   "execution_count": null,
   "metadata": {
    "id": "AdjSMjNMtMBw"
   },
   "outputs": [],
   "source": [
    "#@title Calculate standard error\n",
    "\n",
    "# import library\n",
    "import numpy as np \n",
    "# sample size\n",
    "n = 5 \n",
    "# find standard error\n",
    "se = np.std(data[\"x\"], ddof=1) / np.sqrt(n)\n",
    "# display result\n",
    "se"
   ]
  },
  {
   "cell_type": "markdown",
   "metadata": {
    "id": "XJxCKOLbq99A"
   },
   "source": [
    "# Confidence Interval"
   ]
  },
  {
   "cell_type": "code",
   "execution_count": null,
   "metadata": {
    "id": "GtiSRk5jtQBY"
   },
   "outputs": [],
   "source": [
    "#@title Calculate 95% Confidence Interval, extended version\n",
    "import numpy as np # import library\n",
    "from scipy.stats import norm\n",
    "n = 5 # sample size\n",
    "se = np.std(data[\"X\"], ddof=1) / np.sqrt(n) # standard error\n",
    "tail = 1 - (1-.95)/2 # area of one tail outside the confidence interval\n",
    "z = norm.ppf(tail) # z-score corresponding to 97.5% area below it\n",
    "lower_bound = np.mean(data[\"X\"]) - z * se\n",
    "upper_bound = np.mean(data[\"X\"]) + z * se"
   ]
  },
  {
   "cell_type": "code",
   "execution_count": null,
   "metadata": {
    "id": "ZluEoGuBtTkt"
   },
   "outputs": [],
   "source": [
    "#@title Calculate 95% Confidence Interval, simple version\n",
    "from scipy import stats # import library\n",
    "import numpy as np \n",
    "mu = np.mean(data[\"X\"]) # mean\n",
    "sigma = np.std(data[\"X\"], ddof=1) # standard deviation\n",
    "conf_level = 0.95\n",
    "stats.norm.interval(conf_level, loc=mu, scale=sigma)"
   ]
  },
  {
   "cell_type": "markdown",
   "metadata": {
    "id": "5hoPp0dKrB-k"
   },
   "source": [
    "# Z-score"
   ]
  },
  {
   "cell_type": "code",
   "execution_count": null,
   "metadata": {
    "id": "HuVEHacLuCwx"
   },
   "outputs": [],
   "source": [
    "#@title Generate Z-scores\n",
    "\n",
    "from scipy import stats\n",
    "# create a new data column z containing z-scores\n",
    "data['z'] = stats.zscore(data[\"x\"]) \n",
    "# show data column\n",
    "data['z']"
   ]
  },
  {
   "cell_type": "code",
   "execution_count": null,
   "metadata": {
    "id": "cKsMjv14_kWy"
   },
   "outputs": [],
   "source": [
    "#@title Apply The Z-score Formula to User Inputs\n",
    "# z = (score - mean)/pop_sd\n",
    "\n",
    "# ask user to insert a new score\n",
    "raw = float(input(\"Score = \")) \n",
    "# ask user to insert a mean\n",
    "mean = float(input(\"Mean = \")) \n",
    "# ask the user to insert standard deviation\n",
    "sd = float(input(\"Input the standard deviation: \")) \n",
    "# find z-score with formula, round to 2 decimal places\n",
    "z = round((raw - mean)/sd, 2) \n",
    "# print result\n",
    "print(f\"z = {z}\") "
   ]
  },
  {
   "cell_type": "code",
   "execution_count": null,
   "metadata": {
    "id": "e_Ee5_0d6LOi"
   },
   "outputs": [],
   "source": [
    "#@title Generate Raw Scores\n",
    "\n",
    "import numpy as np\n",
    "from scipy import stats\n",
    "\n",
    "# list of raw scores\n",
    "raw_scores = [] \n",
    "# find population standard deviation\n",
    "sd = np.std(data['x']) \n",
    "# find mean from data column x\n",
    "mean = data['x'].mean() \n",
    "# access each z-score\n",
    "for z in data['z']: \n",
    "    # Save each raw score, calculated using formula, into list\n",
    "    raw_scores.append(z * sd + mean) \n",
    "\n",
    "# display result\n",
    "raw_scores "
   ]
  },
  {
   "cell_type": "code",
   "execution_count": null,
   "metadata": {
    "id": "qvTkRGKpp_Ix"
   },
   "outputs": [],
   "source": [
    "#@title Apply Raw Score Formula to User Inputs\n",
    "# score = score * sd + mean\n",
    "\n",
    "# ask user to insert a new score\n",
    "z = float(input(\"z = \")) \n",
    "# ask user to insert mean\n",
    "mean = float(input(\"Mean: \")) \n",
    "# ask user to insert standard deviation\n",
    "sd = float(input(\"Input the standard deviation: \")) \n",
    "# find z-score with formula, round to 2 decimal places\n",
    "raw = round(z * sd + mean, 2) \n",
    "# print result\n",
    "print(f\"Score = {raw}\") "
   ]
  },
  {
   "cell_type": "markdown",
   "metadata": {
    "id": "fX9pokptrJrj"
   },
   "source": [
    "# CDF and Inverse CDF"
   ]
  },
  {
   "cell_type": "code",
   "execution_count": null,
   "metadata": {
    "id": "Qg-z8VlGYlTF"
   },
   "outputs": [],
   "source": [
    "#@title Cumulative Distribution Function\n",
    "\n",
    "# import norm from scipy.stats\n",
    "from scipy.stats import norm\n",
    "# cdf of a standard normal distribution\n",
    "norm.cdf(1.45, loc=0, scale=1) \n",
    "\n",
    "# when we specify 1.45, we are interested in the area \n",
    "# under the curve to the left of the point 1.45\n",
    "# loc is where you specify your mean\n",
    "# scale is where you specify your standard deviation"
   ]
  },
  {
   "cell_type": "code",
   "execution_count": null,
   "metadata": {
    "id": "laQTYD6ZsqfG"
   },
   "outputs": [],
   "source": [
    "#@title Find Area Under the Curve\n",
    "\n",
    "from scipy.stats import norm\n",
    "# insert the mean\n",
    "mean = float(input(\"Specify your mean: \")) \n",
    "# insert the standard deviation\n",
    "stdev = float(input(\"Specify your standard deviation: \")) \n",
    "# insert the lower bound\n",
    "lower_bound = float(input(\"Specify your lower bound: \")) \n",
    "# insert the upper bound\n",
    "upper_bound = float(input(\"Specify your upper bound: \")) \n",
    "# calculate the area under the curve \n",
    "# by subtracting the larger area (using upper bound) \n",
    "# from smaller one (using lower bound)\n",
    "larger_area = norm.cdf(upper_bound, loc=mean, scale=stdev)\n",
    "smaller_area = norm.cdf(lower_bound, loc=mean, scale=stdev)\n",
    "area_under_curve = larger_area - smaller_area \n",
    "# print result; round answer to two decimal places\n",
    "print(f\"Area under the curve from {lower_bound} to {upper_bound} is {round(area_under_curve, 2)}\") "
   ]
  },
  {
   "cell_type": "code",
   "execution_count": null,
   "metadata": {
    "id": "m2_ctPDicVOg"
   },
   "outputs": [],
   "source": [
    "#@title Inverse Cumulative Distribution Function\n",
    "\n",
    "from scipy.stats import norm\n",
    "# insert the mean\n",
    "mean = float(input(\"Specify your mean: \")) \n",
    "# insert the standard deviation\n",
    "stdev = float(input(\"Specify your standard deviation: \")) \n",
    "# insert percentile\n",
    "percentile = float(input(\"Specify the percentile (from 0-1 range): \")) \n",
    "# find inverse norm result with norm.ppf method\n",
    "inv_norm_ans = norm.ppf(percentile, loc=mean, scale=stdev) \n",
    "# print result; round answer to two decimal places\n",
    "print(f\"With mean {mean} and standard deviation {stdev}, \\\n",
    "      the {int(percentile*100)}th percentile is {round(inv_norm_ans, 2)}\") \n",
    "\n",
    "# norm.ppf returns a *percentile* confidence interval for a one-tailed test\n",
    "# for example, when we specify 0.95, we indicated the area under the curve to be 0.95\n",
    "# with loc to be our mean and scale to be our standard deviation\n",
    "# In R, it is qnorm(0.95, 0, 1) or qnorm(0.05,0,1,lower.tail=FALSE) \n",
    "# with mean 0 and standard deviation 1."
   ]
  },
  {
   "cell_type": "markdown",
   "metadata": {
    "id": "CGhqgx8QrTXf"
   },
   "source": [
    "# Understand Data"
   ]
  },
  {
   "cell_type": "code",
   "execution_count": null,
   "metadata": {
    "id": "UWj3BOmJfBak"
   },
   "outputs": [],
   "source": [
    "#@title Sampling Cases From DataFrame\n",
    "new_df = df.sample(n=10, random_state=1)\n",
    "new_df"
   ]
  },
  {
   "cell_type": "code",
   "execution_count": null,
   "metadata": {
    "id": "WJyUX9wMnwwp"
   },
   "outputs": [],
   "source": [
    "#@title Find Missing Values in Dataframe Columns\n",
    "data[\"X\"].isna() # display status of each cell (False: filled with data; True: missing data)"
   ]
  },
  {
   "cell_type": "code",
   "execution_count": null,
   "metadata": {
    "id": "qBENykuhn8KX"
   },
   "outputs": [],
   "source": [
    "#@title Find Missing Values in DataFrame\n",
    "data.isna() # display status of each cell (False: filled with data; True: missing data)"
   ]
  },
  {
   "cell_type": "code",
   "execution_count": null,
   "metadata": {
    "id": "ZjpQvk9Ro8kt"
   },
   "outputs": [],
   "source": [
    "#@title Find Records Where NaN Exists\n",
    "data[\"X\"][data[\"X\"].isna() == True] # Cases where NaN exists"
   ]
  },
  {
   "cell_type": "code",
   "execution_count": null,
   "metadata": {
    "id": "OEwt3Aoop-4l"
   },
   "outputs": [],
   "source": [
    "#@title Discover Data Types\n",
    "import pandas as pd\n",
    "import numpy as np\n",
    "\n",
    "df = pd.DataFrame(np.random.randint(0,2,size=10), columns=[\"X\"]) # create a dataframe with X variable; column has integer data\n",
    "df.dtypes # Find out datatype of data in df[\"X\"] (data are 0 and 1)"
   ]
  },
  {
   "cell_type": "code",
   "execution_count": null,
   "metadata": {
    "id": "7YiXQmQvsHrd"
   },
   "outputs": [],
   "source": [
    "#@title Convert into Category Datatype\n",
    "df[\"X\"] = df[\"X\"].astype(\"category\") # turn integers into categories (factors in R)\n",
    "df.dtypes"
   ]
  },
  {
   "cell_type": "code",
   "execution_count": null,
   "metadata": {
    "id": "boa7wiHHojJV"
   },
   "outputs": [],
   "source": [
    "#@title Convert Datatype and Insert a New Column into Dataframe\n",
    "data[\"X6\"] = data[\"X\"].astype(\"category\") # turn integers into categories (factors in R)\n",
    "data.dtypes"
   ]
  },
  {
   "cell_type": "markdown",
   "metadata": {
    "id": "m2Gd4eBSq1nU"
   },
   "source": [
    "# Hypothesis Testing"
   ]
  },
  {
   "cell_type": "code",
   "execution_count": null,
   "metadata": {
    "id": "4ZBf4XOuN17e"
   },
   "outputs": [],
   "source": [
    "#@title One Sample T-test\n",
    "from scipy import stats\n",
    "result = stats.ttest_1samp(data[\"X\"], 39) # arg1: Sample Observation, arg2: Expected value in null hypothesis\n",
    "\n",
    "# To extract details from result, see comments below\n",
    "# result.statistic\n",
    "# result.pvalue"
   ]
  },
  {
   "cell_type": "code",
   "execution_count": null,
   "metadata": {
    "id": "MQr_in7EQt-A"
   },
   "outputs": [],
   "source": [
    "#@title Independent Samples T-test\n",
    "from scipy import stats\n",
    "result = stats.ttest_ind(data[\"X\"], data[\"X1\"]) # arg1: sample 1, arg2: sample 2\n",
    "\n",
    "# To extract details from result, see comments below\n",
    "# result.statistic\n",
    "# result.pvalue"
   ]
  },
  {
   "cell_type": "code",
   "execution_count": null,
   "metadata": {
    "id": "i30XgfosVgUY"
   },
   "outputs": [],
   "source": [
    "#@title Paired Samples T-test\n",
    "from scipy import stats\n",
    "result = stats.ttest_rel(data[\"X\"], data[\"X1\"]) # arg1: sample 1, arg2: sample 2\n",
    "\n",
    "# To extract details from result, see comments below\n",
    "# result.statistic\n",
    "# result.pvalue"
   ]
  },
  {
   "cell_type": "code",
   "execution_count": null,
   "metadata": {
    "id": "k5b4_xE-bzWb"
   },
   "outputs": [],
   "source": [
    "#@title Correlation Analysis\n",
    "from scipy import stats\n",
    "corr_test = stats.pearsonr(data[\"X\"], data[\"X1\"]) # returns a tuple\n",
    "print(corr_test[0]) # r: Pearson's correlation efficient\n",
    "print(corr_test[1]) # p-value: two-tailed p-val"
   ]
  },
  {
   "cell_type": "code",
   "execution_count": null,
   "metadata": {
    "id": "KCeHiTsEHm-C"
   },
   "outputs": [],
   "source": [
    "#@title Simple Regression\n",
    "from scipy import stats\n",
    "result = stats.linregress(data[\"X\"], data[\"X1\"])\n",
    "\n",
    "# More about result\n",
    "# result.slope\n",
    "# result.intercept\n",
    "# result.rvalue\n",
    "# result.pvalue\n",
    "# result.stderr"
   ]
  },
  {
   "cell_type": "code",
   "execution_count": null,
   "metadata": {
    "id": "E43QwcpUqmXk"
   },
   "outputs": [],
   "source": [
    "#@title One-Way Chi-square Test\n",
    "from scipy.stats import chisquare\n",
    "result = chisquare(data[\"X\"])\n",
    "print(result[0]) # statistic\n",
    "print(result[1]) # pvalue"
   ]
  },
  {
   "cell_type": "code",
   "execution_count": null,
   "metadata": {
    "id": "mlqtWZt8rBSI"
   },
   "outputs": [],
   "source": [
    "#@title One-way ANOVA\n",
    "from scipy import stats\n",
    "result = stats.f_oneway(data[\"X\"], data[\"X1\"])\n",
    "print(result.statistic)\n",
    "print(result.pvalue)"
   ]
  },
  {
   "cell_type": "markdown",
   "metadata": {
    "id": "2pX37YzwPOGM"
   },
   "source": [
    "# Data Visualization"
   ]
  },
  {
   "cell_type": "code",
   "execution_count": null,
   "metadata": {
    "id": "UuCRVVz8xXEp"
   },
   "outputs": [],
   "source": [
    "#@title Kernel Density Estimate Plot\n",
    "import seaborn as sns\n",
    "sns.kdeplot(data=data[\"x\"], fill=True, bw_adjust=3, color=\"green\")"
   ]
  },
  {
   "cell_type": "code",
   "execution_count": null,
   "metadata": {
    "id": "9VFibOBnXCfx"
   },
   "outputs": [],
   "source": [
    "#@title Dot Plot\n",
    "import seaborn as sns\n",
    "\n",
    "# Test code with Red wine quality data\n",
    "# Create and display dot plot\n",
    "sns.stripplot(data[\"y\"], data[\"x10\"], color=\"purple\") "
   ]
  },
  {
   "cell_type": "code",
   "execution_count": null,
   "metadata": {
    "id": "Y2O8CseolCnQ"
   },
   "outputs": [],
   "source": [
    "#@title Box Plot (No Parameter Adjustment)\n",
    "import seaborn as sns\n",
    "import matplotlib.pyplot as plt\n",
    "\n",
    "# Test code with Connecticut housing data\n",
    "# adjust figure size\n",
    "plt.figure(figsize=(15,8))\n",
    "# draw box plot\n",
    "sns.boxplot(x=\"y\", y=\"x\", data=data) "
   ]
  },
  {
   "cell_type": "code",
   "execution_count": null,
   "metadata": {
    "id": "EWktFZLMoC99"
   },
   "outputs": [],
   "source": [
    "#@title Box Plot (Adjust Color and Plot One Candlestick)\n",
    "\n",
    "# Test code with Connecticut housing data\n",
    "fairfield = data[data['y'] == 'Fairfield']\n",
    "# adjust figure size\n",
    "plt.figure(figsize=(3,6)) \n",
    "# draw box plot\n",
    "sns.boxplot(x=\"y\", y=\"x\", data=fairfield, color=\"green\") "
   ]
  },
  {
   "cell_type": "code",
   "execution_count": null,
   "metadata": {
    "id": "0ubBUJ0ntwir"
   },
   "outputs": [],
   "source": [
    "#@title Regression Line\n",
    "import seaborn as sns\n",
    "import matplotlib.pyplot as plt\n",
    "\n",
    "# Plot linear regression line\n",
    "sns.lmplot(x=\"x\", y=\"x1\", data=data) \n",
    "# Save Plot\n",
    "plt.savefig('linear_regression.png') "
   ]
  },
  {
   "cell_type": "code",
   "execution_count": null,
   "metadata": {
    "id": "ekFxylkIxzdQ"
   },
   "outputs": [],
   "source": [
    "#@title Histogram (No Parameter Adjustment)\n",
    "import seaborn as sns\n",
    "import matplotlib.pyplot as plt\n",
    "\n",
    "# Test code with Drinks Data\n",
    "# Adjust the figure size\n",
    "plt.figure(figsize=(15,8)) \n",
    "# Plot histogram\n",
    "sns.histplot(data=data) "
   ]
  },
  {
   "cell_type": "code",
   "execution_count": null,
   "metadata": {
    "id": "vKlh7Hvo0IYq"
   },
   "outputs": [],
   "source": [
    "#@title Histogram (Binwidth and KDE)\n",
    "import seaborn as sns\n",
    "import matplotlib.pyplot as plt\n",
    "\n",
    "# Test code with Drinks Data\n",
    "# Adjust figure size\n",
    "plt.figure(figsize=(15,8)) \n",
    "# Plot histogram\n",
    "sns.histplot(data=data['x'], binwidth=10, kde=True) "
   ]
  },
  {
   "cell_type": "code",
   "execution_count": null,
   "metadata": {
    "id": "wzSKqTtt1nVE"
   },
   "outputs": [],
   "source": [
    "#@title Histogram (Color)\n",
    "import seaborn as sns\n",
    "import matplotlib.pyplot as plt\n",
    "\n",
    "# Test code with Health Nutrition and Population Data\n",
    "# We have x as a continuous variable\n",
    "\n",
    "# Adjust figure size\n",
    "plt.figure(figsize=(15,8)) \n",
    "# Plot histogram\n",
    "sns.histplot(data=data['x'], binwidth=4, color=\"brown\") "
   ]
  },
  {
   "cell_type": "code",
   "execution_count": null,
   "metadata": {
    "id": "tnnXG_dEsW6g"
   },
   "outputs": [],
   "source": [
    "#@title Histogram with automatic binning and color\n",
    "\n",
    "# import library\n",
    "import seaborn as sns \n",
    "# Display the histogram\n",
    "sns.histplot(data[\"x\"]) "
   ]
  },
  {
   "cell_type": "code",
   "execution_count": null,
   "metadata": {
    "id": "T2g92jlMsZ78"
   },
   "outputs": [],
   "source": [
    "#@title Histogram with automatic binning and custom color\n",
    "# color names that work should include \n",
    "# https://matplotlib.org/stable/gallery/color/named_colors.html\n",
    "\n",
    "# import library\n",
    "import seaborn as sns \n",
    "# Get user input on histogram color\n",
    "custom_color = input(\"Type the name of a color : \") \n",
    "# Display the histogram\n",
    "sns.histplot(data[\"x\"], color = custom_color, binwidth = 1) "
   ]
  },
  {
   "cell_type": "code",
   "execution_count": null,
   "metadata": {
    "id": "CnUD_BdHszn_"
   },
   "outputs": [],
   "source": [
    "#@title Histogram with custom binning and custom color\n",
    "# color names that work should include \n",
    "# https://matplotlib.org/stable/gallery/color/named_colors.html\n",
    "\n",
    "# import library\n",
    "import seaborn as sns\n",
    "# Get user input for color\n",
    "custom_color = input(\"Type the name of a color : \") \n",
    "# Get user input for bins\n",
    "custom_binwidth = int(input(\"Enter the width of the bins : \")) \n",
    "# Display the histogram\n",
    "sns.histplot(data[\"x\"], color = custom_color, binwidth = custom_binwidth) "
   ]
  },
  {
   "cell_type": "code",
   "execution_count": null,
   "metadata": {
    "id": "R5t_XduBhI-h"
   },
   "outputs": [],
   "source": [
    "#@title Count Plot (Horizontal)\n",
    "import seaborn as sns\n",
    "import matplotlib.pyplot as plt\n",
    "\n",
    "# Test code below with FIFA19 data\n",
    "plt.figure(figsize=(8,15))\n",
    "sns.set_theme(style=\"darkgrid\")\n",
    "ax = sns.countplot(y=\"x5\", data=data,\n",
    "                  palette=\"Set1\")\n",
    "\n",
    "# style parameter of set_theme method can take \n",
    "# darkgrid, whitegrid, dark, white, and ticks as args\n",
    "# palette's possible arguments are Set1, Set2, Set3\n",
    "# hue parameter will take data column name from \n",
    "# dataframe to display legends"
   ]
  },
  {
   "cell_type": "code",
   "execution_count": null,
   "metadata": {
    "id": "Omrg6lKtnhKT"
   },
   "outputs": [],
   "source": [
    "#@title Count Plot (Vertical)\n",
    "import seaborn as sns\n",
    "import matplotlib.pyplot as plt\n",
    "\n",
    "# Test code below with FIFA19 data\n",
    "plt.figure(figsize=(15,8))\n",
    "sns.set_theme(style=\"dark\")\n",
    "ax = sns.countplot(x=\"x\", data=data,\n",
    "                   palette=\"Set2\") \n",
    "\n",
    "# style parameter of set_theme method can take \n",
    "# darkgrid, whitegrid, dark, white, and ticks as args\n",
    "# palette's possible arguments are Set1, Set2, Set3\n",
    "# hue parameter will take data column name from \n",
    "# dataframe to display legends"
   ]
  },
  {
   "cell_type": "code",
   "execution_count": null,
   "metadata": {
    "id": "x_QohoNEkLXV"
   },
   "outputs": [],
   "source": [
    "#@title Count Plot (Customization)\n",
    "import seaborn as sns\n",
    "\n",
    "# Test code with Wine Quality data\n",
    "sns.set_theme(style=\"darkgrid\")\n",
    "ax = sns.countplot(y=\"y\", data=data, linewidth=2, \n",
    "                  edgecolor=sns.color_palette(\"dark\", 6))"
   ]
  },
  {
   "cell_type": "code",
   "execution_count": null,
   "metadata": {
    "id": "CKJVc8Pz5YGv"
   },
   "outputs": [],
   "source": [
    "#@title Bar Plot (No Parameter Adjustment)\n",
    "import seaborn as sns\n",
    "import matplotlib.pyplot as plt\n",
    "\n",
    "# Test code with Connecticut housing data\n",
    "# Adjust figure size\n",
    "plt.figure(figsize=(15,8)) \n",
    "# Draw bar plot\n",
    "sns.barplot(x=\"y\", y=\"x1\", data=data) "
   ]
  },
  {
   "cell_type": "code",
   "execution_count": null,
   "metadata": {
    "id": "xqvHNu0-7hGr"
   },
   "outputs": [],
   "source": [
    "#@title Bar plot (Adjust Color)\n",
    "import seaborn as sns\n",
    "import matplotlib.pyplot as plt\n",
    "\n",
    "# Test code with Connecticut housing data\n",
    "# Adjust figure size\n",
    "plt.figure(figsize=(15,8)) \n",
    "# Change color of bar\n",
    "sns.barplot(x=\"y\", y=\"x1\", data=data, color=\"orange\") "
   ]
  },
  {
   "cell_type": "code",
   "execution_count": null,
   "metadata": {
    "id": "IjrpLGMp8mj1"
   },
   "outputs": [],
   "source": [
    "#@title Bar plot with One Bar\n",
    "import seaborn as sns\n",
    "import matplotlib.pyplot as plt\n",
    "\n",
    "# Test code with Connecticut housing data\n",
    "# filter data dataframe for information about one county\n",
    "fairfield = data[data['y'] == 'Fairfield']\n",
    "plt.figure(figsize=(3,6))\n",
    "sns.barplot(x=\"y\", y=\"x1\", data=fairfield, \n",
    "            color='brown', errcolor=\"red\", errwidth=5)"
   ]
  },
  {
   "cell_type": "markdown",
   "metadata": {
    "id": "0IMbC0VFPn8j"
   },
   "source": [
    "# Data Generation: Discrete and Continuous"
   ]
  },
  {
   "cell_type": "code",
   "execution_count": null,
   "metadata": {
    "id": "f8Vk7VMDtoN5"
   },
   "outputs": [],
   "source": [
    "#@title Generation of Random Data: Discrete RV (Array Edition)\n",
    "import numpy as np\n",
    "\n",
    "# Create a generator object\n",
    "rng = np.random.default_rng(seed=100)\n",
    "# Specify parameters for generator to produce integers\n",
    "# lower bound (inclusive)\n",
    "lower_bound = 1\n",
    "# upper bound (exlusive)\n",
    "upper_bound = 7\n",
    "# size of the output array\n",
    "array_size = 1 # adjust array size\n",
    "# Generate a random integer\n",
    "# example: rolling a die\n",
    "rand_num = rng.integers(low=lower_bound, high=upper_bound, size=array_size)\n",
    "# Display result\n",
    "rand_num"
   ]
  },
  {
   "cell_type": "code",
   "execution_count": null,
   "metadata": {
    "id": "pvTaz-jiuLRC"
   },
   "outputs": [],
   "source": [
    "#@title Generation of Random Data: Discrete RV (Matrix Edition)\n",
    "import numpy as np\n",
    "\n",
    "# Create a generator object\n",
    "rng = np.random.default_rng(seed=100)\n",
    "# Specify parameters for generator to produce integers\n",
    "# lower bound (inclusive)\n",
    "lower_bound = 1\n",
    "# upper bound (exlusive)\n",
    "upper_bound = 7\n",
    "# Want a two dimensional array of values\n",
    "matrix_size = (2,4)\n",
    "# Include upper_bound in list of random numbers\n",
    "list_num = rng.integers(low=lower_bound, high=upper_bound, size=matrix_size, endpoint=True)\n",
    "# Display result\n",
    "list_num"
   ]
  },
  {
   "cell_type": "code",
   "execution_count": null,
   "metadata": {
    "id": "MqN8xk9JuZ2Q"
   },
   "outputs": [],
   "source": [
    "#@title Generation of Random Data: Discrete RV (Binomial Distribution)\n",
    "import numpy as np\n",
    "\n",
    "# Create a generator object\n",
    "rng = np.random.default_rng(seed=100)\n",
    "\n",
    "# Binomial distribution\n",
    "# Set parameters\n",
    "# Number of trials\n",
    "num_trials = 10\n",
    "# Probability of success\n",
    "p_success = 0.5\n",
    "# Number of experiments\n",
    "num_exp = 1000\n",
    "# Draw sample from the binomial distribution\n",
    "sample = rng.binomial(num_trials, p_success, size=num_exp)\n",
    "# See sample\n",
    "sample"
   ]
  },
  {
   "cell_type": "code",
   "execution_count": null,
   "metadata": {
    "id": "lOJhTOeFuqfV"
   },
   "outputs": [],
   "source": [
    "#@title Generation of Random Data: Continuous RV (Array Edition)\n",
    "import numpy as np\n",
    "\n",
    "# Create a generator object\n",
    "rng = np.random.default_rng(seed=42)\n",
    "\n",
    "# Specify parameters for normal distribution\n",
    "mean = 3\n",
    "standard_deviation = 2\n",
    "sample_size = 20 \n",
    "# Default values for loc, scale, and size are 0, 1, and None respectively\n",
    "sample = rng.normal(loc=mean, scale=standard_deviation, size=sample_size)\n",
    "# Display sample\n",
    "sample"
   ]
  },
  {
   "cell_type": "code",
   "execution_count": null,
   "metadata": {
    "id": "b_b2OZt6vClD"
   },
   "outputs": [],
   "source": [
    "#@title Generation of Random Data: Continuous RV (Matrix Edition)\n",
    "import numpy as np\n",
    "\n",
    "# Create a generator object\n",
    "rng = np.random.default_rng(seed=42)\n",
    "\n",
    "# Specify n-dimensional array of samples\n",
    "matrix_size = (2,4)\n",
    "sample = rng.normal(loc=mean, scale=standard_deviation, size=matrix_size) # 2 x 4 array\n",
    "# Display sample\n",
    "sample"
   ]
  },
  {
   "cell_type": "code",
   "execution_count": null,
   "metadata": {
    "id": "ePR7qtwHvLOs"
   },
   "outputs": [],
   "source": [
    "#@title Generation of Random Data: Continuous RV (Multiple Means)\n",
    "import numpy as np\n",
    "\n",
    "# Create a generator object\n",
    "rng = np.random.default_rng(seed=42)\n",
    "\n",
    "# loc parameter can take an array of values: [mean1, mean2] for this example\n",
    "loc_list = [0,5]\n",
    "# Similarly, scale parameter can take an array of values: [std_dev1, std_dev2]\n",
    "deviation_list = [1,2]\n",
    "# size parameters has to match with the array size in the previous parameters\n",
    "# so, in this example column size (2) matches with array size (2)\n",
    "row = 5\n",
    "column = 2\n",
    "# Generate sample\n",
    "sample = rng.normal(loc=loc_list, scale=deviation_list, size=(row, column))\n",
    "# Display sample\n",
    "sample"
   ]
  },
  {
   "cell_type": "markdown",
   "metadata": {
    "id": "OKCNkT8YPtdy"
   },
   "source": [
    "# Arithmetics with Dataframe"
   ]
  },
  {
   "cell_type": "code",
   "execution_count": null,
   "metadata": {
    "id": "OOwgwCjvwO7y"
   },
   "outputs": [],
   "source": [
    "#@title Adding Two Columns \n",
    "data[\"X\"].add(data[\"X1\"]).head(5) "
   ]
  },
  {
   "cell_type": "code",
   "execution_count": null,
   "metadata": {
    "id": "S43Dq3JQwaF4"
   },
   "outputs": [],
   "source": [
    "#@title Subtracting One Column from Another\n",
    "data[\"X\"].subtract(data[\"X1\"]).head(5)"
   ]
  },
  {
   "cell_type": "code",
   "execution_count": null,
   "metadata": {
    "id": "A8XWY5h_wjVC"
   },
   "outputs": [],
   "source": [
    "#@title Multiplying Two Columns \n",
    "data[\"X\"].multiply(data[\"X1\"]).head(5)"
   ]
  },
  {
   "cell_type": "code",
   "execution_count": null,
   "metadata": {
    "id": "nbrwHq9Ywutl"
   },
   "outputs": [],
   "source": [
    "#@title Dividing One Column from Another\n",
    "data[\"X\"].divide(data[\"X1\"]).head(5)"
   ]
  },
  {
   "cell_type": "code",
   "execution_count": null,
   "metadata": {
    "id": "D5KOr0E1wz6C"
   },
   "outputs": [],
   "source": [
    "#@title Summing All Values in Columns with Numeric Values \n",
    "data.sum(numeric_only=True)"
   ]
  },
  {
   "cell_type": "code",
   "execution_count": null,
   "metadata": {
    "id": "OFK-BC8ow7FI"
   },
   "outputs": [],
   "source": [
    "#@title Summing All Values for a Specified Column \n",
    "data[\"X\"].sum()"
   ]
  },
  {
   "cell_type": "code",
   "execution_count": null,
   "metadata": {
    "id": "8LfDT6PNw9kq"
   },
   "outputs": [],
   "source": [
    "#@title Exponentiate a Specified Column \n",
    "data[\"X\"].pow(2)"
   ]
  },
  {
   "cell_type": "code",
   "execution_count": null,
   "metadata": {
    "id": "ni6vgpHzxHmt"
   },
   "outputs": [],
   "source": [
    "#@title Exponentiate Multiple Numeric Columns in Dataset\n",
    "data.iloc[ 1: , 1:].pow(2) # exclude column Y which has string data type"
   ]
  },
  {
   "cell_type": "code",
   "execution_count": null,
   "metadata": {
    "id": "W1M-_AqUxfIv"
   },
   "outputs": [],
   "source": [
    "#@title Calculate Roots\n",
    "# below we perform square root \n",
    "data.iloc[ 1: , 1:].pow(1/2) "
   ]
  },
  {
   "cell_type": "code",
   "execution_count": null,
   "metadata": {
    "id": "cZQvnlXR9JRF"
   },
   "outputs": [],
   "source": [
    "#@title Create New Column on Dataframe\n",
    "data[\"X6\"] = data['X'].pow(2)"
   ]
  },
  {
   "cell_type": "code",
   "execution_count": null,
   "metadata": {
    "id": "upAbbMK--Dfp"
   },
   "outputs": [],
   "source": [
    "#@title Rounding for One Dataframe Column\n",
    "data[\"X6\"].round(1)"
   ]
  },
  {
   "cell_type": "code",
   "execution_count": null,
   "metadata": {
    "id": "U1gOicSi--im"
   },
   "outputs": [],
   "source": [
    "#@title Rounding for the Whole Dataframe\n",
    "data.round(1)"
   ]
  },
  {
   "cell_type": "code",
   "execution_count": null,
   "metadata": {
    "id": "ruTFx52s_CmF"
   },
   "outputs": [],
   "source": [
    "#@title Find Missing Values\n",
    "bool_series = pd.isnull(data[\"X\"])\n",
    "data[bool_series]\n",
    "\n",
    "# below result may or may not show missing data"
   ]
  },
  {
   "cell_type": "code",
   "execution_count": null,
   "metadata": {
    "id": "8akdLlv0_UG-"
   },
   "outputs": [],
   "source": [
    "#@title Sorting Dataframe \n",
    "# This is not an in-place sort\n",
    "# We can assign the result dataframe \n",
    "# to the same variable to reflect the change\n",
    "# data = data.sort_values(by=[\"Y\"], ascending=True)\n",
    "data.sort_values(by=[\"Y\"], ascending=True)"
   ]
  },
  {
   "cell_type": "code",
   "execution_count": null,
   "metadata": {
    "id": "2eOAJjKe_gv8"
   },
   "outputs": [],
   "source": [
    "#@title Selecting Cases in Dataframe\n",
    "data[data[\"X\"] > 70]"
   ]
  },
  {
   "cell_type": "code",
   "execution_count": null,
   "metadata": {
    "id": "9VMQEFM0_k9d"
   },
   "outputs": [],
   "source": [
    "#@title Exclude a participant number from the cases\n",
    "data[(data[\"X\"] > 70) & (data[\"X\"] != 75)]"
   ]
  },
  {
   "cell_type": "markdown",
   "metadata": {
    "id": "qY4sxKzEQvAZ"
   },
   "source": [
    "# Descriptive Statistics"
   ]
  },
  {
   "cell_type": "code",
   "execution_count": null,
   "metadata": {
    "id": "QWaDWcPj_xQ7"
   },
   "outputs": [],
   "source": [
    "#@title Generate Descriptive Statistics\n",
    "data.describe()"
   ]
  },
  {
   "cell_type": "code",
   "execution_count": null,
   "metadata": {
    "id": "-kVLQe_e1w05"
   },
   "outputs": [],
   "source": [
    "#@title Measures of Central Tendency with Missing Data\n",
    "\n",
    "# Tested with Cancer cases data\n",
    "# X4 has missing data\n",
    "print(\"Mean: \", data[\"X4\"].mean())\n",
    "print(\"Median: \", data[\"X4\"].median())\n",
    "print(\"Mode: \", data[\"X4\"].mode()) \n",
    "\n",
    "# For cancer cases dataset, no mode exists in column X4\n",
    "# No warnings or errors when performing central tendency measurements"
   ]
  },
  {
   "cell_type": "code",
   "execution_count": null,
   "metadata": {
    "id": "1gJXedGyAAf0"
   },
   "outputs": [],
   "source": [
    "#@title Mean\n",
    "data.mean()"
   ]
  },
  {
   "cell_type": "code",
   "execution_count": null,
   "metadata": {
    "id": "xFsBERQlADjD"
   },
   "outputs": [],
   "source": [
    "#@title Median\n",
    "data.median()"
   ]
  },
  {
   "cell_type": "code",
   "execution_count": null,
   "metadata": {
    "id": "RnUiwxefAGbi"
   },
   "outputs": [],
   "source": [
    "#@title Mode\n",
    "data.mode()\n",
    "\n",
    "# below result may show the dataframe\n",
    "# due to the fact that this particular\n",
    "# dataframe has no mode"
   ]
  },
  {
   "cell_type": "code",
   "execution_count": null,
   "metadata": {
    "id": "xxHOk95wA3TO"
   },
   "outputs": [],
   "source": [
    "#@title Minimum\n",
    "data.min() # find minimum in each column\n",
    "\n",
    "# data[\"X\"].min() # minimum in column X"
   ]
  },
  {
   "cell_type": "code",
   "execution_count": null,
   "metadata": {
    "id": "R1aV0YGQA_Ey"
   },
   "outputs": [],
   "source": [
    "#@title Maximum \n",
    "data.max() # find maximum in each column\n",
    "\n",
    "# data[\"X\"].max maximum in column X"
   ]
  },
  {
   "cell_type": "code",
   "execution_count": null,
   "metadata": {
    "id": "wIyQpSEQBDjR"
   },
   "outputs": [],
   "source": [
    "#@title Range\n",
    "data[\"X\"].max() - data[\"X\"].min()"
   ]
  },
  {
   "cell_type": "code",
   "execution_count": null,
   "metadata": {
    "id": "VGt4KCWMBG0k"
   },
   "outputs": [],
   "source": [
    "#@title First Quartile\n",
    "first_quartile = data.describe()[\"X\"][\"25%\"] # get the first quartile from dataframe"
   ]
  },
  {
   "cell_type": "code",
   "execution_count": null,
   "metadata": {
    "id": "5UtAfp4gBN71"
   },
   "outputs": [],
   "source": [
    "#@title Second Quartile\n",
    "second_quartile = data.describe()[\"X\"][\"50%\"] # get the 2nd quartile from dataframe"
   ]
  },
  {
   "cell_type": "code",
   "execution_count": null,
   "metadata": {
    "id": "VKap7ZpNBQlz"
   },
   "outputs": [],
   "source": [
    "#@title Third quartile\n",
    "third_quartile = data.describe()[\"X\"][\"75%\"] # get the 3rd quartile \n"
   ]
  },
  {
   "cell_type": "code",
   "execution_count": null,
   "metadata": {
    "id": "PBSD3P_xBYo5"
   },
   "outputs": [],
   "source": [
    "#@title Interquartile Range\n",
    "third_quartile - first_quartile"
   ]
  },
  {
   "cell_type": "code",
   "execution_count": null,
   "metadata": {
    "id": "mhAQITkCBbIC"
   },
   "outputs": [],
   "source": [
    "#@title Variance\n",
    "data[\"X\"].var()"
   ]
  },
  {
   "cell_type": "code",
   "execution_count": null,
   "metadata": {
    "id": "ByU90B8LBdiA"
   },
   "outputs": [],
   "source": [
    "#@title Standard Deviation\n",
    "data[\"X\"].std()"
   ]
  },
  {
   "cell_type": "code",
   "execution_count": null,
   "metadata": {
    "id": "IyL2fPd_BgDt"
   },
   "outputs": [],
   "source": [
    "#@title Skewness in One Column\n",
    "data[\"X\"].skew()"
   ]
  },
  {
   "cell_type": "code",
   "execution_count": null,
   "metadata": {
    "id": "o_0J1HUWBj7s"
   },
   "outputs": [],
   "source": [
    "#@title Measurement of Skewness for All Columns \n",
    "data.skew(axis=0, numeric_only=True)"
   ]
  },
  {
   "cell_type": "code",
   "execution_count": null,
   "metadata": {
    "id": "uhDWP0CbBzuI"
   },
   "outputs": [],
   "source": [
    "#@title Measurement of Kurtosis\n",
    "data.kurtosis(axis=0, numeric_only=True)"
   ]
  },
  {
   "cell_type": "code",
   "execution_count": null,
   "metadata": {
    "id": "mRLVB6s8yo12"
   },
   "outputs": [],
   "source": [
    "#@title Generate Frequency Table \n",
    "import numpy as np\n",
    "\n",
    "# Test data: Wine Quality\n",
    "# here, we have 2 ndarrays: one is a set of values, and \n",
    "# the other indicates the occurences of each value\n",
    "unique_vals, occurrences = np.unique(data['Y'], return_counts=True)\n",
    "\n",
    "# below is python dictionary object whose keys are names of columns \n",
    "# and values are the pandas series above\n",
    "freq_dist_dict = {\n",
    "    \"Value\": pd.Series(unique_vals),\n",
    "    \"Frequency\": pd.Series(occurrences),\n",
    "} \n",
    "\n",
    "freq_table = pd.DataFrame(freq_dist_dict) # frequency distribution table\n",
    "\n",
    "freq_table # display data"
   ]
  },
  {
   "cell_type": "code",
   "execution_count": null,
   "metadata": {
    "id": "rQJgZLF_auon"
   },
   "outputs": [],
   "source": [
    "#@title Generate Frequency Table with Relative Frequency\n",
    "import numpy as np\n",
    "\n",
    "# below is our function to calculate \n",
    "# the percentage of the frequencies \n",
    "# divide each count by total number of counts multiplied by 100\n",
    "def calculate_percentage(counts, total):\n",
    "  percentages = [] # result list to be returned\n",
    "  \n",
    "  for each in counts: # iterate through counts array\n",
    "    percentages.append((each/total)*100) # calculate percentage and append it to our list\n",
    "  \n",
    "  return percentages\n",
    "\n",
    "# Test data: Wine Quality\n",
    "# here, we have 2 ndarrays: one is a set of values, and \n",
    "# the other indicates the occurences of each value\n",
    "unique_vals, occurrences = np.unique(data['Y'], return_counts=True)\n",
    "\n",
    "# find relative frequency using customized function, calculate_percentage\n",
    "rel_freq = calculate_percentage(occurrences, len(data['Y']))\n",
    "\n",
    "# pandas series objects for each column in dataframe to be created later\n",
    "s1 = pd.Series(unique_vals)\n",
    "s2 = pd.Series(occurrences)\n",
    "s3 = pd.Series(rel_freq)\n",
    "\n",
    "# below is python dictionary object whose keys are names of columns \n",
    "# and values are the pandas series above\n",
    "freq_dist_dict = {\n",
    "    \"Value\": s1,\n",
    "    \"Frequency\": s2,\n",
    "    \"Percent\": s3,\n",
    "} \n",
    "\n",
    "freq_table_w_rel_freq = pd.DataFrame(freq_dist_dict) # frequency distribution table"
   ]
  },
  {
   "cell_type": "code",
   "execution_count": null,
   "metadata": {
    "id": "xVK2_-iFrpCo"
   },
   "outputs": [],
   "source": [
    "#@title Calculate Intervals Around Mean\n",
    "\n",
    "# Find mean of data in column 'x'\n",
    "mean = data['x'].mean()\n",
    "# Find standard deviation from data in column 'x'\n",
    "sdev = data['x'].std()\n",
    "# Get user input on number of standard deviation\n",
    "num_sd = int(input(\"Number of standard deviation away from mean: \"))\n",
    "# Display interval around mean\n",
    "(mean - num_sd * sdev, mean + num_sd * sdev)"
   ]
  },
  {
   "cell_type": "code",
   "execution_count": null,
   "metadata": {},
   "outputs": [],
   "source": [
    "#@title Calculate Intervals Around Mean By Using Numpy to Find Standard Deviation\n",
    "\n",
    "mean = data[\"x\"].mean()\n",
    "# Find the population standard deviation\n",
    "sdev = np.std(data[\"x\"], ddof=1) \n",
    "# Set to one standard deviation\n",
    "(mean - 1 * sdev, mean + 1 * sdev) "
   ]
  },
  {
   "cell_type": "code",
   "execution_count": null,
   "metadata": {},
   "outputs": [],
   "source": [
    "#@title Calculate Intervals Around Mean (Numpy and User Input)\n",
    "\n",
    "mean = data[\"x\"].mean()\n",
    "# Find the population standard deviation\n",
    "sdev = np.std(data[\"x\"], ddof=1) \n",
    "# Get user input on number of standard deviation\n",
    "num_sd = int(input(\"Number of standard deviation away from mean: \"))\n",
    "# Set to the number of standard deviation set by user\n",
    "(mean - num_sd * sdev, mean + num_sd * sdev)"
   ]
  },
  {
   "cell_type": "code",
   "execution_count": null,
   "metadata": {
    "id": "QWoKhv3AOesq"
   },
   "outputs": [],
   "source": [
    "#@title Determine Population Variance\n",
    "\n",
    "# Verify that data['x'] has no NA before doing calculation\n",
    "data['x'].var() * (len(data['x']) - 1) / len(data['x'])"
   ]
  },
  {
   "cell_type": "code",
   "execution_count": null,
   "metadata": {
    "id": "eclovlfSTJiv"
   },
   "outputs": [],
   "source": [
    "#@title Determine Population Standard Deviation\n",
    "from math import sqrt\n",
    "\n",
    "# Verify that data['x'] has no NA before doing calculation\n",
    "sqrt(data['x'].var() * (len(data['x']) - 1) / len(data['x']))"
   ]
  },
  {
   "cell_type": "code",
   "execution_count": null,
   "metadata": {
    "id": "k7xYAreiWmQ1"
   },
   "outputs": [],
   "source": [
    "#@title Add an Outlier Score\n",
    "\n",
    "# Create a copy of data from column 'x'\n",
    "series_x = data[\"x\"] \n",
    "# Create a series from a list of value(s); \n",
    "# create a new single score equal to three times the mean in the list\n",
    "series_of_new_scores = pd.Series([data[\"x\"].mean() * 3])  \n",
    "# Create a new series by concatenating two pandas series\n",
    "series_with_outlier = pd.concat([series_x, series_of_new_scores], ignore_index=True) \n",
    "# Display the mean of the new variable\n",
    "series_with_outlier.mean() \n",
    "\n",
    "# verify that a new value has been added to our new series\n",
    "# series_with_outlier.tail(3) # output the last three values in series"
   ]
  },
  {
   "cell_type": "code",
   "execution_count": null,
   "metadata": {},
   "outputs": [],
   "source": [
    "#@title Add an Outlier Score (Ver. 2)\n",
    "\n",
    "# Create a copy of column 'x'\n",
    "with_outlier = data[\"x\"] \n",
    "# Create a new single score equal to three times the mean\n",
    "new_score = data[\"x\"].mean() * 3 \n",
    "# Add the outlier to our copy\n",
    "with_outlier.append(pd.Series(new_score))\n",
    "# Show the mean of the new variable\n",
    "with_outlier.mean() "
   ]
  }
 ],
 "metadata": {
  "colab": {
   "collapsed_sections": [],
   "include_colab_link": true,
   "name": "snippets.ipynb",
   "private_outputs": true,
   "provenance": [],
   "toc_visible": true
  },
  "kernelspec": {
   "display_name": "Python 3",
   "language": "python",
   "name": "python3"
  },
  "language_info": {
   "codemirror_mode": {
    "name": "ipython",
    "version": 3
   },
   "file_extension": ".py",
   "mimetype": "text/x-python",
   "name": "python",
   "nbconvert_exporter": "python",
   "pygments_lexer": "ipython3",
   "version": "3.8.5"
  }
 },
 "nbformat": 4,
 "nbformat_minor": 1
}
