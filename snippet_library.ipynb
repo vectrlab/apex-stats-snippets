{
  "nbformat": 4,
  "nbformat_minor": 0,
  "metadata": {
    "colab": {
      "name": "snippets.ipynb",
      "private_outputs": true,
      "provenance": [],
      "toc_visible": true,
      "collapsed_sections": [],
      "include_colab_link": true
    },
    "kernelspec": {
      "name": "python3",
      "display_name": "Python 3"
    },
    "language_info": {
      "name": "python"
    }
  },
  "cells": [
    {
      "cell_type": "markdown",
      "metadata": {
        "id": "view-in-github",
        "colab_type": "text"
      },
      "source": [
        "<a href=\"https://colab.research.google.com/github/vectrlab/apex-stats-snippets/blob/main/snippet_library.ipynb\" target=\"_parent\"><img src=\"https://colab.research.google.com/assets/colab-badge.svg\" alt=\"Open In Colab\"/></a>"
      ]
    },
    {
      "cell_type": "markdown",
      "source": [
        "# APEX STATS Code Snippets"
      ],
      "metadata": {
        "id": "wPFYkYNtf6i2"
      }
    },
    {
      "cell_type": "markdown",
      "source": [
        "# Data Setup"
      ],
      "metadata": {
        "id": "H8zZNFBXp5Rc"
      }
    },
    {
      "cell_type": "code",
      "execution_count": null,
      "metadata": {
        "id": "M5E0Lh7xfyqd"
      },
      "outputs": [],
      "source": [
        "#@title Setup Blank Data\n",
        "import pandas as pd # import library\n",
        "df = pd.DataFrame() # create a blank dataframe"
      ]
    },
    {
      "cell_type": "code",
      "source": [
        "#@title Setup Example Data\n",
        "import pandas as pd # import library\n",
        "data = pd.read_csv(\"https://raw.githubusercontent.com/vectrlab/apex-python-datasets/main/healthnutritionandpopulation/example.csv\") # read the datafile\n",
        "data # display the data"
      ],
      "metadata": {
        "id": "dq6DZMQtrt4y"
      },
      "execution_count": null,
      "outputs": []
    },
    {
      "cell_type": "code",
      "source": [
        "#@title Setup Example Data\n",
        "import pandas as pd # import library\n",
        "data = pd.read_csv(\"https://raw.githubusercontent.com/vectrlab/apex-python-datasets/main/red-wine-quality/example.csv\") # Red Wine Quality\n",
        "data # display the data"
      ],
      "metadata": {
        "id": "wEKbZI31HaRh"
      },
      "execution_count": null,
      "outputs": []
    },
    {
      "cell_type": "code",
      "source": [
        "#@title Setup Example Data\n",
        "import pandas as pd # import library\n",
        "data = pd.read_csv(\"https://raw.githubusercontent.com/vectrlab/apex-python-datasets/main/connecticut-housing/example.csv\") # Connecticut Housing\n",
        "data # display the data"
      ],
      "metadata": {
        "id": "bNx7z--7H2mc"
      },
      "execution_count": null,
      "outputs": []
    },
    {
      "cell_type": "code",
      "source": [
        "#@title Setup Example Data\n",
        "import pandas as pd # import library\n",
        "data = pd.read_csv(\"https://raw.githubusercontent.com/vectrlab/apex-python-datasets/main/drinks/example.csv\") # drinks\n",
        "data # display the data"
      ],
      "metadata": {
        "id": "2_VrL-zOOier"
      },
      "execution_count": null,
      "outputs": []
    },
    {
      "cell_type": "code",
      "source": [
        "#@title Setup Example Data\n",
        "import pandas as pd # import library\n",
        "data = pd.read_csv(\"https://raw.githubusercontent.com/vectrlab/apex-python-datasets/main/cancer-cases/example2.csv\") # cancer cases\n",
        "data # display the data"
      ],
      "metadata": {
        "id": "AQYNUUMmRIiX"
      },
      "execution_count": null,
      "outputs": []
    },
    {
      "cell_type": "code",
      "source": [
        "#@title Setup Example Data\n",
        "import pandas as pd # import library\n",
        "data = pd.read_csv(\"https://raw.githubusercontent.com/vectrlab/apex-python-datasets/main/fifa19/example.csv\") # FIFA19 data\n",
        "data # display the data"
      ],
      "metadata": {
        "id": "6__W_Co9rKAZ"
      },
      "execution_count": null,
      "outputs": []
    },
    {
      "cell_type": "markdown",
      "source": [
        "# Population vs Sample"
      ],
      "metadata": {
        "id": "IU0y6TSoroxU"
      }
    },
    {
      "cell_type": "code",
      "source": [
        "#@title Generate a population distribution\n",
        "import random # import libraries\n",
        "import pandas as pd \n",
        "random.seed(21715) # set seed so that everyone has the same values, comment out this line to generate a unique population each time\n",
        "N = 1000 # set the population size\n",
        "max_value = 100.0\n",
        "population = [random.random() * max_value for x in range(N)] # generate a uniform distribution with N values 0-maxvalue chosen at random\n",
        "df = df.assign(X=population) # add the population distribution to the dataframe"
      ],
      "metadata": {
        "id": "bLjVS1oary8O"
      },
      "execution_count": null,
      "outputs": []
    },
    {
      "cell_type": "code",
      "source": [
        "#@title Population or sample size\n",
        "len(data[\"X\"])"
      ],
      "metadata": {
        "id": "0vUbjCtXsCtb"
      },
      "execution_count": null,
      "outputs": []
    },
    {
      "cell_type": "code",
      "source": [
        "#@title Population or sample mean\n",
        "import numpy as np # import library\n",
        "np.mean(data[\"X\"]) # display the mean"
      ],
      "metadata": {
        "id": "FWhqp_IRsGOt"
      },
      "execution_count": null,
      "outputs": []
    },
    {
      "cell_type": "code",
      "source": [
        "#@title Population standard deviation\n",
        "import numpy as np # import library\n",
        "np.std(data[\"X\"]) # display the population standard deviation"
      ],
      "metadata": {
        "id": "Z9fBQgwlsKtq"
      },
      "execution_count": null,
      "outputs": []
    },
    {
      "cell_type": "code",
      "source": [
        "#@title Sample standard deviation\n",
        "import numpy as np # import library\n",
        "np.std(data[\"X\"], ddof=1) # display the sample standard deviation; ddof is delta degrees of freedom and N - ddof is used in the variance calculation"
      ],
      "metadata": {
        "id": "jwMB3YBDsOps"
      },
      "execution_count": null,
      "outputs": []
    },
    {
      "cell_type": "code",
      "source": [
        "#@title Generate a random sample\n",
        "import random # import libraries\n",
        "import numpy as np\n",
        "n = 5 # sample size of 5\n",
        "one_sample = np.random.choice(data[\"X\"], n) # generate a single sample\n",
        "one_sample # show the sample data"
      ],
      "metadata": {
        "id": "Ajq0VRHts3lh"
      },
      "execution_count": null,
      "outputs": []
    },
    {
      "cell_type": "code",
      "source": [
        "#@title Generate a sampling distribution\n",
        "import random # import libraries\n",
        "import numpy as np\n",
        "num_samples = 2000 # how many samples to include in the sampling distribution\n",
        "n = 5 # sample size\n",
        "def drange():\n",
        "  x = random.randrange(0, len(data[\"X\"]) - (n + 1)) # pick a random starting spot in the distribution\n",
        "  return slice(x, x + n) # select n values starting from that spot - Dave note: We may need to fix this, as the selection will be biased if data are in a nonrandom order\n",
        "sampling_dist = [np.mean(data[\"X\"][drange()]) for x in range(num_samples)] # assemble the sampling distribution by finding means of repeated samples\n",
        "sampling_dist # show the sampling distribution"
      ],
      "metadata": {
        "id": "VLpNZJIys_4w"
      },
      "execution_count": null,
      "outputs": []
    },
    {
      "cell_type": "code",
      "source": [
        "#@title Calculate standard error\n",
        "import numpy as np # import library\n",
        "n = 5 # sample size\n",
        "se = np.std(data[\"X\"], ddof=1) / np.sqrt(n)\n",
        "se"
      ],
      "metadata": {
        "id": "AdjSMjNMtMBw"
      },
      "execution_count": null,
      "outputs": []
    },
    {
      "cell_type": "markdown",
      "source": [
        "# Confidence Interval"
      ],
      "metadata": {
        "id": "XJxCKOLbq99A"
      }
    },
    {
      "cell_type": "code",
      "source": [
        "#@title Calculate 95% Confidence Interval, extended version\n",
        "import numpy as np # import library\n",
        "from scipy.stats import norm\n",
        "n = 5 # sample size\n",
        "se = np.std(data[\"X\"], ddof=1) / np.sqrt(n) # standard error\n",
        "tail = 1 - (1-.95)/2 # area of one tail outside the confidence interval\n",
        "z = norm.ppf(tail) # z-score corresponding to 97.5% area below it\n",
        "lower_bound = np.mean(data[\"X\"]) - z * se\n",
        "upper_bound = np.mean(data[\"X\"]) + z * se"
      ],
      "metadata": {
        "id": "GtiSRk5jtQBY"
      },
      "execution_count": null,
      "outputs": []
    },
    {
      "cell_type": "code",
      "source": [
        "#@title Calculate 95% Confidence Interval, simple version\n",
        "from scipy import stats # import library\n",
        "import numpy as np \n",
        "mu = np.mean(data[\"X\"]) # mean\n",
        "sigma = np.std(data[\"X\"], ddof=1) # standard deviation\n",
        "conf_level = 0.95\n",
        "stats.norm.interval(conf_level, loc=mu, scale=sigma)"
      ],
      "metadata": {
        "id": "ZluEoGuBtTkt"
      },
      "execution_count": null,
      "outputs": []
    },
    {
      "cell_type": "markdown",
      "source": [
        "# Z-score"
      ],
      "metadata": {
        "id": "5hoPp0dKrB-k"
      }
    },
    {
      "cell_type": "code",
      "source": [
        "#@title Generate Z-scores\n",
        "from scipy import stats\n",
        "data['Z'] = stats.zscore(data[\"X\"]) # create a new data column Z containing z-scores\n",
        "data['Z']"
      ],
      "metadata": {
        "id": "HuVEHacLuCwx"
      },
      "execution_count": null,
      "outputs": []
    },
    {
      "cell_type": "code",
      "source": [
        "#@title Apply The Z-score Formula to User Inputs\n",
        "# z = (score - mean)/pop_sd\n",
        "\n",
        "raw = float(input(\"Score = \")) # ask user to insert a new score\n",
        "mean = float(input(\"Mean = \")) # ask user to insert a mean\n",
        "sd = float(input(\"Input the standard deviation: \")) # ask the user to insert standard deviation\n",
        "z = round((raw - mean)/sd, 2) # find z-score with formula, round to 2 decimal places\n",
        "\n",
        "print(f\"z = {z}\") # print result"
      ],
      "metadata": {
        "id": "cKsMjv14_kWy"
      },
      "execution_count": null,
      "outputs": []
    },
    {
      "cell_type": "code",
      "source": [
        "#@title Generate Raw Scores\n",
        "import numpy as np\n",
        "from scipy import stats\n",
        "\n",
        "raw_scores = [] # list of raw scores\n",
        "sd = np.std(data['X']) # find population standard deviation\n",
        "mean = data['X'].mean() # find mean from data column X\n",
        "for z in data['Z']: # access each z-score\n",
        "  raw_scores.append(z * sd + mean) # Save each raw score, calculated using formula, into list\n",
        "\n",
        "raw_scores # display result"
      ],
      "metadata": {
        "id": "e_Ee5_0d6LOi"
      },
      "execution_count": null,
      "outputs": []
    },
    {
      "cell_type": "code",
      "source": [
        "#@title Apply Raw Score Formula to User Inputs\n",
        "# score = score * sd + mean\n",
        "\n",
        "z = float(input(\"z = \")) # ask user to insert a new score\n",
        "mean = float(input(\"Mean: \")) # ask user to insert mean\n",
        "sd = float(input(\"Input the standard deviation: \")) # ask user to insert standard deviation\n",
        "raw = round(z * sd + mean, 2) # find z-score with formula, round to 2 decimal places\n",
        "print(f\"Score = {raw}\") # print out result\n"
      ],
      "metadata": {
        "id": "qvTkRGKpp_Ix"
      },
      "execution_count": null,
      "outputs": []
    },
    {
      "cell_type": "markdown",
      "source": [
        "# CDF and Inverse CDF"
      ],
      "metadata": {
        "id": "fX9pokptrJrj"
      }
    },
    {
      "cell_type": "code",
      "source": [
        "#@title Cumulative Distribution Function\n",
        "from scipy.stats import norm\n",
        "norm.cdf(1.45, loc=0, scale=1) # cdf of a standard normal distribution\n",
        "\n",
        "# when we specify 1.45, we are interested in the area under the curve to the left of the point 1.45\n",
        "# loc is where you specify your mean\n",
        "# scale is where you specify your standard deviation"
      ],
      "metadata": {
        "id": "Qg-z8VlGYlTF"
      },
      "execution_count": null,
      "outputs": []
    },
    {
      "cell_type": "code",
      "source": [
        "#@title Find Area Under the Curve\n",
        "from scipy.stats import norm\n",
        "\n",
        "mean = float(input(\"Specify your mean: \")) # insert the mean\n",
        "stdev = float(input(\"Specify your standard deviation: \")) # insert the standard deviation\n",
        "lower_bound = float(input(\"Specify your lower bound: \")) # insert the lower bound\n",
        "upper_bound = float(input(\"Specify your upper bound: \")) # insert the upper bound\n",
        "\n",
        "area_under_curve = norm.cdf(upper_bound, loc=mean, scale=stdev) - norm.cdf(lower_bound, loc=mean, scale=stdev) # calculate the area under the curve by subtracting the larger area (using upper bound) from smaller one (using lower bound)\n",
        "print(f\"Area under the curve from {lower_bound} to {upper_bound} is {round(area_under_curve, 2)}\") # print out result; round answer to two signigicant figures"
      ],
      "metadata": {
        "id": "laQTYD6ZsqfG"
      },
      "execution_count": null,
      "outputs": []
    },
    {
      "cell_type": "code",
      "source": [
        "#@title Inverse Cumulative Distribution Function\n",
        "from scipy.stats import norm\n",
        "\n",
        "mean = float(input(\"Specify your mean: \")) # insert the mean\n",
        "stdev = float(input(\"Specify your standard deviation: \")) # insert the standard deviation\n",
        "percentile = float(input(\"Specify the percentile (from 0-1 range): \")) # insert percentile\n",
        "inv_norm_ans = norm.ppf(percentile, loc=mean, scale=stdev) # find inverse norm result with norm.ppf method\n",
        "print(f\"With mean {mean} and standard deviation {stdev}, the {int(percentile*100)}th percentile is {round(inv_norm_ans, 2)}\") # print out result; round answer to two significant figures\n",
        "\n",
        "# norm.ppf returns a *percentile* confidence interval for a one-tailed test\n",
        "# for example, when we specify 0.95, we indicated the area under the curve to be 0.95\n",
        "# with loc to be our mean and scale to be our standard deviation\n",
        "# In R, it is qnorm(0.95, 0, 1) or qnorm(0.05,0,1,lower.tail=FALSE) with mean 0 and standard deviation 1."
      ],
      "metadata": {
        "id": "m2_ctPDicVOg"
      },
      "execution_count": null,
      "outputs": []
    },
    {
      "cell_type": "markdown",
      "source": [
        "# Understand Data"
      ],
      "metadata": {
        "id": "CGhqgx8QrTXf"
      }
    },
    {
      "cell_type": "code",
      "source": [
        "#@title Sampling Cases From DataFrame\n",
        "new_df = df.sample(n=10, random_state=1)\n",
        "new_df"
      ],
      "metadata": {
        "id": "UWj3BOmJfBak"
      },
      "execution_count": null,
      "outputs": []
    },
    {
      "cell_type": "code",
      "source": [
        "#@title Find Missing Values in Dataframe Columns\n",
        "data[\"X\"].isna() # display status of each cell (False: filled with data; True: missing data)"
      ],
      "metadata": {
        "id": "WJyUX9wMnwwp"
      },
      "execution_count": null,
      "outputs": []
    },
    {
      "cell_type": "code",
      "source": [
        "#@title Find Missing Values in DataFrame\n",
        "data.isna() # display status of each cell (False: filled with data; True: missing data)"
      ],
      "metadata": {
        "id": "qBENykuhn8KX"
      },
      "execution_count": null,
      "outputs": []
    },
    {
      "cell_type": "code",
      "source": [
        "#@title Find Records Where NaN Exists\n",
        "data[\"X\"][data[\"X\"].isna() == True] # Cases where NaN exists"
      ],
      "metadata": {
        "id": "ZjpQvk9Ro8kt"
      },
      "execution_count": null,
      "outputs": []
    },
    {
      "cell_type": "code",
      "source": [
        "#@title Discover Data Types\n",
        "import pandas as pd\n",
        "import numpy as np\n",
        "\n",
        "df = pd.DataFrame(np.random.randint(0,2,size=10), columns=[\"X\"]) # create a dataframe with X variable; column has integer data\n",
        "df.dtypes # Find out datatype of data in df[\"X\"] (data are 0 and 1)"
      ],
      "metadata": {
        "id": "OEwt3Aoop-4l"
      },
      "execution_count": null,
      "outputs": []
    },
    {
      "cell_type": "code",
      "source": [
        "#@title Convert into Category Datatype\n",
        "df[\"X\"] = df[\"X\"].astype(\"category\") # turn integers into categories (factors in R)\n",
        "df.dtypes"
      ],
      "metadata": {
        "id": "7YiXQmQvsHrd"
      },
      "execution_count": null,
      "outputs": []
    },
    {
      "cell_type": "code",
      "source": [
        "#@title Convert Datatype and Insert a New Column into Dataframe\n",
        "data[\"X6\"] = data[\"X\"].astype(\"category\") # turn integers into categories (factors in R)\n",
        "data.dtypes"
      ],
      "metadata": {
        "id": "boa7wiHHojJV"
      },
      "execution_count": null,
      "outputs": []
    },
    {
      "cell_type": "markdown",
      "source": [
        "# Hypothesis Testing"
      ],
      "metadata": {
        "id": "m2Gd4eBSq1nU"
      }
    },
    {
      "cell_type": "code",
      "source": [
        "#@title One Sample T-test\n",
        "from scipy import stats\n",
        "result = stats.ttest_1samp(data[\"X\"], 39) # arg1: Sample Observation, arg2: Expected value in null hypothesis\n",
        "\n",
        "# To extract details from result, see comments below\n",
        "# result.statistic\n",
        "# result.pvalue"
      ],
      "metadata": {
        "id": "4ZBf4XOuN17e"
      },
      "execution_count": null,
      "outputs": []
    },
    {
      "cell_type": "code",
      "source": [
        "#@title Independent Samples T-test\n",
        "from scipy import stats\n",
        "result = stats.ttest_ind(data[\"X\"], data[\"X1\"]) # arg1: sample 1, arg2: sample 2\n",
        "\n",
        "# To extract details from result, see comments below\n",
        "# result.statistic\n",
        "# result.pvalue"
      ],
      "metadata": {
        "id": "MQr_in7EQt-A"
      },
      "execution_count": null,
      "outputs": []
    },
    {
      "cell_type": "code",
      "source": [
        "#@title Paired Samples T-test\n",
        "from scipy import stats\n",
        "result = stats.ttest_rel(data[\"X\"], data[\"X1\"]) # arg1: sample 1, arg2: sample 2\n",
        "\n",
        "# To extract details from result, see comments below\n",
        "# result.statistic\n",
        "# result.pvalue"
      ],
      "metadata": {
        "id": "i30XgfosVgUY"
      },
      "execution_count": null,
      "outputs": []
    },
    {
      "cell_type": "code",
      "source": [
        "#@title Correlation Analysis\n",
        "from scipy import stats\n",
        "corr_test = stats.pearsonr(data[\"X\"], data[\"X1\"]) # returns a tuple\n",
        "print(corr_test[0]) # r: Pearson's correlation efficient\n",
        "print(corr_test[1]) # p-value: two-tailed p-val"
      ],
      "metadata": {
        "id": "k5b4_xE-bzWb"
      },
      "execution_count": null,
      "outputs": []
    },
    {
      "cell_type": "code",
      "source": [
        "#@title Simple Regression\n",
        "from scipy import stats\n",
        "result = stats.linregress(data[\"X\"], data[\"X1\"])\n",
        "\n",
        "# More about result\n",
        "# result.slope\n",
        "# result.intercept\n",
        "# result.rvalue\n",
        "# result.pvalue\n",
        "# result.stderr"
      ],
      "metadata": {
        "id": "KCeHiTsEHm-C"
      },
      "execution_count": null,
      "outputs": []
    },
    {
      "cell_type": "code",
      "source": [
        "#@title One-Way Chi-square Test\n",
        "from scipy.stats import chisquare\n",
        "result = chisquare(data[\"X\"])\n",
        "print(result[0]) # statistic\n",
        "print(result[1]) # pvalue"
      ],
      "metadata": {
        "id": "E43QwcpUqmXk"
      },
      "execution_count": null,
      "outputs": []
    },
    {
      "cell_type": "code",
      "source": [
        "#@title One-way ANOVA\n",
        "from scipy import stats\n",
        "result = stats.f_oneway(data[\"X\"], data[\"X1\"])\n",
        "print(result.statistic)\n",
        "print(result.pvalue)"
      ],
      "metadata": {
        "id": "mlqtWZt8rBSI"
      },
      "execution_count": null,
      "outputs": []
    },
    {
      "cell_type": "markdown",
      "source": [
        "# Data Visualization"
      ],
      "metadata": {
        "id": "2pX37YzwPOGM"
      }
    },
    {
      "cell_type": "code",
      "source": [
        "#@title Kernel Density Estimate Plot\n",
        "import seaborn as sns\n",
        "sns.kdeplot(data=data[\"X\"], fill=True, bw_adjust=3, color=\"green\")"
      ],
      "metadata": {
        "id": "UuCRVVz8xXEp"
      },
      "execution_count": null,
      "outputs": []
    },
    {
      "cell_type": "code",
      "source": [
        "#@title Dot Plot\n",
        "import seaborn as sns\n",
        "\n",
        "# Test code with Red wine quality data\n",
        "sns.stripplot(data[\"Y\"], data[\"X10\"], color=\"purple\") # draw dot plot"
      ],
      "metadata": {
        "id": "9VFibOBnXCfx"
      },
      "execution_count": null,
      "outputs": []
    },
    {
      "cell_type": "code",
      "source": [
        "#@title Box Plot (No Parameter Adjustment)\n",
        "import seaborn as sns\n",
        "import matplotlib.pyplot as plt\n",
        "\n",
        "# Test code with Connecticut housing data\n",
        "plt.figure(figsize=(15,8)) # adjust figure size\n",
        "sns.boxplot(x=\"Y\", y=\"X\", data=data) # draw box plot"
      ],
      "metadata": {
        "id": "Y2O8CseolCnQ"
      },
      "execution_count": null,
      "outputs": []
    },
    {
      "cell_type": "code",
      "source": [
        "#@title Box Plot (Adjust Color and Plot One Candlestick)\n",
        "# Test code with Connecticut housing data\n",
        "fairfield = data[data['Y'] == 'Fairfield']\n",
        "plt.figure(figsize=(3,6)) # adjust figure size\n",
        "sns.boxplot(x=\"Y\", y=\"X\", data=fairfield, color=\"green\") # draw box plot"
      ],
      "metadata": {
        "id": "EWktFZLMoC99"
      },
      "execution_count": null,
      "outputs": []
    },
    {
      "cell_type": "code",
      "source": [
        "#@title Regression Line\n",
        "import seaborn as sns\n",
        "import matplotlib.pyplot as plt\n",
        "\n",
        "sns.lmplot(x=\"X\", y=\"X1\", data=data) # plot linear regression line\n",
        "plt.savefig('linear_regression.png') # Save Plot"
      ],
      "metadata": {
        "id": "0ubBUJ0ntwir"
      },
      "execution_count": null,
      "outputs": []
    },
    {
      "cell_type": "code",
      "source": [
        "#@title Histogram (No Parameter Adjustment)\n",
        "import seaborn as sns\n",
        "import matplotlib.pyplot as plt\n",
        "\n",
        "# Test code with Drinks Data\n",
        "plt.figure(figsize=(15,8)) # adjust the figure size\n",
        "sns.histplot(data=data) # plot histogram"
      ],
      "metadata": {
        "id": "ekFxylkIxzdQ"
      },
      "execution_count": null,
      "outputs": []
    },
    {
      "cell_type": "code",
      "source": [
        "#@title Histogram (Binwidth and KDE)\n",
        "import seaborn as sns\n",
        "import matplotlib.pyplot as plt\n",
        "\n",
        "# Test code with Drinks Data\n",
        "plt.figure(figsize=(15,8)) # adjust figure size\n",
        "sns.histplot(data=data['X'], binwidth=10, kde=True) # plot histogram"
      ],
      "metadata": {
        "id": "vKlh7Hvo0IYq"
      },
      "execution_count": null,
      "outputs": []
    },
    {
      "cell_type": "code",
      "source": [
        "#@title Histogram (Color)\n",
        "import seaborn as sns\n",
        "import matplotlib.pyplot as plt\n",
        "\n",
        "# Test code with Health Nutrition and Population Data\n",
        "# We have X as a continuous variable\n",
        "\n",
        "plt.figure(figsize=(15,8)) # adjust figure size\n",
        "sns.histplot(data=data['X'], binwidth=4, color=\"brown\") # plot histogram"
      ],
      "metadata": {
        "id": "wzSKqTtt1nVE"
      },
      "execution_count": null,
      "outputs": []
    },
    {
      "cell_type": "code",
      "source": [
        "#@title Histogram with automatic binning and color\n",
        "import seaborn as sns # import library\n",
        "sns.histplot(data[\"X\"]) # display the histogram"
      ],
      "metadata": {
        "id": "tnnXG_dEsW6g"
      },
      "execution_count": null,
      "outputs": []
    },
    {
      "cell_type": "code",
      "source": [
        "#@title Histogram with automatic binning and custom color\n",
        "# color names that work should include https://matplotlib.org/stable/gallery/color/named_colors.html\n",
        "import seaborn as sns # import library\n",
        "custom_color = input(\"Type the name of a color : \") # get user input\n",
        "sns.histplot(data[\"X\"], color = custom_color) # display the histogram"
      ],
      "metadata": {
        "id": "T2g92jlMsZ78"
      },
      "execution_count": null,
      "outputs": []
    },
    {
      "cell_type": "code",
      "source": [
        "#@title Histogram with custom binning and custom color\n",
        "# color names that work should include https://matplotlib.org/stable/gallery/color/named_colors.html\n",
        "import seaborn as sns # import library\n",
        "custom_color = input(\"Type the name of a color : \") # get user input for color\n",
        "custom_binwidth = int(input(\"Enter the width of the bins : \")) # get user input for bins\n",
        "sns.histplot(data[\"X\"], color = custom_color, binwidth = custom_binwidth) # display the histogram"
      ],
      "metadata": {
        "id": "CnUD_BdHszn_"
      },
      "execution_count": null,
      "outputs": []
    },
    {
      "cell_type": "code",
      "source": [
        "#@title Count Plot (Horizontal)\n",
        "import seaborn as sns\n",
        "\n",
        "# Test code with Wine Quality data\n",
        "sns.set_theme(style=\"darkgrid\")\n",
        "ax = sns.countplot(y=\"Y\", data=data)"
      ],
      "metadata": {
        "id": "R5t_XduBhI-h"
      },
      "execution_count": null,
      "outputs": []
    },
    {
      "cell_type": "code",
      "source": [
        "#@title Count Plot (Customization)\n",
        "import seaborn as sns\n",
        "\n",
        "# Test code with Wine Quality data\n",
        "sns.set_theme(style=\"darkgrid\")\n",
        "ax = sns.countplot(y=\"Y\", data=data, \n",
        "      linewidth=2, \n",
        "      edgecolor=sns.color_palette(\"dark\", 6))"
      ],
      "metadata": {
        "id": "x_QohoNEkLXV"
      },
      "execution_count": null,
      "outputs": []
    },
    {
      "cell_type": "code",
      "source": [
        "#@title Count Plot (Vertical)\n",
        "import seaborn as sns\n",
        "import matplotlib.pyplot as plt\n",
        "\n",
        "# Test code with FIFA19 data\n",
        "plt.figure(figsize=(15,8))\n",
        "sns.set_theme(style=\"dark\")\n",
        "ax = sns.countplot(x=\"X\", data=data,\n",
        "                   palette=\"Set2\") \n",
        "\n",
        "# style parameter of set_theme method can take darkgrid, whitegrid, dark, white, and ticks as args\n",
        "# palette's possible arguments are Set1, Set2, Set3\n",
        "# hue parameter will take data column name from dataframe to display legends"
      ],
      "metadata": {
        "id": "Omrg6lKtnhKT"
      },
      "execution_count": null,
      "outputs": []
    },
    {
      "cell_type": "code",
      "source": [
        "len(data[\"Y\"])"
      ],
      "metadata": {
        "id": "VxKnYy70mJcK"
      },
      "execution_count": null,
      "outputs": []
    },
    {
      "cell_type": "code",
      "source": [
        "#@title Bar Plot (No Parameter Adjustment)\n",
        "import seaborn as sns\n",
        "import matplotlib.pyplot as plt\n",
        "\n",
        "# Test code with Connecticut housing data\n",
        "plt.figure(figsize=(15,8)) # adjust figure size\n",
        "sns.barplot(x=\"Y\", y=\"X1\", data=data) # draw bar plot"
      ],
      "metadata": {
        "id": "CKJVc8Pz5YGv"
      },
      "execution_count": null,
      "outputs": []
    },
    {
      "cell_type": "code",
      "source": [
        "#@title Bar plot (Adjust Color)\n",
        "import seaborn as sns\n",
        "import matplotlib.pyplot as plt\n",
        "\n",
        "# Test code with Connecticut housing data\n",
        "plt.figure(figsize=(15,8)) # adjust figure size\n",
        "sns.barplot(x=\"Y\", y=\"X1\", data=data, color=\"orange\") # change color of bar"
      ],
      "metadata": {
        "id": "xqvHNu0-7hGr"
      },
      "execution_count": null,
      "outputs": []
    },
    {
      "cell_type": "code",
      "source": [
        "#@title Bar plot with One Bar\n",
        "import seaborn as sns\n",
        "import matplotlib.pyplot as plt\n",
        "\n",
        "# Test code with Connecticut housing data\n",
        "# filter data dataframe for information about one county\n",
        "fairfield = data[data['Y'] == 'Fairfield']\n",
        "plt.figure(figsize=(3,6))\n",
        "sns.barplot(x=\"Y\", y=\"X1\", data=fairfield, color='brown', errcolor=\"red\", errwidth=5)"
      ],
      "metadata": {
        "id": "IjrpLGMp8mj1"
      },
      "execution_count": null,
      "outputs": []
    },
    {
      "cell_type": "markdown",
      "source": [
        "# Data Generation: Discrete and Continuous"
      ],
      "metadata": {
        "id": "0IMbC0VFPn8j"
      }
    },
    {
      "cell_type": "code",
      "source": [
        "#@title Generation of Random Data: Discrete RV (Array Edition)\n",
        "import numpy as np\n",
        "\n",
        "# Create a generator object\n",
        "rng = np.random.default_rng(seed=100)\n",
        "# Specify parameters for generator to produce integers\n",
        "# lower bound (inclusive)\n",
        "lower_bound = 1\n",
        "# upper bound (exlusive)\n",
        "upper_bound = 7\n",
        "# size of the output array\n",
        "array_size = 1 # adjust array size\n",
        "# Generate a random integer\n",
        "# example: rolling a die\n",
        "rand_num = rng.integers(low=lower_bound, high=upper_bound, size=array_size)\n",
        "# Display result\n",
        "rand_num"
      ],
      "metadata": {
        "id": "f8Vk7VMDtoN5"
      },
      "execution_count": null,
      "outputs": []
    },
    {
      "cell_type": "code",
      "source": [
        "#@title Generation of Random Data: Discrete RV (Matrix Edition)\n",
        "import numpy as np\n",
        "\n",
        "# Create a generator object\n",
        "rng = np.random.default_rng(seed=100)\n",
        "# Specify parameters for generator to produce integers\n",
        "# lower bound (inclusive)\n",
        "lower_bound = 1\n",
        "# upper bound (exlusive)\n",
        "upper_bound = 7\n",
        "# Want a two dimensional array of values\n",
        "matrix_size = (2,4)\n",
        "# Include upper_bound in list of random numbers\n",
        "list_num = rng.integers(low=lower_bound, high=upper_bound, size=matrix_size, endpoint=True)\n",
        "# Display result\n",
        "list_num"
      ],
      "metadata": {
        "id": "pvTaz-jiuLRC"
      },
      "execution_count": null,
      "outputs": []
    },
    {
      "cell_type": "code",
      "source": [
        "#@title Generation of Random Data: Discrete RV (Binomial Distribution)\n",
        "import numpy as np\n",
        "\n",
        "# Create a generator object\n",
        "rng = np.random.default_rng(seed=100)\n",
        "\n",
        "# Binomial distribution\n",
        "# Set parameters\n",
        "# Number of trials\n",
        "num_trials = 10\n",
        "# Probability of success\n",
        "p_success = 0.5\n",
        "# Number of experiments\n",
        "num_exp = 1000\n",
        "# Draw sample from the binomial distribution\n",
        "sample = rng.binomial(num_trials, p_success, size=num_exp)\n",
        "# See sample\n",
        "sample"
      ],
      "metadata": {
        "id": "MqN8xk9JuZ2Q"
      },
      "execution_count": null,
      "outputs": []
    },
    {
      "cell_type": "code",
      "source": [
        "#@title Generation of Random Data: Continuous RV (Array Edition)\n",
        "import numpy as np\n",
        "\n",
        "# Create a generator object\n",
        "rng = np.random.default_rng(seed=42)\n",
        "\n",
        "# Specify parameters for normal distribution\n",
        "mean = 3\n",
        "standard_deviation = 2\n",
        "sample_size = 20 \n",
        "# Default values for loc, scale, and size are 0, 1, and None respectively\n",
        "sample = rng.normal(loc=mean, scale=standard_deviation, size=sample_size)\n",
        "# Display sample\n",
        "sample"
      ],
      "metadata": {
        "id": "lOJhTOeFuqfV"
      },
      "execution_count": null,
      "outputs": []
    },
    {
      "cell_type": "code",
      "source": [
        "#@title Generation of Random Data: Continuous RV (Matrix Edition)\n",
        "import numpy as np\n",
        "\n",
        "# Create a generator object\n",
        "rng = np.random.default_rng(seed=42)\n",
        "\n",
        "# Specify n-dimensional array of samples\n",
        "matrix_size = (2,4)\n",
        "sample = rng.normal(loc=mean, scale=standard_deviation, size=matrix_size) # 2 x 4 array\n",
        "# Display sample\n",
        "sample"
      ],
      "metadata": {
        "id": "b_b2OZt6vClD"
      },
      "execution_count": null,
      "outputs": []
    },
    {
      "cell_type": "code",
      "source": [
        "#@title Generation of Random Data: Continuous RV (Multiple Means)\n",
        "import numpy as np\n",
        "\n",
        "# Create a generator object\n",
        "rng = np.random.default_rng(seed=42)\n",
        "\n",
        "# loc parameter can take an array of values: [mean1, mean2] for this example\n",
        "loc_list = [0,5]\n",
        "# Similarly, scale parameter can take an array of values: [std_dev1, std_dev2]\n",
        "deviation_list = [1,2]\n",
        "# size parameters has to match with the array size in the previous parameters\n",
        "# so, in this example column size (2) matches with array size (2)\n",
        "row = 5\n",
        "column = 2\n",
        "# Generate sample\n",
        "sample = rng.normal(loc=loc_list, scale=deviation_list, size=(row, column))\n",
        "# Display sample\n",
        "sample"
      ],
      "metadata": {
        "id": "ePR7qtwHvLOs"
      },
      "execution_count": null,
      "outputs": []
    },
    {
      "cell_type": "markdown",
      "source": [
        "# Arithmetics with Dataframe"
      ],
      "metadata": {
        "id": "OKCNkT8YPtdy"
      }
    },
    {
      "cell_type": "code",
      "source": [
        "#@title Adding Two Columns \n",
        "data[\"X\"].add(data[\"X1\"]).head(5) "
      ],
      "metadata": {
        "id": "OOwgwCjvwO7y"
      },
      "execution_count": null,
      "outputs": []
    },
    {
      "cell_type": "code",
      "source": [
        "#@title Subtracting One Column from Another\n",
        "data[\"X\"].subtract(data[\"X1\"]).head(5)"
      ],
      "metadata": {
        "id": "S43Dq3JQwaF4"
      },
      "execution_count": null,
      "outputs": []
    },
    {
      "cell_type": "code",
      "source": [
        "#@title Multiplying Two Columns \n",
        "data[\"X\"].multiply(data[\"X1\"]).head(5)"
      ],
      "metadata": {
        "id": "A8XWY5h_wjVC"
      },
      "execution_count": null,
      "outputs": []
    },
    {
      "cell_type": "code",
      "source": [
        "#@title Dividing One Column from Another\n",
        "data[\"X\"].divide(data[\"X1\"]).head(5)"
      ],
      "metadata": {
        "id": "nbrwHq9Ywutl"
      },
      "execution_count": null,
      "outputs": []
    },
    {
      "cell_type": "code",
      "source": [
        "#@title Summing All Values in Columns with Numeric Values \n",
        "data.sum(numeric_only=True)"
      ],
      "metadata": {
        "id": "D5KOr0E1wz6C"
      },
      "execution_count": null,
      "outputs": []
    },
    {
      "cell_type": "code",
      "source": [
        "#@title Summing All Values for a Specified Column \n",
        "data[\"X\"].sum()"
      ],
      "metadata": {
        "id": "OFK-BC8ow7FI"
      },
      "execution_count": null,
      "outputs": []
    },
    {
      "cell_type": "code",
      "source": [
        "#@title Exponentiate a Specified Column \n",
        "data[\"X\"].pow(2)"
      ],
      "metadata": {
        "id": "8LfDT6PNw9kq"
      },
      "execution_count": null,
      "outputs": []
    },
    {
      "cell_type": "code",
      "source": [
        "#@title Exponentiate Multiple Numeric Columns in Dataset\n",
        "data.iloc[ 1: , 1:].pow(2) # exclude column Y which has string data type"
      ],
      "metadata": {
        "id": "ni6vgpHzxHmt"
      },
      "execution_count": null,
      "outputs": []
    },
    {
      "cell_type": "code",
      "source": [
        "#@title Calculate Roots\n",
        "# below we perform square root \n",
        "data.iloc[ 1: , 1:].pow(1/2) "
      ],
      "metadata": {
        "id": "W1M-_AqUxfIv"
      },
      "execution_count": null,
      "outputs": []
    },
    {
      "cell_type": "code",
      "source": [
        "#@title Create New Column on Dataframe\n",
        "data[\"X6\"] = data['X'].pow(2)"
      ],
      "metadata": {
        "id": "cZQvnlXR9JRF"
      },
      "execution_count": null,
      "outputs": []
    },
    {
      "cell_type": "code",
      "source": [
        "#@title Rounding for One Dataframe Column\n",
        "data[\"X6\"].round(1)"
      ],
      "metadata": {
        "id": "upAbbMK--Dfp"
      },
      "execution_count": null,
      "outputs": []
    },
    {
      "cell_type": "code",
      "source": [
        "#@title Rounding for the Whole Dataframe\n",
        "data.round(1)"
      ],
      "metadata": {
        "id": "U1gOicSi--im"
      },
      "execution_count": null,
      "outputs": []
    },
    {
      "cell_type": "code",
      "source": [
        "#@title Find Missing Values\n",
        "bool_series = pd.isnull(data[\"X\"])\n",
        "data[bool_series]\n",
        "\n",
        "# below result may or may not show missing data"
      ],
      "metadata": {
        "id": "ruTFx52s_CmF"
      },
      "execution_count": null,
      "outputs": []
    },
    {
      "cell_type": "code",
      "source": [
        "#@title Sorting Dataframe \n",
        "# This is not an in-place sort\n",
        "# We can assign the result dataframe \n",
        "# to the same variable to reflect the change\n",
        "# data = data.sort_values(by=[\"Y\"], ascending=True)\n",
        "data.sort_values(by=[\"Y\"], ascending=True)"
      ],
      "metadata": {
        "id": "8akdLlv0_UG-"
      },
      "execution_count": null,
      "outputs": []
    },
    {
      "cell_type": "code",
      "source": [
        "#@title Selecting Cases in Dataframe\n",
        "data[data[\"X\"] > 70]"
      ],
      "metadata": {
        "id": "2eOAJjKe_gv8"
      },
      "execution_count": null,
      "outputs": []
    },
    {
      "cell_type": "code",
      "source": [
        "#@title Exclude a participant number from the cases\n",
        "data[(data[\"X\"] > 70) & (data[\"X\"] != 75)]"
      ],
      "metadata": {
        "id": "9VMQEFM0_k9d"
      },
      "execution_count": null,
      "outputs": []
    },
    {
      "cell_type": "markdown",
      "source": [
        "# Descriptive Statistics"
      ],
      "metadata": {
        "id": "qY4sxKzEQvAZ"
      }
    },
    {
      "cell_type": "code",
      "source": [
        "#@title Generate Descriptive Statistics\n",
        "data.describe()"
      ],
      "metadata": {
        "id": "QWaDWcPj_xQ7"
      },
      "execution_count": null,
      "outputs": []
    },
    {
      "cell_type": "code",
      "source": [
        "#@title Measures of Central Tendency with Missing Data\n",
        "\n",
        "# Tested with Cancer cases data\n",
        "# X4 has missing data\n",
        "print(\"Mean: \", data[\"X4\"].mean())\n",
        "print(\"Median: \", data[\"X4\"].median())\n",
        "print(\"Mode: \", data[\"X4\"].mode()) \n",
        "\n",
        "# For cancer cases dataset, no mode exists in column X4\n",
        "# No warnings or errors when performing central tendency measurements"
      ],
      "metadata": {
        "id": "-kVLQe_e1w05"
      },
      "execution_count": null,
      "outputs": []
    },
    {
      "cell_type": "code",
      "source": [
        "#@title Mean\n",
        "data.mean()"
      ],
      "metadata": {
        "id": "1gJXedGyAAf0"
      },
      "execution_count": null,
      "outputs": []
    },
    {
      "cell_type": "code",
      "source": [
        "#@title Median\n",
        "data.median()"
      ],
      "metadata": {
        "id": "xFsBERQlADjD"
      },
      "execution_count": null,
      "outputs": []
    },
    {
      "cell_type": "code",
      "source": [
        "#@title Mode\n",
        "data.mode()\n",
        "\n",
        "# below result may show the dataframe\n",
        "# due to the fact that this particular\n",
        "# dataframe has no mode"
      ],
      "metadata": {
        "id": "RnUiwxefAGbi"
      },
      "execution_count": null,
      "outputs": []
    },
    {
      "cell_type": "code",
      "source": [
        "#@title Minimum\n",
        "data.min() # find minimum in each column\n",
        "\n",
        "# data[\"X\"].min() # minimum in column X"
      ],
      "metadata": {
        "id": "xxHOk95wA3TO"
      },
      "execution_count": null,
      "outputs": []
    },
    {
      "cell_type": "code",
      "source": [
        "#@title Maximum \n",
        "data.max() # find maximum in each column\n",
        "\n",
        "# data[\"X\"].max maximum in column X"
      ],
      "metadata": {
        "id": "R1aV0YGQA_Ey"
      },
      "execution_count": null,
      "outputs": []
    },
    {
      "cell_type": "code",
      "source": [
        "#@title Range\n",
        "data[\"X\"].max() - data[\"X\"].min()"
      ],
      "metadata": {
        "id": "wIyQpSEQBDjR"
      },
      "execution_count": null,
      "outputs": []
    },
    {
      "cell_type": "code",
      "source": [
        "#@title First Quartile\n",
        "first_quartile = data.describe()[\"X\"][\"25%\"] # get the first quartile from dataframe"
      ],
      "metadata": {
        "id": "VGt4KCWMBG0k"
      },
      "execution_count": null,
      "outputs": []
    },
    {
      "cell_type": "code",
      "source": [
        "#@title Second Quartile\n",
        "second_quartile = data.describe()[\"X\"][\"50%\"] # get the 2nd quartile from dataframe"
      ],
      "metadata": {
        "id": "5UtAfp4gBN71"
      },
      "execution_count": null,
      "outputs": []
    },
    {
      "cell_type": "code",
      "source": [
        "#@title Third quartile\n",
        "third_quartile = data.describe()[\"X\"][\"75%\"] # get the 3rd quartile \n"
      ],
      "metadata": {
        "id": "VKap7ZpNBQlz"
      },
      "execution_count": null,
      "outputs": []
    },
    {
      "cell_type": "code",
      "source": [
        "#@title Interquartile Range\n",
        "third_quartile - first_quartile"
      ],
      "metadata": {
        "id": "PBSD3P_xBYo5"
      },
      "execution_count": null,
      "outputs": []
    },
    {
      "cell_type": "code",
      "source": [
        "#@title Variance\n",
        "data[\"X\"].var()"
      ],
      "metadata": {
        "id": "mhAQITkCBbIC"
      },
      "execution_count": null,
      "outputs": []
    },
    {
      "cell_type": "code",
      "source": [
        "#@title Standard Deviation\n",
        "data[\"X\"].std()"
      ],
      "metadata": {
        "id": "ByU90B8LBdiA"
      },
      "execution_count": null,
      "outputs": []
    },
    {
      "cell_type": "code",
      "source": [
        "#@title Skewness in One Column\n",
        "data[\"X\"].skew()"
      ],
      "metadata": {
        "id": "IyL2fPd_BgDt"
      },
      "execution_count": null,
      "outputs": []
    },
    {
      "cell_type": "code",
      "source": [
        "#@title Measurement of Skewness for All Columns \n",
        "data.skew(axis=0, numeric_only=True)"
      ],
      "metadata": {
        "id": "o_0J1HUWBj7s"
      },
      "execution_count": null,
      "outputs": []
    },
    {
      "cell_type": "code",
      "source": [
        "#@title Measurement of Kurtosis\n",
        "data.kurtosis(axis=0, numeric_only=True)"
      ],
      "metadata": {
        "id": "uhDWP0CbBzuI"
      },
      "execution_count": null,
      "outputs": []
    },
    {
      "cell_type": "code",
      "source": [
        "#@title Generate Frequency Table \n",
        "import numpy as np\n",
        "\n",
        "# Test data: Wine Quality\n",
        "# here, we have 2 ndarrays: one is a set of values, and \n",
        "# the other indicates the occurences of each value\n",
        "unique_vals, occurrences = np.unique(data['Y'], return_counts=True)\n",
        "\n",
        "# below is python dictionary object whose keys are names of columns \n",
        "# and values are the pandas series above\n",
        "freq_dist_dict = {\n",
        "    \"Value\": pd.Series(unique_vals),\n",
        "    \"Frequency\": pd.Series(occurrences),\n",
        "} \n",
        "\n",
        "freq_table = pd.DataFrame(freq_dist_dict) # frequency distribution table\n",
        "\n",
        "freq_table # display data"
      ],
      "metadata": {
        "id": "mRLVB6s8yo12"
      },
      "execution_count": null,
      "outputs": []
    },
    {
      "cell_type": "code",
      "source": [
        "#@title Generate Frequency Table with Relative Frequency\n",
        "import numpy as np\n",
        "\n",
        "# below is our function to calculate \n",
        "# the percentage of the frequencies \n",
        "# divide each count by total number of counts multiplied by 100\n",
        "def calculate_percentage(counts, total):\n",
        "  percentages = [] # result list to be returned\n",
        "  \n",
        "  for each in counts: # iterate through counts array\n",
        "    percentages.append((each/total)*100) # calculate percentage and append it to our list\n",
        "  \n",
        "  return percentages\n",
        "\n",
        "# Test data: Wine Quality\n",
        "# here, we have 2 ndarrays: one is a set of values, and \n",
        "# the other indicates the occurences of each value\n",
        "unique_vals, occurrences = np.unique(data['Y'], return_counts=True)\n",
        "\n",
        "# find relative frequency using customized function, calculate_percentage\n",
        "rel_freq = calculate_percentage(occurrences, len(data['Y']))\n",
        "\n",
        "# pandas series objects for each column in dataframe to be created later\n",
        "s1 = pd.Series(unique_vals)\n",
        "s2 = pd.Series(occurrences)\n",
        "s3 = pd.Series(rel_freq)\n",
        "\n",
        "# below is python dictionary object whose keys are names of columns \n",
        "# and values are the pandas series above\n",
        "freq_dist_dict = {\n",
        "    \"Value\": s1,\n",
        "    \"Frequency\": s2,\n",
        "    \"Percent\": s3,\n",
        "} \n",
        "\n",
        "freq_table_w_rel_freq = pd.DataFrame(freq_dist_dict) # frequency distribution table"
      ],
      "metadata": {
        "id": "rQJgZLF_auon"
      },
      "execution_count": null,
      "outputs": []
    },
    {
      "cell_type": "code",
      "source": [
        "#@title Calculate Intervals Around Mean\n",
        "mean = data['X'].mean()\n",
        "sdev = data['X'].std()\n",
        "num_sd = int(input(\"Number of standard deviation away from mean: \"))\n",
        "(mean - num_sd * sdev, mean + num_sd * sdev)"
      ],
      "metadata": {
        "id": "xVK2_-iFrpCo"
      },
      "execution_count": null,
      "outputs": []
    },
    {
      "cell_type": "code",
      "source": [
        "#@title Determine Population Variance\n",
        "# Verify that data['X'] has no NA before doing calculation\n",
        "data['X'].var() * (len(data['X']) - 1) / len(data['X'])"
      ],
      "metadata": {
        "id": "QWoKhv3AOesq"
      },
      "execution_count": null,
      "outputs": []
    },
    {
      "cell_type": "code",
      "source": [
        "#@title Determine Population Standard Deviation\n",
        "from math import sqrt\n",
        "\n",
        "# Verify that data['X'] has no NA before doing calculation\n",
        "sqrt(data['X'].var() * (len(data['X']) - 1) / len(data['X']))"
      ],
      "metadata": {
        "id": "eclovlfSTJiv"
      },
      "execution_count": null,
      "outputs": []
    },
    {
      "cell_type": "code",
      "source": [
        "#@title Add an Outlier Score\n",
        "series_x = data[\"X\"] #  Create a copy of one variable from the distribution\n",
        "series_of_new_scores = pd.Series([data[\"X\"].mean()*3])  # Create a series from a list of value(s); create a new single score equal to three times the mean in the list\n",
        "series_with_outlier = pd.concat([series_x, series_of_new_scores], ignore_index=True) # Create a new series by concatenating two pandas series\n",
        "series_with_outlier.mean() # Show the mean of the new variable\n",
        "\n",
        "# verify that a new value has been added to our new series\n",
        "# series_with_outlier.tail(3) # output the last three values in series"
      ],
      "metadata": {
        "id": "k7xYAreiWmQ1"
      },
      "execution_count": null,
      "outputs": []
    }
  ]
}