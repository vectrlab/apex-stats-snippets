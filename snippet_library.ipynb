{
  "cells": [
    {
      "cell_type": "markdown",
      "metadata": {
        "id": "view-in-github",
        "colab_type": "text"
      },
      "source": [
        "<a href=\"https://colab.research.google.com/github/vectrlab/apex-stats-snippets/blob/main/snippet_library.ipynb\" target=\"_parent\"><img src=\"https://colab.research.google.com/assets/colab-badge.svg\" alt=\"Open In Colab\"/></a>"
      ]
    },
    {
      "cell_type": "markdown",
      "metadata": {
        "id": "wPFYkYNtf6i2"
      },
      "source": [
        "# APEX STATS Code Snippets"
      ]
    },
    {
      "cell_type": "markdown",
      "metadata": {
        "id": "H8zZNFBXp5Rc"
      },
      "source": [
        "# Data Setup"
      ]
    },
    {
      "cell_type": "code",
      "execution_count": null,
      "metadata": {
        "id": "M5E0Lh7xfyqd"
      },
      "outputs": [],
      "source": [
        "#@title Setup Blank Data\n",
        "\n",
        "# Import library\n",
        "import pandas as pd\n",
        "\n",
        "# Blank data frame\n",
        "df = pd.DataFrame()"
      ]
    },
    {
      "cell_type": "code",
      "execution_count": null,
      "metadata": {
        "id": "dq6DZMQtrt4y"
      },
      "outputs": [],
      "source": [
        "#@title Setup Example Data: Health Nutrition\n",
        "\n",
        "# Import library\n",
        "import pandas as pd\n",
        "\n",
        "# Read data file: Health Nutrition\n",
        "data = pd.read_csv('https://raw.githubusercontent.com/vectrlab/apex-stats-datasets/main/healthnutritionandpopulation/example.csv')\n",
        "\n",
        "# Preview data\n",
        "data"
      ]
    },
    {
      "cell_type": "code",
      "execution_count": null,
      "metadata": {
        "id": "wEKbZI31HaRh"
      },
      "outputs": [],
      "source": [
        "#@title Setup Example Data: Red Wine Quality\n",
        "\n",
        "# Import library\n",
        "import pandas as pd\n",
        "\n",
        "# Read data file: Red Wine Quality\n",
        "data = pd.read_csv('https://raw.githubusercontent.com/vectrlab/apex-stats-datasets/main/red-wine-quality/example.csv')\n",
        "\n",
        "# Preview data\n",
        "data"
      ]
    },
    {
      "cell_type": "code",
      "execution_count": null,
      "metadata": {
        "id": "bNx7z--7H2mc"
      },
      "outputs": [],
      "source": [
        "#@title Setup Example Data: Connecticut Housing\n",
        "\n",
        "# Import library\n",
        "import pandas as pd\n",
        "\n",
        "# Read data file: Connecticut Housing\n",
        "data = pd.read_csv('https://raw.githubusercontent.com/vectrlab/apex-stats-datasets/main/connecticut-housing/example.csv')\n",
        "\n",
        "# Preview data\n",
        "data"
      ]
    },
    {
      "cell_type": "code",
      "execution_count": null,
      "metadata": {
        "id": "6__W_Co9rKAZ"
      },
      "outputs": [],
      "source": [
        "#@title Setup Example Data: FIFA19\n",
        "\n",
        "# Import library\n",
        "import pandas as pd\n",
        "\n",
        "# Read data file: FIFA19\n",
        "data = pd.read_csv('https://raw.githubusercontent.com/vectrlab/apex-stats-datasets/main/fifa19/example.csv')\n",
        "\n",
        "# Preview data\n",
        "data"
      ]
    },
    {
      "cell_type": "code",
      "execution_count": null,
      "metadata": {
        "id": "ZCiMv8VJdGV_"
      },
      "outputs": [],
      "source": [
        "#@title Setup Example Data with Error Handling\n",
        "\n",
        "# Import library\n",
        "import pandas as pd\n",
        "\n",
        "# Read data file: FIFA19\n",
        "data = pd.read_csv('https://raw.githubusercontent.com/vectrlab/apex-stats-datasets/main/fifa19/example.csv')\n",
        "\n",
        "# Handle errors\n",
        "try:\n",
        "    data\n",
        "    print('The data were loaded.')\n",
        "except NameError:\n",
        "    print('There was a problem loading the data.')"
      ]
    },
    {
      "cell_type": "markdown",
      "metadata": {
        "id": "IU0y6TSoroxU"
      },
      "source": [
        "# Population vs Sample"
      ]
    },
    {
      "cell_type": "code",
      "execution_count": null,
      "metadata": {
        "id": "bLjVS1oary8O"
      },
      "outputs": [],
      "source": [
        "#@title Generate a Population Distribution\n",
        "\n",
        "# Import libraries\n",
        "import random\n",
        "import pandas as pd\n",
        "\n",
        "# Set the seed so that everyone has the same values, or\n",
        "# comment out the line below to generate a unique population each time.\n",
        "random.seed(21715)\n",
        "\n",
        "# Set population size\n",
        "n = 1000\n",
        "\n",
        "# Specify maximum value\n",
        "max_value = 100.0\n",
        "\n",
        "# Generate a uniform distribution with N values,\n",
        "# from 0 to the maximum value, chosen at random.\n",
        "population = [random.random() * max_value for x in range(n)]\n",
        "\n",
        "# Add the population distribution to the data frame.\n",
        "df = df.assign(x=population)"
      ]
    },
    {
      "cell_type": "code",
      "execution_count": null,
      "metadata": {
        "id": "0vUbjCtXsCtb"
      },
      "outputs": [],
      "source": [
        "#@title Population or Sample Size\n",
        "\n",
        "# Population or sample size\n",
        "len(data['x'])"
      ]
    },
    {
      "cell_type": "code",
      "execution_count": null,
      "metadata": {
        "id": "FWhqp_IRsGOt"
      },
      "outputs": [],
      "source": [
        "#@title Population or Sample Mean\n",
        "\n",
        "# Import library\n",
        "import numpy as np\n",
        "\n",
        "# Mean\n",
        "np.mean(data['x'])"
      ]
    },
    {
      "cell_type": "code",
      "execution_count": null,
      "metadata": {
        "id": "Z9fBQgwlsKtq"
      },
      "outputs": [],
      "source": [
        "#@title Population Standard Deviation\n",
        "\n",
        "# Import library\n",
        "import numpy as np\n",
        "\n",
        "# Population standard deviation\n",
        "np.std(data['x'], ddof=0)"
      ]
    },
    {
      "cell_type": "code",
      "execution_count": null,
      "metadata": {
        "id": "jwMB3YBDsOps"
      },
      "outputs": [],
      "source": [
        "#@title Sample Standard Deviation\n",
        "\n",
        "# Import library\n",
        "import numpy as np\n",
        "\n",
        "# Calculate the sample standard deviation;\n",
        "# ddof is delta degrees of freedom and\n",
        "# N - ddof is used in the variance calculation.\n",
        "np.std(data['x'], ddof=1)"
      ]
    },
    {
      "cell_type": "code",
      "execution_count": null,
      "metadata": {
        "id": "Ajq0VRHts3lh"
      },
      "outputs": [],
      "source": [
        "#@title Generate a Random Sample\n",
        "\n",
        "# Import libraries\n",
        "import random\n",
        "import numpy as np\n",
        "\n",
        "# Sample size\n",
        "n = 5\n",
        "\n",
        "# Generate a single sample\n",
        "one_sample = np.random.choice(data['x'], n)\n",
        "\n",
        "# Display sample data\n",
        "one_sample"
      ]
    },
    {
      "cell_type": "code",
      "execution_count": null,
      "metadata": {
        "id": "VLpNZJIys_4w"
      },
      "outputs": [],
      "source": [
        "#@title Generate a Sampling Distribution\n",
        "\n",
        "# Import libraries\n",
        "import random\n",
        "import numpy as np\n",
        "\n",
        "# Specify number of samples in the sampling distribution\n",
        "num_samples = 2000\n",
        "\n",
        "# Sample size\n",
        "n = 5\n",
        "\n",
        "# Define a function\n",
        "def drange():\n",
        "    # Pick a random starting spot in the distribution\n",
        "    x = random.randrange(0, len(data['x']) - (n + 1))\n",
        "    # Select n values starting from that spot -\n",
        "    # Dave note: We may need to fix this, as the selection\n",
        "    # will be biased if data are in a nonrandom order\n",
        "    return slice(x, x + n)\n",
        "\n",
        "# Assemble the sampling distribution by finding means of repeated samples\n",
        "sampling_dist = [np.mean(data['x'][drange()]) for x in range(num_samples)]\n",
        "\n",
        "# Display the sampling distribution\n",
        "sampling_dist"
      ]
    },
    {
      "cell_type": "code",
      "execution_count": null,
      "metadata": {
        "id": "AdjSMjNMtMBw"
      },
      "outputs": [],
      "source": [
        "#@title Calculate Standard Error\n",
        "\n",
        "# Import library\n",
        "import numpy as np\n",
        "\n",
        "# Sample size\n",
        "n = 5\n",
        "\n",
        "# Standard error\n",
        "se = np.std(data['x'], ddof=1) / np.sqrt(n)\n",
        "\n",
        "# Display result\n",
        "se"
      ]
    },
    {
      "cell_type": "markdown",
      "metadata": {
        "id": "XJxCKOLbq99A"
      },
      "source": [
        "# Confidence Interval"
      ]
    },
    {
      "cell_type": "code",
      "execution_count": null,
      "metadata": {
        "id": "GtiSRk5jtQBY"
      },
      "outputs": [],
      "source": [
        "#@title Calculate 95% Confidence Interval, Extended Version\n",
        "\n",
        "# Import libraries\n",
        "import numpy as np\n",
        "from scipy.stats import norm\n",
        "\n",
        "# Sample size\n",
        "n = 5\n",
        "\n",
        "# Standard error\n",
        "se = np.std(data['x'], ddof=1) / np.sqrt(n)\n",
        "\n",
        "# Area of one tail outside the confidence interval\n",
        "tail = 1 - (1 - .95) / 2\n",
        "\n",
        "# Z-score corresponding to 97.5% area below it\n",
        "z = norm.ppf(tail)\n",
        "\n",
        "# Find and save lower and upper bounds\n",
        "lower_bound = np.mean(data['x']) - z * se\n",
        "upper_bound = np.mean(data['x']) + z * se"
      ]
    },
    {
      "cell_type": "code",
      "execution_count": null,
      "metadata": {
        "id": "ZluEoGuBtTkt"
      },
      "outputs": [],
      "source": [
        "#@title Calculate 95% Confidence Interval, Simple Version\n",
        "\n",
        "# Import libraries\n",
        "from scipy import stats\n",
        "import numpy as np\n",
        "\n",
        "# Calculate mean\n",
        "mu = np.mean(data['x'])\n",
        "\n",
        "# Calculate standard deviation\n",
        "sigma = np.std(data['x'], ddof=1)\n",
        "\n",
        "# Specify confidence level\n",
        "conf_level = 0.95\n",
        "\n",
        "# Find confidence interval\n",
        "stats.norm.interval(conf_level, loc=mu, scale=sigma)"
      ]
    },
    {
      "cell_type": "markdown",
      "metadata": {
        "id": "5hoPp0dKrB-k"
      },
      "source": [
        "# Z-score"
      ]
    },
    {
      "cell_type": "code",
      "execution_count": null,
      "metadata": {
        "id": "HuVEHacLuCwx"
      },
      "outputs": [],
      "source": [
        "#@title Generate Z-scores\n",
        "\n",
        "# Import library\n",
        "from scipy import stats\n",
        "\n",
        "# Create a new data column 'z' containing z-scores\n",
        "data['z'] = stats.zscore(data['x'])\n",
        "\n",
        "# Display data column\n",
        "data['z']"
      ]
    },
    {
      "cell_type": "code",
      "execution_count": null,
      "metadata": {
        "id": "cKsMjv14_kWy"
      },
      "outputs": [],
      "source": [
        "#@title Apply the Z-score Formula to User Inputs\n",
        "\n",
        "# Formula: z = (score - mean) / pop_sd\n",
        "\n",
        "# Ask user to insert a new score\n",
        "raw = float(input('Score = '))\n",
        "\n",
        "# Ask user to insert a mean\n",
        "mean = float(input('Mean = '))\n",
        "\n",
        "# Ask the user to insert standard deviation\n",
        "sd = float(input('Input the standard deviation: '))\n",
        "\n",
        "# Find z-score with formula, round to 2 decimal places\n",
        "z = round((raw - mean) / sd, 2)\n",
        "\n",
        "# Print result\n",
        "print(f'z = {z}')"
      ]
    },
    {
      "cell_type": "code",
      "execution_count": null,
      "metadata": {
        "id": "e_Ee5_0d6LOi"
      },
      "outputs": [],
      "source": [
        "#@title Generate Raw Scores\n",
        "\n",
        "# Import libraries\n",
        "import numpy as np\n",
        "from scipy import stats\n",
        "\n",
        "# Creat empty list for raw scores\n",
        "raw_scores = []\n",
        "\n",
        "# Find population standard deviation\n",
        "sd = np.std(data['x'])\n",
        "\n",
        "# Find mean from data column x\n",
        "mean = data['x'].mean()\n",
        "\n",
        "# Access each z-score\n",
        "for z in data['z']:\n",
        "    # Save each raw score, calculated using formula, into list\n",
        "    raw_scores.append(z * sd + mean)\n",
        "\n",
        "# Display result\n",
        "raw_scores"
      ]
    },
    {
      "cell_type": "code",
      "execution_count": null,
      "metadata": {
        "id": "qvTkRGKpp_Ix"
      },
      "outputs": [],
      "source": [
        "#@title Apply Raw Score Formula to User Inputs\n",
        "\n",
        "# Formula: raw score = score * sd + mean\n",
        "\n",
        "# Input new score\n",
        "z = float(input('z = '))\n",
        "\n",
        "# Input mean\n",
        "mean = float(input('Mean: '))\n",
        "\n",
        "# Input standard deviation\n",
        "sd = float(input('Input the standard deviation: '))\n",
        "\n",
        "# Find z-score using formula, round to 2 decimal places\n",
        "raw = round(z * sd + mean, 2)\n",
        "\n",
        "# Print result\n",
        "print(f'Score = {raw}')"
      ]
    },
    {
      "cell_type": "markdown",
      "metadata": {
        "id": "fX9pokptrJrj"
      },
      "source": [
        "# CDF and Inverse CDF"
      ]
    },
    {
      "cell_type": "code",
      "execution_count": null,
      "metadata": {
        "id": "Qg-z8VlGYlTF"
      },
      "outputs": [],
      "source": [
        "#@title Cumulative Distribution Function\n",
        "\n",
        "# Import norm from scipy.stats\n",
        "from scipy.stats import norm\n",
        "\n",
        "# CDF of a standard normal distribution\n",
        "norm.cdf(1.45, loc=0, scale=1)\n",
        "\n",
        "# When we specify 1.45, we are interested in the area\n",
        "# under the curve to the left of the point 1.45,\n",
        "# loc is where you specify your mean, and\n",
        "# scale is where you specify your standard deviation."
      ]
    },
    {
      "cell_type": "code",
      "execution_count": null,
      "metadata": {
        "id": "laQTYD6ZsqfG"
      },
      "outputs": [],
      "source": [
        "#@title Find Area Under the Curve\n",
        "\n",
        "# Import norm from scipy.stats\n",
        "from scipy.stats import norm\n",
        "\n",
        "# Input mean\n",
        "mean = float(input('Specify your mean: '))\n",
        "\n",
        "# Input standard deviation\n",
        "stdev = float(input('Specify your standard deviation: '))\n",
        "\n",
        "# Input lower bound\n",
        "lower_bound = float(input('Specify your lower bound: '))\n",
        "\n",
        "# Input upper bound\n",
        "upper_bound = float(input('Specify your upper bound: '))\n",
        "\n",
        "# Calculate the area under the curve\n",
        "# by subtracting the larger area (using upper bound)\n",
        "# from smaller one (using lower bound).\n",
        "larger_area = norm.cdf(upper_bound, loc=mean, scale=stdev)\n",
        "smaller_area = norm.cdf(lower_bound, loc=mean, scale=stdev)\n",
        "area_under_curve = larger_area - smaller_area\n",
        "\n",
        "# Print result; round answer to two decimal places\n",
        "print(\n",
        "    f'Area under the curve from {lower_bound} to {upper_bound} '\n",
        "    f'is {round(area_under_curve, 2)}'\n",
        ")"
      ]
    },
    {
      "cell_type": "code",
      "execution_count": null,
      "metadata": {
        "id": "m2_ctPDicVOg"
      },
      "outputs": [],
      "source": [
        "#@title Inverse Cumulative Distribution Function\n",
        "\n",
        "# Import norm from scipy.stats\n",
        "from scipy.stats import norm\n",
        "\n",
        "# Input mean\n",
        "mean = float(input('Specify your mean: '))\n",
        "\n",
        "# Input standard deviation\n",
        "stdev = float(input('Specify your standard deviation: '))\n",
        "\n",
        "# Input5 percentile\n",
        "percentile = float(input('Specify the percentile (from 0-1 range): '))\n",
        "\n",
        "# Find inverse norm result with norm.ppf method\n",
        "inv_norm_ans = norm.ppf(percentile, loc=mean, scale=stdev)\n",
        "\n",
        "# Print result; round answer to two decimal places\n",
        "print(\n",
        "    f'With mean {mean} and standard deviation {stdev}, '\n",
        "    f'the {int(percentile*100)}th percentile is {round(inv_norm_ans, 2)}'\n",
        ")\n",
        "\n",
        "# norm.ppf returns a *percentile* confidence interval for a one-tailed test.\n",
        "# For example, when we specify 0.95, we indicated the area under the curve\n",
        "# to be 0.95 with loc to be our mean and scale to be our standard deviation.\n",
        "# In R, it is qnorm(0.95, 0, 1) or qnorm(0.05,0,1,lower.tail=FALSE)\n",
        "# with mean 0 and standard deviation 1."
      ]
    },
    {
      "cell_type": "markdown",
      "metadata": {
        "id": "CGhqgx8QrTXf"
      },
      "source": [
        "# Understand Data"
      ]
    },
    {
      "cell_type": "code",
      "execution_count": null,
      "metadata": {
        "id": "UWj3BOmJfBak"
      },
      "outputs": [],
      "source": [
        "#@title Sampling Cases from Data Frame\n",
        "\n",
        "# Random sampling\n",
        "new_df = df.sample(n=10, random_state=1)\n",
        "\n",
        "# Display sample\n",
        "new_df"
      ]
    },
    {
      "cell_type": "code",
      "execution_count": null,
      "metadata": {
        "id": "WJyUX9wMnwwp"
      },
      "outputs": [],
      "source": [
        "#@title Find Missing Values in Data Frame Columns\n",
        "\n",
        "# Display status of each cell (False: filled with data; True: missing data)\n",
        "data['x'].isna()"
      ]
    },
    {
      "cell_type": "code",
      "execution_count": null,
      "metadata": {
        "id": "qBENykuhn8KX"
      },
      "outputs": [],
      "source": [
        "#@title Find Missing Values in Data Frame\n",
        "\n",
        "# Display status of each cell (False: filled with data; True: missing data)\n",
        "data.isna()"
      ]
    },
    {
      "cell_type": "code",
      "execution_count": null,
      "metadata": {
        "id": "ZjpQvk9Ro8kt"
      },
      "outputs": [],
      "source": [
        "#@title Find Records Where NaN Exists\n",
        "\n",
        "# Cases where NaN exists\n",
        "data['x'][data['x'].isna() == True]"
      ]
    },
    {
      "cell_type": "code",
      "execution_count": null,
      "metadata": {
        "id": "OEwt3Aoop-4l"
      },
      "outputs": [],
      "source": [
        "#@title Discover Data Types\n",
        "\n",
        "# Import libraries\n",
        "import pandas as pd\n",
        "import numpy as np\n",
        "\n",
        "# Create dataframe with 'x' variable; column has integer data\n",
        "df = pd.DataFrame(np.random.randint(0, 2, size=10), columns=['x'])\n",
        "\n",
        "# Find datatype of data in df['x'] (data are 0 and 1)\n",
        "df.dtypes"
      ]
    },
    {
      "cell_type": "code",
      "execution_count": null,
      "metadata": {
        "id": "7YiXQmQvsHrd"
      },
      "outputs": [],
      "source": [
        "#@title Convert into Category Data Type\n",
        "\n",
        "# Convert integers into categories (factors in R)\n",
        "df['x'] = df['x'].astype('category')\n",
        "\n",
        "# Diplay data types\n",
        "df.dtypes"
      ]
    },
    {
      "cell_type": "code",
      "execution_count": null,
      "metadata": {
        "id": "boa7wiHHojJV"
      },
      "outputs": [],
      "source": [
        "#@title Convert Datatype and Insert a New Column into Data Frame\n",
        "\n",
        "# Convert integers into categories (factors in R)\n",
        "data['x6'] = data['x'].astype('category')\n",
        "\n",
        "# Diplay data types\n",
        "data.dtypes"
      ]
    },
    {
      "cell_type": "markdown",
      "metadata": {
        "id": "m2Gd4eBSq1nU"
      },
      "source": [
        "# Hypothesis Testing"
      ]
    },
    {
      "cell_type": "code",
      "execution_count": null,
      "metadata": {
        "id": "4ZBf4XOuN17e"
      },
      "outputs": [],
      "source": [
        "#@title One Sample t-test\n",
        "\n",
        "# Import library\n",
        "from scipy import stats\n",
        "\n",
        "# One sample t-test (arg1: sample observation, arg2: expected H0 value)\n",
        "result = stats.ttest_1samp(data['x'], 39)\n",
        "\n",
        "# To extract details from result, see comments below:\n",
        "# result.statistic\n",
        "# result.pvalue"
      ]
    },
    {
      "cell_type": "code",
      "execution_count": null,
      "metadata": {
        "id": "MQr_in7EQt-A"
      },
      "outputs": [],
      "source": [
        "#@title Independent Samples t-test\n",
        "\n",
        "# Import library\n",
        "from scipy import stats\n",
        "\n",
        "# Independent samples t-test (arg1: sample 1, arg2: sample 2)\n",
        "result = stats.ttest_ind(data['x'], data['x1'])\n",
        "\n",
        "# To extract details from result, see comments below:\n",
        "# result.statistic\n",
        "# result.pvalue"
      ]
    },
    {
      "cell_type": "code",
      "execution_count": null,
      "metadata": {
        "id": "i30XgfosVgUY"
      },
      "outputs": [],
      "source": [
        "#@title Paired Samples t-test\n",
        "\n",
        "# Import library\n",
        "from scipy import stats\n",
        "\n",
        "# Paired samples t-test (arg1: sample 1, arg2: sample 2)\n",
        "result = stats.ttest_rel(data['x'], data['x1'])\n",
        "\n",
        "# To extract details from result, see comments below:\n",
        "# result.statistic\n",
        "# result.pvalue"
      ]
    },
    {
      "cell_type": "code",
      "execution_count": null,
      "metadata": {
        "id": "k5b4_xE-bzWb"
      },
      "outputs": [],
      "source": [
        "#@title Correlation Analysis\n",
        "\n",
        "# Import library\n",
        "from scipy import stats\n",
        "\n",
        "# Pearson's R (returns a tuple)\n",
        "corr_test = stats.pearsonr(data['x'], data['x1'])\n",
        "\n",
        "# r: Pearson's correlation efficient\n",
        "print(corr_test[0])\n",
        "\n",
        "# p-value: two-tailed p-val\n",
        "print(corr_test[1])"
      ]
    },
    {
      "cell_type": "code",
      "execution_count": null,
      "metadata": {
        "id": "KCeHiTsEHm-C"
      },
      "outputs": [],
      "source": [
        "#@title Simple Regression\n",
        "\n",
        "# Import library\n",
        "from scipy import stats\n",
        "\n",
        "# Simple regression\n",
        "result = stats.linregress(data['x'], data['x1'])\n",
        "\n",
        "# To extract details from result, see comments below:\n",
        "# result.slope\n",
        "# result.intercept\n",
        "# result.rvalue\n",
        "# result.pvalue\n",
        "# result.stderr"
      ]
    },
    {
      "cell_type": "code",
      "execution_count": null,
      "metadata": {
        "id": "E43QwcpUqmXk"
      },
      "outputs": [],
      "source": [
        "#@title One-Way Chi-Square Test\n",
        "\n",
        "# Import library\n",
        "from scipy.stats import chisquare\n",
        "\n",
        "# One-way Chi-square\n",
        "result = chisquare(data['x'])\n",
        "\n",
        "# Print statistic and p-value\n",
        "print(result[0])\n",
        "print(result[1])"
      ]
    },
    {
      "cell_type": "code",
      "execution_count": null,
      "metadata": {
        "id": "mlqtWZt8rBSI"
      },
      "outputs": [],
      "source": [
        "#@title One-Way ANOVA\n",
        "\n",
        "# Import library\n",
        "from scipy import stats\n",
        "\n",
        "# One-way ANOVA\n",
        "result = stats.f_oneway(data['x'], data['x1'])\n",
        "\n",
        "# Print statistic and p-value\n",
        "print(result.statistic)\n",
        "print(result.pvalue)"
      ]
    },
    {
      "cell_type": "markdown",
      "metadata": {
        "id": "2pX37YzwPOGM"
      },
      "source": [
        "# Data Visualization"
      ]
    },
    {
      "cell_type": "code",
      "execution_count": null,
      "metadata": {
        "id": "UuCRVVz8xXEp"
      },
      "outputs": [],
      "source": [
        "#@title Kernel Density Estimate Plot\n",
        "\n",
        "# Import library\n",
        "import seaborn as sns\n",
        "\n",
        "# KDE plot\n",
        "sns.kdeplot(data = data['x'], fill=True, bw_adjust=3, color='green')"
      ]
    },
    {
      "cell_type": "code",
      "execution_count": null,
      "metadata": {
        "id": "9VFibOBnXCfx"
      },
      "outputs": [],
      "source": [
        "#@title Dot Plot\n",
        "\n",
        "# Import library\n",
        "import seaborn as sns\n",
        "\n",
        "# Dot plot - test with Red Wine Quality data\n",
        "sns.stripplot(x=data['y'], y=data['x10'], color='purple')"
      ]
    },
    {
      "cell_type": "code",
      "execution_count": null,
      "metadata": {
        "id": "Y2O8CseolCnQ"
      },
      "outputs": [],
      "source": [
        "#@title Box Plot (No Parameter Adjustment)\n",
        "\n",
        "# Import libraries\n",
        "import seaborn as sns\n",
        "import matplotlib.pyplot as plt\n",
        "\n",
        "# Figure size\n",
        "plt.figure(figsize=(15, 8))\n",
        "\n",
        "# Box plot - test with Connecticut Housing data\n",
        "sns.boxplot(x='y', y='x', data=data)"
      ]
    },
    {
      "cell_type": "code",
      "execution_count": null,
      "metadata": {
        "id": "EWktFZLMoC99"
      },
      "outputs": [],
      "source": [
        "#@title Box Plot (Adjust Color and Plot One Candlestick)\n",
        "\n",
        "# Filter data for one county\n",
        "fairfield = data[data['y'] == 'Fairfield']\n",
        "\n",
        "# Figure size\n",
        "plt.figure(figsize=(3, 6))\n",
        "\n",
        "# Box plot - test with Connecticut Housing data\n",
        "sns.boxplot(x='y', y='x', data=fairfield, color='green')"
      ]
    },
    {
      "cell_type": "code",
      "execution_count": null,
      "metadata": {
        "id": "0ubBUJ0ntwir"
      },
      "outputs": [],
      "source": [
        "#@title Regression Line\n",
        "\n",
        "# Import libraries\n",
        "import seaborn as sns\n",
        "import matplotlib.pyplot as plt\n",
        "\n",
        "# Linear regression line\n",
        "sns.lmplot(x='x', y='x1', data=data)\n",
        "\n",
        "# Save plot\n",
        "plt.savefig('linear_regression.png')"
      ]
    },
    {
      "cell_type": "code",
      "execution_count": null,
      "metadata": {
        "id": "ekFxylkIxzdQ"
      },
      "outputs": [],
      "source": [
        "#@title Histogram (No Parameter Adjustment)\n",
        "\n",
        "# Import libraries\n",
        "import seaborn as sns\n",
        "import matplotlib.pyplot as plt\n",
        "\n",
        "# Adjust the figure size\n",
        "plt.figure(figsize=(15, 8))\n",
        "\n",
        "# Histogram - test with Drinks data\n",
        "sns.histplot(data=data)"
      ]
    },
    {
      "cell_type": "code",
      "execution_count": null,
      "metadata": {
        "id": "vKlh7Hvo0IYq"
      },
      "outputs": [],
      "source": [
        "#@title Histogram (Binwidth and KDE)\n",
        "\n",
        "# Import libraries\n",
        "import seaborn as sns\n",
        "import matplotlib.pyplot as plt\n",
        "\n",
        "# Ajust figure size\n",
        "plt.figure(figsize=(15, 8))\n",
        "\n",
        "# Histogram - test with Drinks data\n",
        "sns.histplot(data=data['x'], binwidth=10, kde=True)"
      ]
    },
    {
      "cell_type": "code",
      "execution_count": null,
      "metadata": {
        "id": "wzSKqTtt1nVE"
      },
      "outputs": [],
      "source": [
        "#@title Histogram (Color)\n",
        "\n",
        "# Import libraries\n",
        "import seaborn as sns\n",
        "import matplotlib.pyplot as plt\n",
        "\n",
        "# Adjust figure size\n",
        "plt.figure(figsize=(15, 8))\n",
        "\n",
        "# Histogram - test with Health Nutrition and Population Data\n",
        "# We have x as a continuous variable\n",
        "sns.histplot(data=data['x'], binwidth=4, color='brown')"
      ]
    },
    {
      "cell_type": "code",
      "execution_count": null,
      "metadata": {
        "id": "tnnXG_dEsW6g"
      },
      "outputs": [],
      "source": [
        "#@title Histogram with automatic binning and color\n",
        "\n",
        "# Import library\n",
        "import seaborn as sns\n",
        "\n",
        "# Histogram\n",
        "sns.histplot(data['x'])"
      ]
    },
    {
      "cell_type": "code",
      "execution_count": null,
      "metadata": {
        "id": "T2g92jlMsZ78"
      },
      "outputs": [],
      "source": [
        "#@title Histogram with automatic binning and custom color\n",
        "\n",
        "# For a list of color names:\n",
        "# https://matplotlib.org/stable/gallery/color/named_colors.html\n",
        "\n",
        "# Import library\n",
        "import seaborn as sns\n",
        "\n",
        "# Get user input on histogram color\n",
        "custom_color = input('Type the name of a color : ')\n",
        "\n",
        "# Histogram\n",
        "sns.histplot(data['x'], color=custom_color, binwidth=1)"
      ]
    },
    {
      "cell_type": "code",
      "execution_count": null,
      "metadata": {
        "id": "CnUD_BdHszn_"
      },
      "outputs": [],
      "source": [
        "#@title Histogram with Custom Binning and Custom Color\n",
        "\n",
        "# For a list of color names:\n",
        "# https://matplotlib.org/stable/gallery/color/named_colors.html\n",
        "\n",
        "# Import library\n",
        "import seaborn as sns\n",
        "\n",
        "# Get user input for color\n",
        "custom_color = input('Type the name of a color : ')\n",
        "\n",
        "# Get user input for bins\n",
        "custom_binwidth = int(input('Enter the width of the bins : '))\n",
        "\n",
        "# Histogram\n",
        "sns.histplot(data['x'], color=custom_color, binwidth=custom_binwidth)"
      ]
    },
    {
      "cell_type": "code",
      "execution_count": null,
      "metadata": {
        "id": "R5t_XduBhI-h"
      },
      "outputs": [],
      "source": [
        "#@title Count Plot (Horizontal)\n",
        "\n",
        "# Import libraries\n",
        "import seaborn as sns\n",
        "import matplotlib.pyplot as plt\n",
        "\n",
        "# Bar plot - test with FIFA19 data\n",
        "plt.figure(figsize=(8, 15))\n",
        "sns.set_theme(style='darkgrid')\n",
        "ax = sns.countplot(y='x5', data=data, palette='Set1')\n",
        "\n",
        "# The style parameter of set_theme method can take\n",
        "# darkgrid, whitegrid, dark, white, and ticks as args.\n",
        "# The palette can be Set1, Set2, or Set3.\n",
        "# Adding a hue parameter will take the data column name\n",
        "# from the data frame to display legends."
      ]
    },
    {
      "cell_type": "code",
      "execution_count": null,
      "metadata": {
        "id": "Omrg6lKtnhKT"
      },
      "outputs": [],
      "source": [
        "#@title Bar Plot aka Count Plot (Vertical)\n",
        "\n",
        "# Import libraries\n",
        "import seaborn as sns\n",
        "import matplotlib.pyplot as plt\n",
        "\n",
        "# Bar plot\n",
        "plt.figure(figsize=(15, 8))\n",
        "sns.set_theme(style='dark')\n",
        "ax = sns.countplot(x='x', data=data, palette='Set2')\n",
        "\n",
        "# The style parameter of the set_theme method can be\n",
        "# darkgrid, whitegrid, dark, white, and ticks as arguments.\n",
        "# The palette can be Set1, Set2, or Set3.\n",
        "# The hue parameter will take the data column name\n",
        "# from the data frame to display legends."
      ]
    },
    {
      "cell_type": "code",
      "execution_count": null,
      "metadata": {
        "id": "x_QohoNEkLXV"
      },
      "outputs": [],
      "source": [
        "#@title Count Plot (Customization)\n",
        "\n",
        "# Import library\n",
        "import seaborn as sns\n",
        "\n",
        "# Bar plot - test with Red Wine Quality data\n",
        "sns.set_theme(style='darkgrid')\n",
        "ax = sns.countplot(y='y', data=data, linewidth=2,\n",
        "                  edgecolor=sns.color_palette('dark', 6))"
      ]
    },
    {
      "cell_type": "code",
      "execution_count": null,
      "metadata": {
        "id": "CKJVc8Pz5YGv"
      },
      "outputs": [],
      "source": [
        "#@title Bar Plot (No Parameter Adjustment)\n",
        "\n",
        "# Import libraries\n",
        "import seaborn as sns\n",
        "import matplotlib.pyplot as plt\n",
        "\n",
        "# Adjust figure size\n",
        "plt.figure(figsize=(15, 8))\n",
        "\n",
        "# Bar plot - test with Connecticut Housing data\n",
        "sns.barplot(x='y', y='x1', data=data)"
      ]
    },
    {
      "cell_type": "code",
      "execution_count": null,
      "metadata": {
        "id": "xqvHNu0-7hGr"
      },
      "outputs": [],
      "source": [
        "#@title Bar Plot (Adjust Color)\n",
        "\n",
        "# Import libraries\n",
        "import seaborn as sns\n",
        "import matplotlib.pyplot as plt\n",
        "\n",
        "# Adjust figure size\n",
        "plt.figure(figsize=(15, 8))\n",
        "\n",
        "# Bar plot (adjust color) - test with Connecticut Housing data\n",
        "sns.barplot(x='y', y='x1', data=data, color='orange')"
      ]
    },
    {
      "cell_type": "code",
      "execution_count": null,
      "metadata": {
        "id": "IjrpLGMp8mj1"
      },
      "outputs": [],
      "source": [
        "#@title Bar plot with One Bar\n",
        "\n",
        "# Import libraries\n",
        "import seaborn as sns\n",
        "import matplotlib.pyplot as plt\n",
        "\n",
        "# Filter data for one county\n",
        "fairfield = data[data['y'] == 'Fairfield']\n",
        "\n",
        "# Adjust figure size\n",
        "plt.figure(figsize=(3, 6))\n",
        "\n",
        "# Bar plot - test with Connecticut Housing data\n",
        "sns.barplot(x='y', y='x1', data=fairfield,\n",
        "            color='brown', errcolor='red', errwidth=5)"
      ]
    },
    {
      "cell_type": "markdown",
      "metadata": {
        "id": "0IMbC0VFPn8j"
      },
      "source": [
        "# Data Generation: Discrete and Continuous"
      ]
    },
    {
      "cell_type": "code",
      "execution_count": null,
      "metadata": {
        "id": "f8Vk7VMDtoN5"
      },
      "outputs": [],
      "source": [
        "#@title Generation of Random Data: Discrete RV (Array Edition)\n",
        "\n",
        "# Import library\n",
        "import numpy as np\n",
        "\n",
        "# Create a generator object\n",
        "rng = np.random.default_rng(seed=100)\n",
        "\n",
        "# Specify parameters for generator to produce integers:\n",
        "# Lower bound (inclusive)\n",
        "lower_bound = 1\n",
        "\n",
        "# Upper bound (exlusive)\n",
        "upper_bound = 7\n",
        "\n",
        "# Adjust array size\n",
        "array_size = 1\n",
        "\n",
        "# Generate a random integer (example: rolling a die)\n",
        "rand_num = rng.integers(low=lower_bound, high=upper_bound, size=array_size)\n",
        "\n",
        "# Display result\n",
        "rand_num"
      ]
    },
    {
      "cell_type": "code",
      "execution_count": null,
      "metadata": {
        "id": "pvTaz-jiuLRC"
      },
      "outputs": [],
      "source": [
        "#@title Generation of Random Data: Discrete RV (Matrix Edition)\n",
        "\n",
        "# Import library\n",
        "import numpy as np\n",
        "\n",
        "# Create a generator object\n",
        "rng = np.random.default_rng(seed=100)\n",
        "\n",
        "# Specify parameters for generator to produce integers:\n",
        "# Lower bound (inclusive)\n",
        "lower_bound = 1\n",
        "\n",
        "# Upper bound (exlusive)\n",
        "upper_bound = 7\n",
        "\n",
        "# Two dimensional array of values\n",
        "matrix_size = (2, 4)\n",
        "\n",
        "# Include upper_bound in list of random numbers\n",
        "list_num = rng.integers(low=lower_bound, high=upper_bound,\n",
        "                        size=matrix_size, endpoint=True)\n",
        "\n",
        "# Display result\n",
        "list_num"
      ]
    },
    {
      "cell_type": "code",
      "execution_count": null,
      "metadata": {
        "id": "MqN8xk9JuZ2Q"
      },
      "outputs": [],
      "source": [
        "#@title Generation of Random Data: Discrete RV (Binomial Distribution)\n",
        "import numpy as np\n",
        "\n",
        "# Create a generator object\n",
        "rng = np.random.default_rng(seed=100)\n",
        "\n",
        "# Number of trials\n",
        "num_trials = 10\n",
        "\n",
        "# Probability of success\n",
        "p_success = 0.5\n",
        "\n",
        "# Number of experiments\n",
        "num_exp = 1000\n",
        "\n",
        "# Generate sample from the binomial distribution\n",
        "sample = rng.binomial(num_trials, p_success, size=num_exp)\n",
        "\n",
        "# Display sample\n",
        "sample"
      ]
    },
    {
      "cell_type": "code",
      "execution_count": null,
      "metadata": {
        "id": "lOJhTOeFuqfV"
      },
      "outputs": [],
      "source": [
        "#@title Generation of Random Data: Continuous RV (Array Edition)\n",
        "\n",
        "# Import library\n",
        "import numpy as np\n",
        "\n",
        "# Create a generator object\n",
        "rng = np.random.default_rng(seed=42)\n",
        "\n",
        "# Specify parameters\n",
        "mean = 3\n",
        "standard_deviation = 2\n",
        "sample_size = 20\n",
        "\n",
        "# Generate sample with default values for loc=0, scale=1, and size=none\n",
        "sample = rng.normal(loc=mean, scale=standard_deviation, size=sample_size)\n",
        "\n",
        "# Display sample\n",
        "sample"
      ]
    },
    {
      "cell_type": "code",
      "execution_count": null,
      "metadata": {
        "id": "b_b2OZt6vClD"
      },
      "outputs": [],
      "source": [
        "#@title Generation of Random Data: Continuous RV (Matrix Edition)\n",
        "\n",
        "# Import library\n",
        "import numpy as np\n",
        "\n",
        "# Create a generator object\n",
        "rng = np.random.default_rng(seed=42)\n",
        "\n",
        "# Specify n-dimensional array of samples\n",
        "matrix_size = (2,4)\n",
        "\n",
        "# Generate sample\n",
        "sample = rng.normal(loc=mean, scale=standard_deviation, size=matrix_size)\n",
        "\n",
        "# Display sample\n",
        "sample"
      ]
    },
    {
      "cell_type": "code",
      "execution_count": null,
      "metadata": {
        "id": "ePR7qtwHvLOs"
      },
      "outputs": [],
      "source": [
        "#@title Generation of Random Data: Continuous RV (Multiple Means)\n",
        "\n",
        "# Import library\n",
        "import numpy as np\n",
        "\n",
        "# Create a generator object\n",
        "rng = np.random.default_rng(seed=42)\n",
        "\n",
        "# loc parameter can take an array of values: e.g. [mean1, mean2]\n",
        "loc_list = [0,5]\n",
        "\n",
        "# scale parameter can take an array of values: e.g. [std_dev1, std_dev2]\n",
        "deviation_list = [1,2]\n",
        "\n",
        "# size parameters has to match the array size in the previous parameters,\n",
        "# in this example column size (2) matches the array size (2)\n",
        "row = 5\n",
        "column = 2\n",
        "\n",
        "# Generate sample\n",
        "sample = rng.normal(loc=loc_list, scale=deviation_list, size=(row, column))\n",
        "\n",
        "# Display sample\n",
        "sample"
      ]
    },
    {
      "cell_type": "markdown",
      "metadata": {
        "id": "OKCNkT8YPtdy"
      },
      "source": [
        "# Arithmetics with Dataframe"
      ]
    },
    {
      "cell_type": "code",
      "execution_count": null,
      "metadata": {
        "id": "OOwgwCjvwO7y"
      },
      "outputs": [],
      "source": [
        "#@title Adding Two Columns\n",
        "\n",
        "# Add columns\n",
        "data['x'].add(data['x1']).head(5)"
      ]
    },
    {
      "cell_type": "code",
      "execution_count": null,
      "metadata": {
        "id": "S43Dq3JQwaF4"
      },
      "outputs": [],
      "source": [
        "#@title Subtracting One Column from Another\n",
        "\n",
        "# Subrtact columns\n",
        "data['x'].subtract(data['x1']).head(5)"
      ]
    },
    {
      "cell_type": "code",
      "execution_count": null,
      "metadata": {
        "id": "A8XWY5h_wjVC"
      },
      "outputs": [],
      "source": [
        "#@title Multiplying Two Columns\n",
        "\n",
        "# Multiply columns\n",
        "data['x'].multiply(data['x1']).head(5)"
      ]
    },
    {
      "cell_type": "code",
      "execution_count": null,
      "metadata": {
        "id": "nbrwHq9Ywutl"
      },
      "outputs": [],
      "source": [
        "#@title Dividing One Column from Another\n",
        "\n",
        "# Divide columns\n",
        "data['x'].divide(data['x1']).head(5)"
      ]
    },
    {
      "cell_type": "code",
      "execution_count": null,
      "metadata": {
        "id": "D5KOr0E1wz6C"
      },
      "outputs": [],
      "source": [
        "#@title Summing All Values in Columns with Numeric Values\n",
        "\n",
        "# Sum all numeric column values\n",
        "data.sum(numeric_only=True)"
      ]
    },
    {
      "cell_type": "code",
      "execution_count": null,
      "metadata": {
        "id": "OFK-BC8ow7FI"
      },
      "outputs": [],
      "source": [
        "#@title Summing All Values for a Specified Column\n",
        "\n",
        "# Sum all specific column values\n",
        "data['x'].sum()"
      ]
    },
    {
      "cell_type": "code",
      "execution_count": null,
      "metadata": {
        "id": "8LfDT6PNw9kq"
      },
      "outputs": [],
      "source": [
        "#@title Exponentiate a Specified Column\n",
        "\n",
        "# Exponentiate a specific column\n",
        "data['x'].pow(2)"
      ]
    },
    {
      "cell_type": "code",
      "execution_count": null,
      "metadata": {
        "id": "ni6vgpHzxHmt"
      },
      "outputs": [],
      "source": [
        "#@title Exponentiate Multiple Numeric Columns in Data Set\n",
        "\n",
        "# Exponentiate multiple numeric columns,\n",
        "# excluding column y, which has a string data type\n",
        "data.iloc[ 1: , 1:].pow(2)"
      ]
    },
    {
      "cell_type": "code",
      "execution_count": null,
      "metadata": {
        "id": "W1M-_AqUxfIv"
      },
      "outputs": [],
      "source": [
        "#@title Calculate Roots\n",
        "\n",
        "# Perform square root\n",
        "data.iloc[ 1: , 1:].pow(1/2)"
      ]
    },
    {
      "cell_type": "code",
      "execution_count": null,
      "metadata": {
        "id": "cZQvnlXR9JRF"
      },
      "outputs": [],
      "source": [
        "#@title Create New Column in Data Frame\n",
        "\n",
        "# Create new column\n",
        "data['x6'] = data['x'].pow(2)"
      ]
    },
    {
      "cell_type": "code",
      "execution_count": null,
      "metadata": {
        "id": "upAbbMK--Dfp"
      },
      "outputs": [],
      "source": [
        "#@title Rounding for One Data Frame Column\n",
        "\n",
        "# Round one column\n",
        "data['x6'].round(1)"
      ]
    },
    {
      "cell_type": "code",
      "execution_count": null,
      "metadata": {
        "id": "U1gOicSi--im"
      },
      "outputs": [],
      "source": [
        "#@title Rounding for the Whole Dataframe\n",
        "\n",
        "# Round the whole dataframe\n",
        "data.round(1)"
      ]
    },
    {
      "cell_type": "code",
      "execution_count": null,
      "metadata": {
        "id": "ruTFx52s_CmF"
      },
      "outputs": [],
      "source": [
        "#@title Find Missing Values\n",
        "\n",
        "# Find missing values\n",
        "bool_series = pd.isnull(data['x'])\n",
        "\n",
        "# Display result (may or may not show missing data)\n",
        "data[bool_series]"
      ]
    },
    {
      "cell_type": "code",
      "execution_count": null,
      "metadata": {
        "id": "8akdLlv0_UG-"
      },
      "outputs": [],
      "source": [
        "#@title Sorting the Data Frame\n",
        "\n",
        "# Sort data frame (this is not an in-place sort)\n",
        "data.sort_values(by=['y'], ascending=True)\n",
        "\n",
        "# We can assign the result dataframe to the\n",
        "# same variable to reflect the change using:\n",
        "# data = data.sort_values(by=['y'], ascending=True)"
      ]
    },
    {
      "cell_type": "code",
      "execution_count": null,
      "metadata": {
        "id": "2eOAJjKe_gv8"
      },
      "outputs": [],
      "source": [
        "#@title Selecting Cases in Data Frame\n",
        "\n",
        "# Select case\n",
        "data[data['x'] > 70]"
      ]
    },
    {
      "cell_type": "code",
      "execution_count": null,
      "metadata": {
        "id": "9VMQEFM0_k9d"
      },
      "outputs": [],
      "source": [
        "#@title Exclude a Participant Number from the Cases\n",
        "\n",
        "# Exclude participant number\n",
        "data[(data['x'] > 70) & (data['x'] != 75)]"
      ]
    },
    {
      "cell_type": "markdown",
      "metadata": {
        "id": "qY4sxKzEQvAZ"
      },
      "source": [
        "# Descriptive Statistics"
      ]
    },
    {
      "cell_type": "code",
      "execution_count": null,
      "metadata": {
        "id": "QWaDWcPj_xQ7"
      },
      "outputs": [],
      "source": [
        "#@title Generate Descriptive Statistics\n",
        "\n",
        "# Descriptive stats\n",
        "data.describe()"
      ]
    },
    {
      "cell_type": "code",
      "execution_count": null,
      "metadata": {
        "id": "-kVLQe_e1w05"
      },
      "outputs": [],
      "source": [
        "#@title Measures of Central Tendency with Missing Data\n",
        "\n",
        "# Test with Cancer Cases data ('x4' has missing data)\n",
        "print('Mean: ', data['x4'].mean())\n",
        "print('Median: ', data['x4'].median())\n",
        "print('Mode: ', data['x4'].mode())\n",
        "\n",
        "# For cancer cases dataset, no mode exists in column 'x4'.\n",
        "# No warnings or errors when performing central tendency measurements."
      ]
    },
    {
      "cell_type": "code",
      "execution_count": null,
      "metadata": {
        "id": "1gJXedGyAAf0"
      },
      "outputs": [],
      "source": [
        "#@title Mean\n",
        "\n",
        "# Mean\n",
        "data.mean()"
      ]
    },
    {
      "cell_type": "code",
      "execution_count": null,
      "metadata": {
        "id": "xFsBERQlADjD"
      },
      "outputs": [],
      "source": [
        "#@title Median\n",
        "\n",
        "# Median\n",
        "data.median()"
      ]
    },
    {
      "cell_type": "code",
      "execution_count": null,
      "metadata": {
        "id": "RnUiwxefAGbi"
      },
      "outputs": [],
      "source": [
        "#@title Mode\n",
        "\n",
        "# Mode\n",
        "data.mode()\n",
        "\n",
        "# Below result may show the data frame due to the\n",
        "# fact that this particular data frame has no mode."
      ]
    },
    {
      "cell_type": "code",
      "execution_count": null,
      "metadata": {
        "id": "xxHOk95wA3TO"
      },
      "outputs": [],
      "source": [
        "#@title Minimum\n",
        "\n",
        "# Minimun value\n",
        "data.min()\n",
        "\n",
        "# Minimum in column 'x'\n",
        "# data['x'].min()"
      ]
    },
    {
      "cell_type": "code",
      "execution_count": null,
      "metadata": {
        "id": "R1aV0YGQA_Ey"
      },
      "outputs": [],
      "source": [
        "#@title Maximum\n",
        "\n",
        "# Maximum value\n",
        "data.max()\n",
        "\n",
        "# Maximum in column 'x'\n",
        "# data['x'].max"
      ]
    },
    {
      "cell_type": "code",
      "execution_count": null,
      "metadata": {
        "id": "wIyQpSEQBDjR"
      },
      "outputs": [],
      "source": [
        "#@title Range\n",
        "\n",
        "# Range\n",
        "data['x'].max() - data['x'].min()"
      ]
    },
    {
      "cell_type": "code",
      "execution_count": null,
      "metadata": {
        "id": "VGt4KCWMBG0k"
      },
      "outputs": [],
      "source": [
        "#@title First Quartile\n",
        "\n",
        "# First quartile\n",
        "first_quartile = data.describe()['x']['25%']"
      ]
    },
    {
      "cell_type": "code",
      "execution_count": null,
      "metadata": {
        "id": "5UtAfp4gBN71"
      },
      "outputs": [],
      "source": [
        "#@title Second Quartile\n",
        "\n",
        "# Second quartile\n",
        "second_quartile = data.describe()['x']['50%']"
      ]
    },
    {
      "cell_type": "code",
      "execution_count": null,
      "metadata": {
        "id": "VKap7ZpNBQlz"
      },
      "outputs": [],
      "source": [
        "#@title Third quartile\n",
        "\n",
        "# Third quartile\n",
        "third_quartile = data.describe()['x']['75%']"
      ]
    },
    {
      "cell_type": "code",
      "execution_count": null,
      "metadata": {
        "id": "PBSD3P_xBYo5"
      },
      "outputs": [],
      "source": [
        "#@title Interquartile Range\n",
        "\n",
        "# Interquartile range\n",
        "third_quartile - first_quartile"
      ]
    },
    {
      "cell_type": "code",
      "execution_count": null,
      "metadata": {
        "id": "mhAQITkCBbIC"
      },
      "outputs": [],
      "source": [
        "#@title Variance\n",
        "\n",
        "# Variance\n",
        "data['x'].var()"
      ]
    },
    {
      "cell_type": "code",
      "execution_count": null,
      "metadata": {
        "id": "ByU90B8LBdiA"
      },
      "outputs": [],
      "source": [
        "#@title Standard Deviation\n",
        "\n",
        "# Standard deviation\n",
        "data['x'].std()"
      ]
    },
    {
      "cell_type": "code",
      "execution_count": null,
      "metadata": {
        "id": "IyL2fPd_BgDt"
      },
      "outputs": [],
      "source": [
        "#@title Skewness in One Column\n",
        "\n",
        "# Skewness for specific column\n",
        "data['x'].skew()"
      ]
    },
    {
      "cell_type": "code",
      "execution_count": null,
      "metadata": {
        "id": "o_0J1HUWBj7s"
      },
      "outputs": [],
      "source": [
        "#@title Measurement of Skewness for All Columns\n",
        "\n",
        "# Skewness for all columns\n",
        "data.skew(axis=0, numeric_only=True)"
      ]
    },
    {
      "cell_type": "code",
      "execution_count": null,
      "metadata": {
        "id": "uhDWP0CbBzuI"
      },
      "outputs": [],
      "source": [
        "#@title Measurement of Kurtosis\n",
        "\n",
        "# Kurtosis\n",
        "data.kurtosis(axis=0, numeric_only=True)"
      ]
    },
    {
      "cell_type": "code",
      "execution_count": null,
      "metadata": {
        "id": "mRLVB6s8yo12"
      },
      "outputs": [],
      "source": [
        "#@title Generate Frequency Table\n",
        "\n",
        "# Import library\n",
        "import numpy as np\n",
        "\n",
        "# Test data: Red Wine Quality\n",
        "# Create two arrays: one with a set of values, and\n",
        "# another to indicate the occurences of each value.\n",
        "unique_vals, occurrences = np.unique(data['y'], return_counts=True)\n",
        "\n",
        "# Create a Python dictionary object with\n",
        "# column names as keys and the\n",
        "# Pandas series (above) as values.\n",
        "freq_dist_dict = {\n",
        "    'Value': pd.Series(unique_vals),\n",
        "    'Frequency': pd.Series(occurrences),\n",
        "}\n",
        "\n",
        "# Frequency distribution table generation\n",
        "freq_table = pd.DataFrame(freq_dist_dict)\n",
        "\n",
        "# Display frequency table\n",
        "freq_table"
      ]
    },
    {
      "cell_type": "code",
      "execution_count": null,
      "metadata": {
        "id": "rQJgZLF_auon"
      },
      "outputs": [],
      "source": [
        "#@title Generate Frequency Table with Relative Frequency\n",
        "\n",
        "# Import library\n",
        "import numpy as np\n",
        "\n",
        "# Below is a function to calculate the percentage of the frequencies.\n",
        "# Divide each count by total number of counts multiplied by 100.\n",
        "def calculate_percentage(counts, total):\n",
        "  percentages = []\n",
        "  # Iterate through counts array\n",
        "  for each in counts:\n",
        "    # Calculate percentage and append list\n",
        "    percentages.append((each/total)*100)\n",
        "  # Result list to be returned\n",
        "  return percentages\n",
        "\n",
        "# Test data: Wine Quality\n",
        "# Here, we have 2 ndarrays: one is a set of values, and\n",
        "# the other indicates the occurences of each value.\n",
        "unique_vals, occurrences = np.unique(data['y'], return_counts=True)\n",
        "\n",
        "# Find relative frequency using customized function, calculate_percentage.\n",
        "rel_freq = calculate_percentage(occurrences, len(data['y']))\n",
        "\n",
        "# Pandas series objects for each column in data frame to be created later.\n",
        "s1 = pd.Series(unique_vals)\n",
        "s2 = pd.Series(occurrences)\n",
        "s3 = pd.Series(rel_freq)\n",
        "\n",
        "# Create a Python dictionary object with\n",
        "# column names as keys and the\n",
        "# Pandas series (above) as values.\n",
        "freq_dist_dict = {\n",
        "    'Value': s1,\n",
        "    'Frequency': s2,\n",
        "    'Percent': s3,\n",
        "}\n",
        "\n",
        " # Frequency distribution table\n",
        "freq_table_w_rel_freq = pd.DataFrame(freq_dist_dict)"
      ]
    },
    {
      "cell_type": "code",
      "execution_count": null,
      "metadata": {
        "id": "xVK2_-iFrpCo"
      },
      "outputs": [],
      "source": [
        "#@title Calculate Intervals Around Mean\n",
        "\n",
        "# Mean\n",
        "mean = data['x'].mean()\n",
        "\n",
        "# Standard deviation\n",
        "sdev = data['x'].std()\n",
        "\n",
        "# Get user input on number of standard deviation\n",
        "num_sd = int(input('Number of standard deviation away from mean: '))\n",
        "\n",
        "# Display interval around mean\n",
        "(mean - num_sd * sdev, mean + num_sd * sdev)"
      ]
    },
    {
      "cell_type": "code",
      "execution_count": null,
      "metadata": {
        "id": "C1LKC-5VdGWO"
      },
      "outputs": [],
      "source": [
        "#@title Calculate Intervals Around Mean By Using Numpy to Find Standard Deviation\n",
        "\n",
        "# Mean\n",
        "mean = data['x'].mean()\n",
        "\n",
        "# Population standard deviation\n",
        "sdev = np.std(data['x'], ddof=1)\n",
        "\n",
        "# Set to one standard deviation\n",
        "(mean - 1 * sdev, mean + 1 * sdev)"
      ]
    },
    {
      "cell_type": "code",
      "execution_count": null,
      "metadata": {
        "id": "AHt5UAc3dGWO"
      },
      "outputs": [],
      "source": [
        "#@title Calculate Intervals Around Mean (Numpy and User Input)\n",
        "\n",
        "# Mean\n",
        "mean = data['x'].mean()\n",
        "\n",
        "# Population standard deviation\n",
        "sdev = np.std(data['x'], ddof=1)\n",
        "\n",
        "# Get user input on number of standard deviation\n",
        "num_sd = int(input('Number of standard deviations away from mean: '))\n",
        "\n",
        "# Set to the number of standard deviations set by user\n",
        "(mean - num_sd * sdev, mean + num_sd * sdev)"
      ]
    },
    {
      "cell_type": "code",
      "execution_count": null,
      "metadata": {
        "id": "QWoKhv3AOesq"
      },
      "outputs": [],
      "source": [
        "#@title Determine Population Variance\n",
        "\n",
        "# Verify that data['x'] has no NA before calculation\n",
        "data['x'].var() * (len(data['x']) - 1) / len(data['x'])"
      ]
    },
    {
      "cell_type": "code",
      "execution_count": null,
      "metadata": {
        "id": "eclovlfSTJiv"
      },
      "outputs": [],
      "source": [
        "#@title Determine Population Standard Deviation\n",
        "\n",
        "# Import library\n",
        "from math import sqrt\n",
        "\n",
        "# Verify that data['x'] has no NA before calculation\n",
        "sqrt(data['x'].var() * (len(data['x']) - 1) / len(data['x']))"
      ]
    },
    {
      "cell_type": "code",
      "execution_count": null,
      "metadata": {
        "id": "LWD4AUWddGWP"
      },
      "outputs": [],
      "source": [
        "#@title Add an Outlier Score (Ver. 2)\n",
        "\n",
        "# Create a copy of column 'x'\n",
        "with_outlier = data['x']\n",
        "\n",
        "# Create a new single score equal to three times the mean\n",
        "new_score = data['x'].mean() * 3\n",
        "\n",
        "# Add the outlier to the copy\n",
        "with_outlier = with_outlier.append(pd.Series(new_score))\n",
        "\n",
        "# Show the mean of the new variable\n",
        "with_outlier.mean()"
      ]
    }
  ],
  "metadata": {
    "colab": {
      "provenance": [],
      "private_outputs": true,
      "include_colab_link": true
    },
    "kernelspec": {
      "display_name": "Python 3",
      "name": "python3"
    },
    "language_info": {
      "codemirror_mode": {
        "name": "ipython",
        "version": 3
      },
      "file_extension": ".py",
      "mimetype": "text/x-python",
      "name": "python",
      "nbconvert_exporter": "python",
      "pygments_lexer": "ipython3",
      "version": "3.8.5"
    }
  },
  "nbformat": 4,
  "nbformat_minor": 0
}